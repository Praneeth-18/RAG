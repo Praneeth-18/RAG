{
  "nbformat": 4,
  "nbformat_minor": 0,
  "metadata": {
    "colab": {
      "provenance": [],
      "machine_shape": "hm",
      "gpuType": "L4",
      "include_colab_link": true
    },
    "kernelspec": {
      "name": "python3",
      "display_name": "Python 3"
    },
    "language_info": {
      "name": "python"
    },
    "accelerator": "GPU",
    "widgets": {
      "application/vnd.jupyter.widget-state+json": {
        "f5a461559ea8419db6a6592dd9b52043": {
          "model_module": "@jupyter-widgets/controls",
          "model_name": "VBoxModel",
          "model_module_version": "1.5.0",
          "state": {
            "_dom_classes": [],
            "_model_module": "@jupyter-widgets/controls",
            "_model_module_version": "1.5.0",
            "_model_name": "VBoxModel",
            "_view_count": null,
            "_view_module": "@jupyter-widgets/controls",
            "_view_module_version": "1.5.0",
            "_view_name": "VBoxView",
            "box_style": "",
            "children": [
              "IPY_MODEL_aa0bef57e2764f0a8e4bf502ce6b775b",
              "IPY_MODEL_4efabc18214947049318638165cb5bd4",
              "IPY_MODEL_23d2d6db07c14012a507d2372af3cff5",
              "IPY_MODEL_1cae9c304a7747d6a5adc695b2835b28",
              "IPY_MODEL_6bd35d07e3364129a018de11890c5fba"
            ],
            "layout": "IPY_MODEL_f081467865844eb687b90a21906e3f31"
          }
        },
        "aa0bef57e2764f0a8e4bf502ce6b775b": {
          "model_module": "@jupyter-widgets/controls",
          "model_name": "HTMLModel",
          "model_module_version": "1.5.0",
          "state": {
            "_dom_classes": [],
            "_model_module": "@jupyter-widgets/controls",
            "_model_module_version": "1.5.0",
            "_model_name": "HTMLModel",
            "_view_count": null,
            "_view_module": "@jupyter-widgets/controls",
            "_view_module_version": "1.5.0",
            "_view_name": "HTMLView",
            "description": "",
            "description_tooltip": null,
            "layout": "IPY_MODEL_a18033bd62484104b071786c4b28729f",
            "placeholder": "​",
            "style": "IPY_MODEL_574389f76f814918813fc1c6ec829ac8",
            "value": "<center> <img\nsrc=https://www.kaggle.com/static/images/site-logo.png\nalt='Kaggle'> <br> Create an API token from <a\nhref=\"https://www.kaggle.com/settings/account\" target=\"_blank\">your Kaggle\nsettings page</a> and paste it below along with your Kaggle username. <br> </center>"
          }
        },
        "4efabc18214947049318638165cb5bd4": {
          "model_module": "@jupyter-widgets/controls",
          "model_name": "TextModel",
          "model_module_version": "1.5.0",
          "state": {
            "_dom_classes": [],
            "_model_module": "@jupyter-widgets/controls",
            "_model_module_version": "1.5.0",
            "_model_name": "TextModel",
            "_view_count": null,
            "_view_module": "@jupyter-widgets/controls",
            "_view_module_version": "1.5.0",
            "_view_name": "TextView",
            "continuous_update": true,
            "description": "Username:",
            "description_tooltip": null,
            "disabled": false,
            "layout": "IPY_MODEL_5a55a688f59f42e5bd4998913b0920d6",
            "placeholder": "​",
            "style": "IPY_MODEL_297511baf7374ee1a527677f8ee591a3",
            "value": ""
          }
        },
        "23d2d6db07c14012a507d2372af3cff5": {
          "model_module": "@jupyter-widgets/controls",
          "model_name": "PasswordModel",
          "model_module_version": "1.5.0",
          "state": {
            "_dom_classes": [],
            "_model_module": "@jupyter-widgets/controls",
            "_model_module_version": "1.5.0",
            "_model_name": "PasswordModel",
            "_view_count": null,
            "_view_module": "@jupyter-widgets/controls",
            "_view_module_version": "1.5.0",
            "_view_name": "PasswordView",
            "continuous_update": true,
            "description": "Token:",
            "description_tooltip": null,
            "disabled": false,
            "layout": "IPY_MODEL_8f5869c34e934fdba19854de4cd596b3",
            "placeholder": "​",
            "style": "IPY_MODEL_7f29afc98b2448fdb1c9edac2e6e7307",
            "value": ""
          }
        },
        "1cae9c304a7747d6a5adc695b2835b28": {
          "model_module": "@jupyter-widgets/controls",
          "model_name": "ButtonModel",
          "model_module_version": "1.5.0",
          "state": {
            "_dom_classes": [],
            "_model_module": "@jupyter-widgets/controls",
            "_model_module_version": "1.5.0",
            "_model_name": "ButtonModel",
            "_view_count": null,
            "_view_module": "@jupyter-widgets/controls",
            "_view_module_version": "1.5.0",
            "_view_name": "ButtonView",
            "button_style": "",
            "description": "Login",
            "disabled": false,
            "icon": "",
            "layout": "IPY_MODEL_ce6236a9eb75489dbc1dfa4b577733e1",
            "style": "IPY_MODEL_c79cae5bfb1241928440cbc6303bb37b",
            "tooltip": ""
          }
        },
        "6bd35d07e3364129a018de11890c5fba": {
          "model_module": "@jupyter-widgets/controls",
          "model_name": "HTMLModel",
          "model_module_version": "1.5.0",
          "state": {
            "_dom_classes": [],
            "_model_module": "@jupyter-widgets/controls",
            "_model_module_version": "1.5.0",
            "_model_name": "HTMLModel",
            "_view_count": null,
            "_view_module": "@jupyter-widgets/controls",
            "_view_module_version": "1.5.0",
            "_view_name": "HTMLView",
            "description": "",
            "description_tooltip": null,
            "layout": "IPY_MODEL_1c6ef7dcdec64a2eb3ee9b5f0a5de0c5",
            "placeholder": "​",
            "style": "IPY_MODEL_12b177af512a48c5a75df0bfa1f7bec2",
            "value": "\n<b>Thank You</b></center>"
          }
        },
        "f081467865844eb687b90a21906e3f31": {
          "model_module": "@jupyter-widgets/base",
          "model_name": "LayoutModel",
          "model_module_version": "1.2.0",
          "state": {
            "_model_module": "@jupyter-widgets/base",
            "_model_module_version": "1.2.0",
            "_model_name": "LayoutModel",
            "_view_count": null,
            "_view_module": "@jupyter-widgets/base",
            "_view_module_version": "1.2.0",
            "_view_name": "LayoutView",
            "align_content": null,
            "align_items": "center",
            "align_self": null,
            "border": null,
            "bottom": null,
            "display": "flex",
            "flex": null,
            "flex_flow": "column",
            "grid_area": null,
            "grid_auto_columns": null,
            "grid_auto_flow": null,
            "grid_auto_rows": null,
            "grid_column": null,
            "grid_gap": null,
            "grid_row": null,
            "grid_template_areas": null,
            "grid_template_columns": null,
            "grid_template_rows": null,
            "height": null,
            "justify_content": null,
            "justify_items": null,
            "left": null,
            "margin": null,
            "max_height": null,
            "max_width": null,
            "min_height": null,
            "min_width": null,
            "object_fit": null,
            "object_position": null,
            "order": null,
            "overflow": null,
            "overflow_x": null,
            "overflow_y": null,
            "padding": null,
            "right": null,
            "top": null,
            "visibility": null,
            "width": "50%"
          }
        },
        "a18033bd62484104b071786c4b28729f": {
          "model_module": "@jupyter-widgets/base",
          "model_name": "LayoutModel",
          "model_module_version": "1.2.0",
          "state": {
            "_model_module": "@jupyter-widgets/base",
            "_model_module_version": "1.2.0",
            "_model_name": "LayoutModel",
            "_view_count": null,
            "_view_module": "@jupyter-widgets/base",
            "_view_module_version": "1.2.0",
            "_view_name": "LayoutView",
            "align_content": null,
            "align_items": null,
            "align_self": null,
            "border": null,
            "bottom": null,
            "display": null,
            "flex": null,
            "flex_flow": null,
            "grid_area": null,
            "grid_auto_columns": null,
            "grid_auto_flow": null,
            "grid_auto_rows": null,
            "grid_column": null,
            "grid_gap": null,
            "grid_row": null,
            "grid_template_areas": null,
            "grid_template_columns": null,
            "grid_template_rows": null,
            "height": null,
            "justify_content": null,
            "justify_items": null,
            "left": null,
            "margin": null,
            "max_height": null,
            "max_width": null,
            "min_height": null,
            "min_width": null,
            "object_fit": null,
            "object_position": null,
            "order": null,
            "overflow": null,
            "overflow_x": null,
            "overflow_y": null,
            "padding": null,
            "right": null,
            "top": null,
            "visibility": null,
            "width": null
          }
        },
        "574389f76f814918813fc1c6ec829ac8": {
          "model_module": "@jupyter-widgets/controls",
          "model_name": "DescriptionStyleModel",
          "model_module_version": "1.5.0",
          "state": {
            "_model_module": "@jupyter-widgets/controls",
            "_model_module_version": "1.5.0",
            "_model_name": "DescriptionStyleModel",
            "_view_count": null,
            "_view_module": "@jupyter-widgets/base",
            "_view_module_version": "1.2.0",
            "_view_name": "StyleView",
            "description_width": ""
          }
        },
        "5a55a688f59f42e5bd4998913b0920d6": {
          "model_module": "@jupyter-widgets/base",
          "model_name": "LayoutModel",
          "model_module_version": "1.2.0",
          "state": {
            "_model_module": "@jupyter-widgets/base",
            "_model_module_version": "1.2.0",
            "_model_name": "LayoutModel",
            "_view_count": null,
            "_view_module": "@jupyter-widgets/base",
            "_view_module_version": "1.2.0",
            "_view_name": "LayoutView",
            "align_content": null,
            "align_items": null,
            "align_self": null,
            "border": null,
            "bottom": null,
            "display": null,
            "flex": null,
            "flex_flow": null,
            "grid_area": null,
            "grid_auto_columns": null,
            "grid_auto_flow": null,
            "grid_auto_rows": null,
            "grid_column": null,
            "grid_gap": null,
            "grid_row": null,
            "grid_template_areas": null,
            "grid_template_columns": null,
            "grid_template_rows": null,
            "height": null,
            "justify_content": null,
            "justify_items": null,
            "left": null,
            "margin": null,
            "max_height": null,
            "max_width": null,
            "min_height": null,
            "min_width": null,
            "object_fit": null,
            "object_position": null,
            "order": null,
            "overflow": null,
            "overflow_x": null,
            "overflow_y": null,
            "padding": null,
            "right": null,
            "top": null,
            "visibility": null,
            "width": null
          }
        },
        "297511baf7374ee1a527677f8ee591a3": {
          "model_module": "@jupyter-widgets/controls",
          "model_name": "DescriptionStyleModel",
          "model_module_version": "1.5.0",
          "state": {
            "_model_module": "@jupyter-widgets/controls",
            "_model_module_version": "1.5.0",
            "_model_name": "DescriptionStyleModel",
            "_view_count": null,
            "_view_module": "@jupyter-widgets/base",
            "_view_module_version": "1.2.0",
            "_view_name": "StyleView",
            "description_width": ""
          }
        },
        "8f5869c34e934fdba19854de4cd596b3": {
          "model_module": "@jupyter-widgets/base",
          "model_name": "LayoutModel",
          "model_module_version": "1.2.0",
          "state": {
            "_model_module": "@jupyter-widgets/base",
            "_model_module_version": "1.2.0",
            "_model_name": "LayoutModel",
            "_view_count": null,
            "_view_module": "@jupyter-widgets/base",
            "_view_module_version": "1.2.0",
            "_view_name": "LayoutView",
            "align_content": null,
            "align_items": null,
            "align_self": null,
            "border": null,
            "bottom": null,
            "display": null,
            "flex": null,
            "flex_flow": null,
            "grid_area": null,
            "grid_auto_columns": null,
            "grid_auto_flow": null,
            "grid_auto_rows": null,
            "grid_column": null,
            "grid_gap": null,
            "grid_row": null,
            "grid_template_areas": null,
            "grid_template_columns": null,
            "grid_template_rows": null,
            "height": null,
            "justify_content": null,
            "justify_items": null,
            "left": null,
            "margin": null,
            "max_height": null,
            "max_width": null,
            "min_height": null,
            "min_width": null,
            "object_fit": null,
            "object_position": null,
            "order": null,
            "overflow": null,
            "overflow_x": null,
            "overflow_y": null,
            "padding": null,
            "right": null,
            "top": null,
            "visibility": null,
            "width": null
          }
        },
        "7f29afc98b2448fdb1c9edac2e6e7307": {
          "model_module": "@jupyter-widgets/controls",
          "model_name": "DescriptionStyleModel",
          "model_module_version": "1.5.0",
          "state": {
            "_model_module": "@jupyter-widgets/controls",
            "_model_module_version": "1.5.0",
            "_model_name": "DescriptionStyleModel",
            "_view_count": null,
            "_view_module": "@jupyter-widgets/base",
            "_view_module_version": "1.2.0",
            "_view_name": "StyleView",
            "description_width": ""
          }
        },
        "ce6236a9eb75489dbc1dfa4b577733e1": {
          "model_module": "@jupyter-widgets/base",
          "model_name": "LayoutModel",
          "model_module_version": "1.2.0",
          "state": {
            "_model_module": "@jupyter-widgets/base",
            "_model_module_version": "1.2.0",
            "_model_name": "LayoutModel",
            "_view_count": null,
            "_view_module": "@jupyter-widgets/base",
            "_view_module_version": "1.2.0",
            "_view_name": "LayoutView",
            "align_content": null,
            "align_items": null,
            "align_self": null,
            "border": null,
            "bottom": null,
            "display": null,
            "flex": null,
            "flex_flow": null,
            "grid_area": null,
            "grid_auto_columns": null,
            "grid_auto_flow": null,
            "grid_auto_rows": null,
            "grid_column": null,
            "grid_gap": null,
            "grid_row": null,
            "grid_template_areas": null,
            "grid_template_columns": null,
            "grid_template_rows": null,
            "height": null,
            "justify_content": null,
            "justify_items": null,
            "left": null,
            "margin": null,
            "max_height": null,
            "max_width": null,
            "min_height": null,
            "min_width": null,
            "object_fit": null,
            "object_position": null,
            "order": null,
            "overflow": null,
            "overflow_x": null,
            "overflow_y": null,
            "padding": null,
            "right": null,
            "top": null,
            "visibility": null,
            "width": null
          }
        },
        "c79cae5bfb1241928440cbc6303bb37b": {
          "model_module": "@jupyter-widgets/controls",
          "model_name": "ButtonStyleModel",
          "model_module_version": "1.5.0",
          "state": {
            "_model_module": "@jupyter-widgets/controls",
            "_model_module_version": "1.5.0",
            "_model_name": "ButtonStyleModel",
            "_view_count": null,
            "_view_module": "@jupyter-widgets/base",
            "_view_module_version": "1.2.0",
            "_view_name": "StyleView",
            "button_color": null,
            "font_weight": ""
          }
        },
        "1c6ef7dcdec64a2eb3ee9b5f0a5de0c5": {
          "model_module": "@jupyter-widgets/base",
          "model_name": "LayoutModel",
          "model_module_version": "1.2.0",
          "state": {
            "_model_module": "@jupyter-widgets/base",
            "_model_module_version": "1.2.0",
            "_model_name": "LayoutModel",
            "_view_count": null,
            "_view_module": "@jupyter-widgets/base",
            "_view_module_version": "1.2.0",
            "_view_name": "LayoutView",
            "align_content": null,
            "align_items": null,
            "align_self": null,
            "border": null,
            "bottom": null,
            "display": null,
            "flex": null,
            "flex_flow": null,
            "grid_area": null,
            "grid_auto_columns": null,
            "grid_auto_flow": null,
            "grid_auto_rows": null,
            "grid_column": null,
            "grid_gap": null,
            "grid_row": null,
            "grid_template_areas": null,
            "grid_template_columns": null,
            "grid_template_rows": null,
            "height": null,
            "justify_content": null,
            "justify_items": null,
            "left": null,
            "margin": null,
            "max_height": null,
            "max_width": null,
            "min_height": null,
            "min_width": null,
            "object_fit": null,
            "object_position": null,
            "order": null,
            "overflow": null,
            "overflow_x": null,
            "overflow_y": null,
            "padding": null,
            "right": null,
            "top": null,
            "visibility": null,
            "width": null
          }
        },
        "12b177af512a48c5a75df0bfa1f7bec2": {
          "model_module": "@jupyter-widgets/controls",
          "model_name": "DescriptionStyleModel",
          "model_module_version": "1.5.0",
          "state": {
            "_model_module": "@jupyter-widgets/controls",
            "_model_module_version": "1.5.0",
            "_model_name": "DescriptionStyleModel",
            "_view_count": null,
            "_view_module": "@jupyter-widgets/base",
            "_view_module_version": "1.2.0",
            "_view_name": "StyleView",
            "description_width": ""
          }
        }
      }
    }
  },
  "cells": [
    {
      "cell_type": "markdown",
      "metadata": {
        "id": "view-in-github",
        "colab_type": "text"
      },
      "source": [
        "<a href=\"https://colab.research.google.com/github/Praneeth-18/RAG/blob/main/Part_2_HW_8.ipynb\" target=\"_parent\"><img src=\"https://colab.research.google.com/assets/colab-badge.svg\" alt=\"Open In Colab\"/></a>"
      ]
    },
    {
      "cell_type": "markdown",
      "source": [
        "***This Notebook runs only on L4***"
      ],
      "metadata": {
        "id": "a-U2hRWoUER5"
      }
    },
    {
      "cell_type": "code",
      "execution_count": null,
      "metadata": {
        "id": "UJ2tjhJ9FWz3"
      },
      "outputs": [],
      "source": [
        "import os\n",
        "from google.colab import userdata\n",
        "\n",
        "# Note: `userdata.get` is a Colab API. If you're not using Colab, set the env\n",
        "# vars as appropriate for your system.\n",
        "os.environ[\"KAGGLE_USERNAME\"] = userdata.get('KAGGLE_USERNAME')\n",
        "os.environ[\"KAGGLE_KEY\"] = userdata.get('KAGGLE_KEY')"
      ]
    },
    {
      "cell_type": "code",
      "source": [
        "!pip install kagglehub\n",
        "\n",
        "# Then you import kagglehub and use its login().\n",
        "import kagglehub\n",
        "kagglehub.login()"
      ],
      "metadata": {
        "colab": {
          "base_uri": "https://localhost:8080/",
          "height": 398,
          "referenced_widgets": [
            "f5a461559ea8419db6a6592dd9b52043",
            "aa0bef57e2764f0a8e4bf502ce6b775b",
            "4efabc18214947049318638165cb5bd4",
            "23d2d6db07c14012a507d2372af3cff5",
            "1cae9c304a7747d6a5adc695b2835b28",
            "6bd35d07e3364129a018de11890c5fba",
            "f081467865844eb687b90a21906e3f31",
            "a18033bd62484104b071786c4b28729f",
            "574389f76f814918813fc1c6ec829ac8",
            "5a55a688f59f42e5bd4998913b0920d6",
            "297511baf7374ee1a527677f8ee591a3",
            "8f5869c34e934fdba19854de4cd596b3",
            "7f29afc98b2448fdb1c9edac2e6e7307",
            "ce6236a9eb75489dbc1dfa4b577733e1",
            "c79cae5bfb1241928440cbc6303bb37b",
            "1c6ef7dcdec64a2eb3ee9b5f0a5de0c5",
            "12b177af512a48c5a75df0bfa1f7bec2"
          ]
        },
        "id": "O8psmvcDFmX7",
        "outputId": "c8dc7719-dffd-4eea-b64e-fb0b623fe93d"
      },
      "execution_count": null,
      "outputs": [
        {
          "output_type": "stream",
          "name": "stdout",
          "text": [
            "Requirement already satisfied: kagglehub in /usr/local/lib/python3.10/dist-packages (0.2.2)\n",
            "Requirement already satisfied: requests in /usr/local/lib/python3.10/dist-packages (from kagglehub) (2.31.0)\n",
            "Requirement already satisfied: tqdm in /usr/local/lib/python3.10/dist-packages (from kagglehub) (4.66.2)\n",
            "Requirement already satisfied: charset-normalizer<4,>=2 in /usr/local/lib/python3.10/dist-packages (from requests->kagglehub) (3.3.2)\n",
            "Requirement already satisfied: idna<4,>=2.5 in /usr/local/lib/python3.10/dist-packages (from requests->kagglehub) (3.6)\n",
            "Requirement already satisfied: urllib3<3,>=1.21.1 in /usr/local/lib/python3.10/dist-packages (from requests->kagglehub) (2.0.7)\n",
            "Requirement already satisfied: certifi>=2017.4.17 in /usr/local/lib/python3.10/dist-packages (from requests->kagglehub) (2024.2.2)\n"
          ]
        },
        {
          "output_type": "display_data",
          "data": {
            "text/plain": [
              "VBox(children=(HTML(value='<center> <img\\nsrc=https://www.kaggle.com/static/images/site-logo.png\\nalt=\\'Kaggle…"
            ],
            "application/vnd.jupyter.widget-view+json": {
              "version_major": 2,
              "version_minor": 0,
              "model_id": "f5a461559ea8419db6a6592dd9b52043"
            }
          },
          "metadata": {}
        }
      ]
    },
    {
      "cell_type": "code",
      "source": [
        "!pip install --upgrade keras-nlp\n",
        "!pip install --upgrade keras"
      ],
      "metadata": {
        "colab": {
          "base_uri": "https://localhost:8080/"
        },
        "id": "qSoEhyfNFsPd",
        "outputId": "d72b7959-f982-495b-e0e3-8b1fc78470d0"
      },
      "execution_count": null,
      "outputs": [
        {
          "output_type": "stream",
          "name": "stdout",
          "text": [
            "Requirement already satisfied: keras-nlp in /usr/local/lib/python3.10/dist-packages (0.9.3)\n",
            "Requirement already satisfied: keras-core in /usr/local/lib/python3.10/dist-packages (from keras-nlp) (0.1.7)\n",
            "Requirement already satisfied: absl-py in /usr/local/lib/python3.10/dist-packages (from keras-nlp) (1.4.0)\n",
            "Requirement already satisfied: numpy in /usr/local/lib/python3.10/dist-packages (from keras-nlp) (1.25.2)\n",
            "Requirement already satisfied: packaging in /usr/local/lib/python3.10/dist-packages (from keras-nlp) (24.0)\n",
            "Requirement already satisfied: regex in /usr/local/lib/python3.10/dist-packages (from keras-nlp) (2023.12.25)\n",
            "Requirement already satisfied: rich in /usr/local/lib/python3.10/dist-packages (from keras-nlp) (13.7.1)\n",
            "Requirement already satisfied: dm-tree in /usr/local/lib/python3.10/dist-packages (from keras-nlp) (0.1.8)\n",
            "Requirement already satisfied: kagglehub in /usr/local/lib/python3.10/dist-packages (from keras-nlp) (0.2.2)\n",
            "Requirement already satisfied: tensorflow-text in /usr/local/lib/python3.10/dist-packages (from keras-nlp) (2.16.1)\n",
            "Requirement already satisfied: requests in /usr/local/lib/python3.10/dist-packages (from kagglehub->keras-nlp) (2.31.0)\n",
            "Requirement already satisfied: tqdm in /usr/local/lib/python3.10/dist-packages (from kagglehub->keras-nlp) (4.66.2)\n",
            "Requirement already satisfied: namex in /usr/local/lib/python3.10/dist-packages (from keras-core->keras-nlp) (0.0.8)\n",
            "Requirement already satisfied: h5py in /usr/local/lib/python3.10/dist-packages (from keras-core->keras-nlp) (3.11.0)\n",
            "Requirement already satisfied: markdown-it-py>=2.2.0 in /usr/local/lib/python3.10/dist-packages (from rich->keras-nlp) (3.0.0)\n",
            "Requirement already satisfied: pygments<3.0.0,>=2.13.0 in /usr/local/lib/python3.10/dist-packages (from rich->keras-nlp) (2.16.1)\n",
            "Requirement already satisfied: tensorflow<2.17,>=2.16.1 in /usr/local/lib/python3.10/dist-packages (from tensorflow-text->keras-nlp) (2.16.1)\n",
            "Requirement already satisfied: mdurl~=0.1 in /usr/local/lib/python3.10/dist-packages (from markdown-it-py>=2.2.0->rich->keras-nlp) (0.1.2)\n",
            "Requirement already satisfied: astunparse>=1.6.0 in /usr/local/lib/python3.10/dist-packages (from tensorflow<2.17,>=2.16.1->tensorflow-text->keras-nlp) (1.6.3)\n",
            "Requirement already satisfied: flatbuffers>=23.5.26 in /usr/local/lib/python3.10/dist-packages (from tensorflow<2.17,>=2.16.1->tensorflow-text->keras-nlp) (24.3.25)\n",
            "Requirement already satisfied: gast!=0.5.0,!=0.5.1,!=0.5.2,>=0.2.1 in /usr/local/lib/python3.10/dist-packages (from tensorflow<2.17,>=2.16.1->tensorflow-text->keras-nlp) (0.5.4)\n",
            "Requirement already satisfied: google-pasta>=0.1.1 in /usr/local/lib/python3.10/dist-packages (from tensorflow<2.17,>=2.16.1->tensorflow-text->keras-nlp) (0.2.0)\n",
            "Requirement already satisfied: libclang>=13.0.0 in /usr/local/lib/python3.10/dist-packages (from tensorflow<2.17,>=2.16.1->tensorflow-text->keras-nlp) (18.1.1)\n",
            "Requirement already satisfied: ml-dtypes~=0.3.1 in /usr/local/lib/python3.10/dist-packages (from tensorflow<2.17,>=2.16.1->tensorflow-text->keras-nlp) (0.3.2)\n",
            "Requirement already satisfied: opt-einsum>=2.3.2 in /usr/local/lib/python3.10/dist-packages (from tensorflow<2.17,>=2.16.1->tensorflow-text->keras-nlp) (3.3.0)\n",
            "Requirement already satisfied: protobuf!=4.21.0,!=4.21.1,!=4.21.2,!=4.21.3,!=4.21.4,!=4.21.5,<5.0.0dev,>=3.20.3 in /usr/local/lib/python3.10/dist-packages (from tensorflow<2.17,>=2.16.1->tensorflow-text->keras-nlp) (3.20.3)\n",
            "Requirement already satisfied: setuptools in /usr/local/lib/python3.10/dist-packages (from tensorflow<2.17,>=2.16.1->tensorflow-text->keras-nlp) (67.7.2)\n",
            "Requirement already satisfied: six>=1.12.0 in /usr/local/lib/python3.10/dist-packages (from tensorflow<2.17,>=2.16.1->tensorflow-text->keras-nlp) (1.16.0)\n",
            "Requirement already satisfied: termcolor>=1.1.0 in /usr/local/lib/python3.10/dist-packages (from tensorflow<2.17,>=2.16.1->tensorflow-text->keras-nlp) (2.4.0)\n",
            "Requirement already satisfied: typing-extensions>=3.6.6 in /usr/local/lib/python3.10/dist-packages (from tensorflow<2.17,>=2.16.1->tensorflow-text->keras-nlp) (4.10.0)\n",
            "Requirement already satisfied: wrapt>=1.11.0 in /usr/local/lib/python3.10/dist-packages (from tensorflow<2.17,>=2.16.1->tensorflow-text->keras-nlp) (1.14.1)\n",
            "Requirement already satisfied: grpcio<2.0,>=1.24.3 in /usr/local/lib/python3.10/dist-packages (from tensorflow<2.17,>=2.16.1->tensorflow-text->keras-nlp) (1.62.1)\n",
            "Requirement already satisfied: tensorboard<2.17,>=2.16 in /usr/local/lib/python3.10/dist-packages (from tensorflow<2.17,>=2.16.1->tensorflow-text->keras-nlp) (2.16.2)\n",
            "Requirement already satisfied: keras>=3.0.0 in /usr/local/lib/python3.10/dist-packages (from tensorflow<2.17,>=2.16.1->tensorflow-text->keras-nlp) (3.3.2)\n",
            "Requirement already satisfied: tensorflow-io-gcs-filesystem>=0.23.1 in /usr/local/lib/python3.10/dist-packages (from tensorflow<2.17,>=2.16.1->tensorflow-text->keras-nlp) (0.36.0)\n",
            "Requirement already satisfied: charset-normalizer<4,>=2 in /usr/local/lib/python3.10/dist-packages (from requests->kagglehub->keras-nlp) (3.3.2)\n",
            "Requirement already satisfied: idna<4,>=2.5 in /usr/local/lib/python3.10/dist-packages (from requests->kagglehub->keras-nlp) (3.6)\n",
            "Requirement already satisfied: urllib3<3,>=1.21.1 in /usr/local/lib/python3.10/dist-packages (from requests->kagglehub->keras-nlp) (2.0.7)\n",
            "Requirement already satisfied: certifi>=2017.4.17 in /usr/local/lib/python3.10/dist-packages (from requests->kagglehub->keras-nlp) (2024.2.2)\n",
            "Requirement already satisfied: wheel<1.0,>=0.23.0 in /usr/local/lib/python3.10/dist-packages (from astunparse>=1.6.0->tensorflow<2.17,>=2.16.1->tensorflow-text->keras-nlp) (0.43.0)\n",
            "Requirement already satisfied: optree in /usr/local/lib/python3.10/dist-packages (from keras>=3.0.0->tensorflow<2.17,>=2.16.1->tensorflow-text->keras-nlp) (0.11.0)\n",
            "Requirement already satisfied: markdown>=2.6.8 in /usr/local/lib/python3.10/dist-packages (from tensorboard<2.17,>=2.16->tensorflow<2.17,>=2.16.1->tensorflow-text->keras-nlp) (3.6)\n",
            "Requirement already satisfied: tensorboard-data-server<0.8.0,>=0.7.0 in /usr/local/lib/python3.10/dist-packages (from tensorboard<2.17,>=2.16->tensorflow<2.17,>=2.16.1->tensorflow-text->keras-nlp) (0.7.2)\n",
            "Requirement already satisfied: werkzeug>=1.0.1 in /usr/local/lib/python3.10/dist-packages (from tensorboard<2.17,>=2.16->tensorflow<2.17,>=2.16.1->tensorflow-text->keras-nlp) (3.0.1)\n",
            "Requirement already satisfied: MarkupSafe>=2.1.1 in /usr/local/lib/python3.10/dist-packages (from werkzeug>=1.0.1->tensorboard<2.17,>=2.16->tensorflow<2.17,>=2.16.1->tensorflow-text->keras-nlp) (2.1.5)\n",
            "Requirement already satisfied: keras in /usr/local/lib/python3.10/dist-packages (3.3.2)\n",
            "Requirement already satisfied: absl-py in /usr/local/lib/python3.10/dist-packages (from keras) (1.4.0)\n",
            "Requirement already satisfied: numpy in /usr/local/lib/python3.10/dist-packages (from keras) (1.25.2)\n",
            "Requirement already satisfied: rich in /usr/local/lib/python3.10/dist-packages (from keras) (13.7.1)\n",
            "Requirement already satisfied: namex in /usr/local/lib/python3.10/dist-packages (from keras) (0.0.8)\n",
            "Requirement already satisfied: h5py in /usr/local/lib/python3.10/dist-packages (from keras) (3.11.0)\n",
            "Requirement already satisfied: optree in /usr/local/lib/python3.10/dist-packages (from keras) (0.11.0)\n",
            "Requirement already satisfied: ml-dtypes in /usr/local/lib/python3.10/dist-packages (from keras) (0.3.2)\n",
            "Requirement already satisfied: typing-extensions>=4.0.0 in /usr/local/lib/python3.10/dist-packages (from optree->keras) (4.10.0)\n",
            "Requirement already satisfied: markdown-it-py>=2.2.0 in /usr/local/lib/python3.10/dist-packages (from rich->keras) (3.0.0)\n",
            "Requirement already satisfied: pygments<3.0.0,>=2.13.0 in /usr/local/lib/python3.10/dist-packages (from rich->keras) (2.16.1)\n",
            "Requirement already satisfied: mdurl~=0.1 in /usr/local/lib/python3.10/dist-packages (from markdown-it-py>=2.2.0->rich->keras) (0.1.2)\n"
          ]
        }
      ]
    },
    {
      "cell_type": "code",
      "source": [
        "import keras_nlp\n",
        "\n",
        "gemma_lm = keras_nlp.models.GemmaCausalLM.from_preset(\"gemma_2b_en\")"
      ],
      "metadata": {
        "colab": {
          "base_uri": "https://localhost:8080/"
        },
        "id": "IIIrc0eQFzpG",
        "outputId": "d2633dde-8eaa-48f6-95be-68de6c5364a9"
      },
      "execution_count": null,
      "outputs": [
        {
          "output_type": "stream",
          "name": "stderr",
          "text": [
            "Attaching 'config.json' from model 'keras/gemma/keras/gemma_2b_en/2' to your Colab notebook...\n",
            "Attaching 'config.json' from model 'keras/gemma/keras/gemma_2b_en/2' to your Colab notebook...\n",
            "Attaching 'model.weights.h5' from model 'keras/gemma/keras/gemma_2b_en/2' to your Colab notebook...\n",
            "Attaching 'tokenizer.json' from model 'keras/gemma/keras/gemma_2b_en/2' to your Colab notebook...\n",
            "Attaching 'assets/tokenizer/vocabulary.spm' from model 'keras/gemma/keras/gemma_2b_en/2' to your Colab notebook...\n"
          ]
        }
      ]
    },
    {
      "cell_type": "code",
      "source": [
        "gemma_lm.summary()"
      ],
      "metadata": {
        "colab": {
          "base_uri": "https://localhost:8080/",
          "height": 397
        },
        "id": "ZXXXgR9EF9z_",
        "outputId": "f8031af4-ce84-4fbd-b4a9-e86c97b24008"
      },
      "execution_count": null,
      "outputs": [
        {
          "output_type": "display_data",
          "data": {
            "text/plain": [
              "\u001b[1mPreprocessor: \"gemma_causal_lm_preprocessor\"\u001b[0m\n"
            ],
            "text/html": [
              "<pre style=\"white-space:pre;overflow-x:auto;line-height:normal;font-family:Menlo,'DejaVu Sans Mono',consolas,'Courier New',monospace\"><span style=\"font-weight: bold\">Preprocessor: \"gemma_causal_lm_preprocessor\"</span>\n",
              "</pre>\n"
            ]
          },
          "metadata": {}
        },
        {
          "output_type": "display_data",
          "data": {
            "text/plain": [
              "┏━━━━━━━━━━━━━━━━━━━━━━━━━━━━━━━━━━━━━━━━━━━━━━━━━━━━┳━━━━━━━━━━━━━━━━━━━━━━━━━━━━━━━━━━━━━━━━━━━━━━━━━━━━━┓\n",
              "┃\u001b[1m \u001b[0m\u001b[1mTokenizer (type)                                  \u001b[0m\u001b[1m \u001b[0m┃\u001b[1m \u001b[0m\u001b[1m                                            Vocab #\u001b[0m\u001b[1m \u001b[0m┃\n",
              "┡━━━━━━━━━━━━━━━━━━━━━━━━━━━━━━━━━━━━━━━━━━━━━━━━━━━━╇━━━━━━━━━━━━━━━━━━━━━━━━━━━━━━━━━━━━━━━━━━━━━━━━━━━━━┩\n",
              "│ gemma_tokenizer (\u001b[38;5;33mGemmaTokenizer\u001b[0m)                   │                                             \u001b[38;5;34m256,000\u001b[0m │\n",
              "└────────────────────────────────────────────────────┴─────────────────────────────────────────────────────┘\n"
            ],
            "text/html": [
              "<pre style=\"white-space:pre;overflow-x:auto;line-height:normal;font-family:Menlo,'DejaVu Sans Mono',consolas,'Courier New',monospace\">┏━━━━━━━━━━━━━━━━━━━━━━━━━━━━━━━━━━━━━━━━━━━━━━━━━━━━┳━━━━━━━━━━━━━━━━━━━━━━━━━━━━━━━━━━━━━━━━━━━━━━━━━━━━━┓\n",
              "┃<span style=\"font-weight: bold\"> Tokenizer (type)                                   </span>┃<span style=\"font-weight: bold\">                                             Vocab # </span>┃\n",
              "┡━━━━━━━━━━━━━━━━━━━━━━━━━━━━━━━━━━━━━━━━━━━━━━━━━━━━╇━━━━━━━━━━━━━━━━━━━━━━━━━━━━━━━━━━━━━━━━━━━━━━━━━━━━━┩\n",
              "│ gemma_tokenizer (<span style=\"color: #0087ff; text-decoration-color: #0087ff\">GemmaTokenizer</span>)                   │                                             <span style=\"color: #00af00; text-decoration-color: #00af00\">256,000</span> │\n",
              "└────────────────────────────────────────────────────┴─────────────────────────────────────────────────────┘\n",
              "</pre>\n"
            ]
          },
          "metadata": {}
        },
        {
          "output_type": "display_data",
          "data": {
            "text/plain": [
              "\u001b[1mModel: \"gemma_causal_lm\"\u001b[0m\n"
            ],
            "text/html": [
              "<pre style=\"white-space:pre;overflow-x:auto;line-height:normal;font-family:Menlo,'DejaVu Sans Mono',consolas,'Courier New',monospace\"><span style=\"font-weight: bold\">Model: \"gemma_causal_lm\"</span>\n",
              "</pre>\n"
            ]
          },
          "metadata": {}
        },
        {
          "output_type": "display_data",
          "data": {
            "text/plain": [
              "┏━━━━━━━━━━━━━━━━━━━━━━━━━━━━━━━┳━━━━━━━━━━━━━━━━━━━━━━━━━━━┳━━━━━━━━━━━━━━━━━┳━━━━━━━━━━━━━━━━━━━━━━━━━━━━┓\n",
              "┃\u001b[1m \u001b[0m\u001b[1mLayer (type)                 \u001b[0m\u001b[1m \u001b[0m┃\u001b[1m \u001b[0m\u001b[1mOutput Shape             \u001b[0m\u001b[1m \u001b[0m┃\u001b[1m \u001b[0m\u001b[1m        Param #\u001b[0m\u001b[1m \u001b[0m┃\u001b[1m \u001b[0m\u001b[1mConnected to              \u001b[0m\u001b[1m \u001b[0m┃\n",
              "┡━━━━━━━━━━━━━━━━━━━━━━━━━━━━━━━╇━━━━━━━━━━━━━━━━━━━━━━━━━━━╇━━━━━━━━━━━━━━━━━╇━━━━━━━━━━━━━━━━━━━━━━━━━━━━┩\n",
              "│ padding_mask (\u001b[38;5;33mInputLayer\u001b[0m)     │ (\u001b[38;5;45mNone\u001b[0m, \u001b[38;5;45mNone\u001b[0m)              │               \u001b[38;5;34m0\u001b[0m │ -                          │\n",
              "├───────────────────────────────┼───────────────────────────┼─────────────────┼────────────────────────────┤\n",
              "│ token_ids (\u001b[38;5;33mInputLayer\u001b[0m)        │ (\u001b[38;5;45mNone\u001b[0m, \u001b[38;5;45mNone\u001b[0m)              │               \u001b[38;5;34m0\u001b[0m │ -                          │\n",
              "├───────────────────────────────┼───────────────────────────┼─────────────────┼────────────────────────────┤\n",
              "│ gemma_backbone                │ (\u001b[38;5;45mNone\u001b[0m, \u001b[38;5;45mNone\u001b[0m, \u001b[38;5;34m2048\u001b[0m)        │   \u001b[38;5;34m2,506,172,416\u001b[0m │ padding_mask[\u001b[38;5;34m0\u001b[0m][\u001b[38;5;34m0\u001b[0m],        │\n",
              "│ (\u001b[38;5;33mGemmaBackbone\u001b[0m)               │                           │                 │ token_ids[\u001b[38;5;34m0\u001b[0m][\u001b[38;5;34m0\u001b[0m]            │\n",
              "├───────────────────────────────┼───────────────────────────┼─────────────────┼────────────────────────────┤\n",
              "│ token_embedding               │ (\u001b[38;5;45mNone\u001b[0m, \u001b[38;5;45mNone\u001b[0m, \u001b[38;5;34m256000\u001b[0m)      │     \u001b[38;5;34m524,288,000\u001b[0m │ gemma_backbone[\u001b[38;5;34m0\u001b[0m][\u001b[38;5;34m0\u001b[0m]       │\n",
              "│ (\u001b[38;5;33mReversibleEmbedding\u001b[0m)         │                           │                 │                            │\n",
              "└───────────────────────────────┴───────────────────────────┴─────────────────┴────────────────────────────┘\n"
            ],
            "text/html": [
              "<pre style=\"white-space:pre;overflow-x:auto;line-height:normal;font-family:Menlo,'DejaVu Sans Mono',consolas,'Courier New',monospace\">┏━━━━━━━━━━━━━━━━━━━━━━━━━━━━━━━┳━━━━━━━━━━━━━━━━━━━━━━━━━━━┳━━━━━━━━━━━━━━━━━┳━━━━━━━━━━━━━━━━━━━━━━━━━━━━┓\n",
              "┃<span style=\"font-weight: bold\"> Layer (type)                  </span>┃<span style=\"font-weight: bold\"> Output Shape              </span>┃<span style=\"font-weight: bold\">         Param # </span>┃<span style=\"font-weight: bold\"> Connected to               </span>┃\n",
              "┡━━━━━━━━━━━━━━━━━━━━━━━━━━━━━━━╇━━━━━━━━━━━━━━━━━━━━━━━━━━━╇━━━━━━━━━━━━━━━━━╇━━━━━━━━━━━━━━━━━━━━━━━━━━━━┩\n",
              "│ padding_mask (<span style=\"color: #0087ff; text-decoration-color: #0087ff\">InputLayer</span>)     │ (<span style=\"color: #00d7ff; text-decoration-color: #00d7ff\">None</span>, <span style=\"color: #00d7ff; text-decoration-color: #00d7ff\">None</span>)              │               <span style=\"color: #00af00; text-decoration-color: #00af00\">0</span> │ -                          │\n",
              "├───────────────────────────────┼───────────────────────────┼─────────────────┼────────────────────────────┤\n",
              "│ token_ids (<span style=\"color: #0087ff; text-decoration-color: #0087ff\">InputLayer</span>)        │ (<span style=\"color: #00d7ff; text-decoration-color: #00d7ff\">None</span>, <span style=\"color: #00d7ff; text-decoration-color: #00d7ff\">None</span>)              │               <span style=\"color: #00af00; text-decoration-color: #00af00\">0</span> │ -                          │\n",
              "├───────────────────────────────┼───────────────────────────┼─────────────────┼────────────────────────────┤\n",
              "│ gemma_backbone                │ (<span style=\"color: #00d7ff; text-decoration-color: #00d7ff\">None</span>, <span style=\"color: #00d7ff; text-decoration-color: #00d7ff\">None</span>, <span style=\"color: #00af00; text-decoration-color: #00af00\">2048</span>)        │   <span style=\"color: #00af00; text-decoration-color: #00af00\">2,506,172,416</span> │ padding_mask[<span style=\"color: #00af00; text-decoration-color: #00af00\">0</span>][<span style=\"color: #00af00; text-decoration-color: #00af00\">0</span>],        │\n",
              "│ (<span style=\"color: #0087ff; text-decoration-color: #0087ff\">GemmaBackbone</span>)               │                           │                 │ token_ids[<span style=\"color: #00af00; text-decoration-color: #00af00\">0</span>][<span style=\"color: #00af00; text-decoration-color: #00af00\">0</span>]            │\n",
              "├───────────────────────────────┼───────────────────────────┼─────────────────┼────────────────────────────┤\n",
              "│ token_embedding               │ (<span style=\"color: #00d7ff; text-decoration-color: #00d7ff\">None</span>, <span style=\"color: #00d7ff; text-decoration-color: #00d7ff\">None</span>, <span style=\"color: #00af00; text-decoration-color: #00af00\">256000</span>)      │     <span style=\"color: #00af00; text-decoration-color: #00af00\">524,288,000</span> │ gemma_backbone[<span style=\"color: #00af00; text-decoration-color: #00af00\">0</span>][<span style=\"color: #00af00; text-decoration-color: #00af00\">0</span>]       │\n",
              "│ (<span style=\"color: #0087ff; text-decoration-color: #0087ff\">ReversibleEmbedding</span>)         │                           │                 │                            │\n",
              "└───────────────────────────────┴───────────────────────────┴─────────────────┴────────────────────────────┘\n",
              "</pre>\n"
            ]
          },
          "metadata": {}
        },
        {
          "output_type": "display_data",
          "data": {
            "text/plain": [
              "\u001b[1m Total params: \u001b[0m\u001b[38;5;34m2,506,172,416\u001b[0m (9.34 GB)\n"
            ],
            "text/html": [
              "<pre style=\"white-space:pre;overflow-x:auto;line-height:normal;font-family:Menlo,'DejaVu Sans Mono',consolas,'Courier New',monospace\"><span style=\"font-weight: bold\"> Total params: </span><span style=\"color: #00af00; text-decoration-color: #00af00\">2,506,172,416</span> (9.34 GB)\n",
              "</pre>\n"
            ]
          },
          "metadata": {}
        },
        {
          "output_type": "display_data",
          "data": {
            "text/plain": [
              "\u001b[1m Trainable params: \u001b[0m\u001b[38;5;34m2,506,172,416\u001b[0m (9.34 GB)\n"
            ],
            "text/html": [
              "<pre style=\"white-space:pre;overflow-x:auto;line-height:normal;font-family:Menlo,'DejaVu Sans Mono',consolas,'Courier New',monospace\"><span style=\"font-weight: bold\"> Trainable params: </span><span style=\"color: #00af00; text-decoration-color: #00af00\">2,506,172,416</span> (9.34 GB)\n",
              "</pre>\n"
            ]
          },
          "metadata": {}
        },
        {
          "output_type": "display_data",
          "data": {
            "text/plain": [
              "\u001b[1m Non-trainable params: \u001b[0m\u001b[38;5;34m0\u001b[0m (0.00 B)\n"
            ],
            "text/html": [
              "<pre style=\"white-space:pre;overflow-x:auto;line-height:normal;font-family:Menlo,'DejaVu Sans Mono',consolas,'Courier New',monospace\"><span style=\"font-weight: bold\"> Non-trainable params: </span><span style=\"color: #00af00; text-decoration-color: #00af00\">0</span> (0.00 B)\n",
              "</pre>\n"
            ]
          },
          "metadata": {}
        }
      ]
    },
    {
      "cell_type": "code",
      "source": [
        "import re\n",
        "\n",
        "def format_poem(text):\n",
        "    # Extract text starting from \"Answer:\" onwards\n",
        "    text = text.split(\"Answer:\", 1)[-1]\n",
        "\n",
        "    # Remove any \"Step x/y\" patterns\n",
        "    text = re.sub(r'Step \\d+/\\d+', '', text)\n",
        "\n",
        "    # Replace any sequence of spaces with a single space\n",
        "    text = re.sub(r'\\s+', ' ', text).strip()\n",
        "\n",
        "    # Split the string at the specified punctuation marks followed by a space\n",
        "    # This keeps the punctuation marks at the end of each line\n",
        "    lines = re.split(r'(?<=[,.:;]) ', text)\n",
        "\n",
        "    # Join the lines with a newline character to format as a poem\n",
        "    poem = '\\n'.join(lines)\n",
        "\n",
        "    return poem\n",
        "\n",
        "def tokenize(s):\n",
        "    return re.split('\\s+', s)\n",
        "\n",
        "def untokenize(ts):\n",
        "    return ' '.join(ts)\n",
        "\n",
        "def equalize(s1, s2):\n",
        "    # This version of equalize doesn't highlight differences, just aligns for side-by-side comparison\n",
        "    l1 = tokenize(s1)\n",
        "    l2 = tokenize(s2)\n",
        "    return untokenize(l1), untokenize(l2)\n",
        "\n",
        "def insert_newlines(string, every=64, window=10):\n",
        "    result = []\n",
        "    from_string = string\n",
        "    while len(from_string) > every:\n",
        "        cut_off = every\n",
        "        while cut_off > every - window and from_string[cut_off - 1] != ' ':\n",
        "            cut_off -= 1\n",
        "        result.append(from_string[:cut_off])\n",
        "        from_string = from_string[cut_off:].lstrip()\n",
        "    result.append(from_string)\n",
        "    return result\n",
        "\n",
        "def show_comparison(s1, s2, title1='Text 1', title2='Text 2', width=40, margin=10, sidebyside=True):\n",
        "    s1, s2 = equalize(s1, s2)\n",
        "\n",
        "    if sidebyside:\n",
        "        s1_lines = insert_newlines(s1, width, margin)\n",
        "        s2_lines = insert_newlines(s2, width, margin)\n",
        "        max_lines = max(len(s1_lines), len(s2_lines))\n",
        "\n",
        "        # Pad shorter list with empty strings to match lengths\n",
        "        s1_lines.extend([''] * (max_lines - len(s1_lines)))\n",
        "        s2_lines.extend([''] * (max_lines - len(s2_lines)))\n",
        "\n",
        "        # Print titles\n",
        "        print(title1.center(width) + ' | ' + title2.center(width) + ' |')\n",
        "\n",
        "        for i in range(max_lines):\n",
        "            lft = s1_lines[i].ljust(width)\n",
        "            rgt = s2_lines[i].ljust(width)\n",
        "            print(lft + ' | ' + rgt + ' | ')\n",
        "    else:\n",
        "        print(title1 + '\\n' + s1)\n",
        "        print(title2 + '\\n' + s2)\n"
      ],
      "metadata": {
        "id": "pU8uzzncGtcY"
      },
      "execution_count": null,
      "outputs": []
    },
    {
      "cell_type": "code",
      "source": [
        "prompt = \"Write a Poem titled If....\"\n",
        "result1 = format_poem(gemma_lm.generate(prompt, max_length=128))"
      ],
      "metadata": {
        "id": "vwsvz4KwF9xx"
      },
      "execution_count": null,
      "outputs": []
    },
    {
      "cell_type": "code",
      "source": [
        "print(format_poem(result1))"
      ],
      "metadata": {
        "colab": {
          "base_uri": "https://localhost:8080/"
        },
        "id": "T65JrxyUKBIQ",
        "outputId": "e1caa91c-5f1c-4a9a-e212-2717886f49e0"
      },
      "execution_count": null,
      "outputs": [
        {
          "output_type": "stream",
          "name": "stdout",
          "text": [
            "Write a Poem titled If....\n",
            "If you could write a poem about your life,\n",
            "what would you write about? Write a poem about your life.\n",
            "Write a poem about your life.\n",
            "Write a poem about your life.\n",
            "Write a poem about your life.\n",
            "Write a poem about your life.\n",
            "Write a poem about your life.\n",
            "Write a poem about your life.\n",
            "Write a poem about your life.\n",
            "Write a poem about your life.\n",
            "Write a poem about your life.\n",
            "Write a poem about your life.\n",
            "Write a poem about your life.\n",
            "Write a poem about your life.\n"
          ]
        }
      ]
    },
    {
      "cell_type": "markdown",
      "source": [
        "# Fine Tuning on Rudyard Kiplings' Poems"
      ],
      "metadata": {
        "id": "opK1btK-Vbo9"
      }
    },
    {
      "cell_type": "code",
      "source": [
        "import pandas as pd\n",
        "Rudyard_poems = pd.read_csv('/content/drive/MyDrive/257rp/RP_df.csv')"
      ],
      "metadata": {
        "id": "DWOYks9sF9vc"
      },
      "execution_count": null,
      "outputs": []
    },
    {
      "cell_type": "code",
      "source": [
        "Rudyard_poems"
      ],
      "metadata": {
        "colab": {
          "base_uri": "https://localhost:8080/",
          "height": 363
        },
        "id": "ScRUsxMQHA5e",
        "outputId": "f0947b52-5b8d-4852-9100-ff66657aaf08"
      },
      "execution_count": null,
      "outputs": [
        {
          "output_type": "execute_result",
          "data": {
            "text/plain": [
              "                           Title  \\\n",
              "0                         If....   \n",
              "1          The Law Of The Jungle   \n",
              "2      The Way Through The Woods   \n",
              "3                          Boots   \n",
              "4                The Camels Hump   \n",
              "5                    Fuzzy-Wuzzy   \n",
              "6  The Last of the Light Brigade   \n",
              "7      Dirge Of The Dead Sisters   \n",
              "8                         Sussex   \n",
              "9                    The Hyaenas   \n",
              "\n",
              "                                                Poem  \\\n",
              "0  if you can keep your head when all about you a...   \n",
              "1  now this is the law of the jungle as old and a...   \n",
              "2  they shut the road through the woods seventy y...   \n",
              "3  infantry columns we are foot—slog—slog—slog—sl...   \n",
              "4  the camel hump is an ugly lump which well you ...   \n",
              "5  we have fought with many men acrost the seas a...   \n",
              "6  there were thirty million english who talked o...   \n",
              "7  who recalls the twilight and the ranged tents ...   \n",
              "8  god gave all men all earth to love but since o...   \n",
              "9  after the burial parties leave and the baffled...   \n",
              "\n",
              "                                      Poem_for_Human  \n",
              "0  \\n\\tIf you can keep your head when all about y...  \n",
              "1  Now this is the Law of the Jungle — as old and...  \n",
              "2  \\r\\n\\tThey shut the road through the woods\\r\\n...  \n",
              "3  INFANTRY COLUMNS\\n\\nWe're foot—slog—slog—slog—...  \n",
              "4  The Camel's hump is an ugly lump \\nWhich well ...  \n",
              "5  We've fought with many men acrost the seas,\\n ...  \n",
              "6  There were thirty million English who talked o...  \n",
              "7  Who recalls the twilight and the ranged tents ...  \n",
              "8  GOD gave all men all earth to love,\\n    But s...  \n",
              "9  After the burial-parties leave\\n  And the baff...  "
            ],
            "text/html": [
              "\n",
              "  <div id=\"df-c25532b9-0c88-4527-aff0-39405260d6dc\" class=\"colab-df-container\">\n",
              "    <div>\n",
              "<style scoped>\n",
              "    .dataframe tbody tr th:only-of-type {\n",
              "        vertical-align: middle;\n",
              "    }\n",
              "\n",
              "    .dataframe tbody tr th {\n",
              "        vertical-align: top;\n",
              "    }\n",
              "\n",
              "    .dataframe thead th {\n",
              "        text-align: right;\n",
              "    }\n",
              "</style>\n",
              "<table border=\"1\" class=\"dataframe\">\n",
              "  <thead>\n",
              "    <tr style=\"text-align: right;\">\n",
              "      <th></th>\n",
              "      <th>Title</th>\n",
              "      <th>Poem</th>\n",
              "      <th>Poem_for_Human</th>\n",
              "    </tr>\n",
              "  </thead>\n",
              "  <tbody>\n",
              "    <tr>\n",
              "      <th>0</th>\n",
              "      <td>If....</td>\n",
              "      <td>if you can keep your head when all about you a...</td>\n",
              "      <td>\\n\\tIf you can keep your head when all about y...</td>\n",
              "    </tr>\n",
              "    <tr>\n",
              "      <th>1</th>\n",
              "      <td>The Law Of The Jungle</td>\n",
              "      <td>now this is the law of the jungle as old and a...</td>\n",
              "      <td>Now this is the Law of the Jungle — as old and...</td>\n",
              "    </tr>\n",
              "    <tr>\n",
              "      <th>2</th>\n",
              "      <td>The Way Through The Woods</td>\n",
              "      <td>they shut the road through the woods seventy y...</td>\n",
              "      <td>\\r\\n\\tThey shut the road through the woods\\r\\n...</td>\n",
              "    </tr>\n",
              "    <tr>\n",
              "      <th>3</th>\n",
              "      <td>Boots</td>\n",
              "      <td>infantry columns we are foot—slog—slog—slog—sl...</td>\n",
              "      <td>INFANTRY COLUMNS\\n\\nWe're foot—slog—slog—slog—...</td>\n",
              "    </tr>\n",
              "    <tr>\n",
              "      <th>4</th>\n",
              "      <td>The Camels Hump</td>\n",
              "      <td>the camel hump is an ugly lump which well you ...</td>\n",
              "      <td>The Camel's hump is an ugly lump \\nWhich well ...</td>\n",
              "    </tr>\n",
              "    <tr>\n",
              "      <th>5</th>\n",
              "      <td>Fuzzy-Wuzzy</td>\n",
              "      <td>we have fought with many men acrost the seas a...</td>\n",
              "      <td>We've fought with many men acrost the seas,\\n ...</td>\n",
              "    </tr>\n",
              "    <tr>\n",
              "      <th>6</th>\n",
              "      <td>The Last of the Light Brigade</td>\n",
              "      <td>there were thirty million english who talked o...</td>\n",
              "      <td>There were thirty million English who talked o...</td>\n",
              "    </tr>\n",
              "    <tr>\n",
              "      <th>7</th>\n",
              "      <td>Dirge Of The Dead Sisters</td>\n",
              "      <td>who recalls the twilight and the ranged tents ...</td>\n",
              "      <td>Who recalls the twilight and the ranged tents ...</td>\n",
              "    </tr>\n",
              "    <tr>\n",
              "      <th>8</th>\n",
              "      <td>Sussex</td>\n",
              "      <td>god gave all men all earth to love but since o...</td>\n",
              "      <td>GOD gave all men all earth to love,\\n    But s...</td>\n",
              "    </tr>\n",
              "    <tr>\n",
              "      <th>9</th>\n",
              "      <td>The Hyaenas</td>\n",
              "      <td>after the burial parties leave and the baffled...</td>\n",
              "      <td>After the burial-parties leave\\n  And the baff...</td>\n",
              "    </tr>\n",
              "  </tbody>\n",
              "</table>\n",
              "</div>\n",
              "    <div class=\"colab-df-buttons\">\n",
              "\n",
              "  <div class=\"colab-df-container\">\n",
              "    <button class=\"colab-df-convert\" onclick=\"convertToInteractive('df-c25532b9-0c88-4527-aff0-39405260d6dc')\"\n",
              "            title=\"Convert this dataframe to an interactive table.\"\n",
              "            style=\"display:none;\">\n",
              "\n",
              "  <svg xmlns=\"http://www.w3.org/2000/svg\" height=\"24px\" viewBox=\"0 -960 960 960\">\n",
              "    <path d=\"M120-120v-720h720v720H120Zm60-500h600v-160H180v160Zm220 220h160v-160H400v160Zm0 220h160v-160H400v160ZM180-400h160v-160H180v160Zm440 0h160v-160H620v160ZM180-180h160v-160H180v160Zm440 0h160v-160H620v160Z\"/>\n",
              "  </svg>\n",
              "    </button>\n",
              "\n",
              "  <style>\n",
              "    .colab-df-container {\n",
              "      display:flex;\n",
              "      gap: 12px;\n",
              "    }\n",
              "\n",
              "    .colab-df-convert {\n",
              "      background-color: #E8F0FE;\n",
              "      border: none;\n",
              "      border-radius: 50%;\n",
              "      cursor: pointer;\n",
              "      display: none;\n",
              "      fill: #1967D2;\n",
              "      height: 32px;\n",
              "      padding: 0 0 0 0;\n",
              "      width: 32px;\n",
              "    }\n",
              "\n",
              "    .colab-df-convert:hover {\n",
              "      background-color: #E2EBFA;\n",
              "      box-shadow: 0px 1px 2px rgba(60, 64, 67, 0.3), 0px 1px 3px 1px rgba(60, 64, 67, 0.15);\n",
              "      fill: #174EA6;\n",
              "    }\n",
              "\n",
              "    .colab-df-buttons div {\n",
              "      margin-bottom: 4px;\n",
              "    }\n",
              "\n",
              "    [theme=dark] .colab-df-convert {\n",
              "      background-color: #3B4455;\n",
              "      fill: #D2E3FC;\n",
              "    }\n",
              "\n",
              "    [theme=dark] .colab-df-convert:hover {\n",
              "      background-color: #434B5C;\n",
              "      box-shadow: 0px 1px 3px 1px rgba(0, 0, 0, 0.15);\n",
              "      filter: drop-shadow(0px 1px 2px rgba(0, 0, 0, 0.3));\n",
              "      fill: #FFFFFF;\n",
              "    }\n",
              "  </style>\n",
              "\n",
              "    <script>\n",
              "      const buttonEl =\n",
              "        document.querySelector('#df-c25532b9-0c88-4527-aff0-39405260d6dc button.colab-df-convert');\n",
              "      buttonEl.style.display =\n",
              "        google.colab.kernel.accessAllowed ? 'block' : 'none';\n",
              "\n",
              "      async function convertToInteractive(key) {\n",
              "        const element = document.querySelector('#df-c25532b9-0c88-4527-aff0-39405260d6dc');\n",
              "        const dataTable =\n",
              "          await google.colab.kernel.invokeFunction('convertToInteractive',\n",
              "                                                    [key], {});\n",
              "        if (!dataTable) return;\n",
              "\n",
              "        const docLinkHtml = 'Like what you see? Visit the ' +\n",
              "          '<a target=\"_blank\" href=https://colab.research.google.com/notebooks/data_table.ipynb>data table notebook</a>'\n",
              "          + ' to learn more about interactive tables.';\n",
              "        element.innerHTML = '';\n",
              "        dataTable['output_type'] = 'display_data';\n",
              "        await google.colab.output.renderOutput(dataTable, element);\n",
              "        const docLink = document.createElement('div');\n",
              "        docLink.innerHTML = docLinkHtml;\n",
              "        element.appendChild(docLink);\n",
              "      }\n",
              "    </script>\n",
              "  </div>\n",
              "\n",
              "\n",
              "<div id=\"df-e003fbbb-6e02-4006-95d1-2297ef07563d\">\n",
              "  <button class=\"colab-df-quickchart\" onclick=\"quickchart('df-e003fbbb-6e02-4006-95d1-2297ef07563d')\"\n",
              "            title=\"Suggest charts\"\n",
              "            style=\"display:none;\">\n",
              "\n",
              "<svg xmlns=\"http://www.w3.org/2000/svg\" height=\"24px\"viewBox=\"0 0 24 24\"\n",
              "     width=\"24px\">\n",
              "    <g>\n",
              "        <path d=\"M19 3H5c-1.1 0-2 .9-2 2v14c0 1.1.9 2 2 2h14c1.1 0 2-.9 2-2V5c0-1.1-.9-2-2-2zM9 17H7v-7h2v7zm4 0h-2V7h2v10zm4 0h-2v-4h2v4z\"/>\n",
              "    </g>\n",
              "</svg>\n",
              "  </button>\n",
              "\n",
              "<style>\n",
              "  .colab-df-quickchart {\n",
              "      --bg-color: #E8F0FE;\n",
              "      --fill-color: #1967D2;\n",
              "      --hover-bg-color: #E2EBFA;\n",
              "      --hover-fill-color: #174EA6;\n",
              "      --disabled-fill-color: #AAA;\n",
              "      --disabled-bg-color: #DDD;\n",
              "  }\n",
              "\n",
              "  [theme=dark] .colab-df-quickchart {\n",
              "      --bg-color: #3B4455;\n",
              "      --fill-color: #D2E3FC;\n",
              "      --hover-bg-color: #434B5C;\n",
              "      --hover-fill-color: #FFFFFF;\n",
              "      --disabled-bg-color: #3B4455;\n",
              "      --disabled-fill-color: #666;\n",
              "  }\n",
              "\n",
              "  .colab-df-quickchart {\n",
              "    background-color: var(--bg-color);\n",
              "    border: none;\n",
              "    border-radius: 50%;\n",
              "    cursor: pointer;\n",
              "    display: none;\n",
              "    fill: var(--fill-color);\n",
              "    height: 32px;\n",
              "    padding: 0;\n",
              "    width: 32px;\n",
              "  }\n",
              "\n",
              "  .colab-df-quickchart:hover {\n",
              "    background-color: var(--hover-bg-color);\n",
              "    box-shadow: 0 1px 2px rgba(60, 64, 67, 0.3), 0 1px 3px 1px rgba(60, 64, 67, 0.15);\n",
              "    fill: var(--button-hover-fill-color);\n",
              "  }\n",
              "\n",
              "  .colab-df-quickchart-complete:disabled,\n",
              "  .colab-df-quickchart-complete:disabled:hover {\n",
              "    background-color: var(--disabled-bg-color);\n",
              "    fill: var(--disabled-fill-color);\n",
              "    box-shadow: none;\n",
              "  }\n",
              "\n",
              "  .colab-df-spinner {\n",
              "    border: 2px solid var(--fill-color);\n",
              "    border-color: transparent;\n",
              "    border-bottom-color: var(--fill-color);\n",
              "    animation:\n",
              "      spin 1s steps(1) infinite;\n",
              "  }\n",
              "\n",
              "  @keyframes spin {\n",
              "    0% {\n",
              "      border-color: transparent;\n",
              "      border-bottom-color: var(--fill-color);\n",
              "      border-left-color: var(--fill-color);\n",
              "    }\n",
              "    20% {\n",
              "      border-color: transparent;\n",
              "      border-left-color: var(--fill-color);\n",
              "      border-top-color: var(--fill-color);\n",
              "    }\n",
              "    30% {\n",
              "      border-color: transparent;\n",
              "      border-left-color: var(--fill-color);\n",
              "      border-top-color: var(--fill-color);\n",
              "      border-right-color: var(--fill-color);\n",
              "    }\n",
              "    40% {\n",
              "      border-color: transparent;\n",
              "      border-right-color: var(--fill-color);\n",
              "      border-top-color: var(--fill-color);\n",
              "    }\n",
              "    60% {\n",
              "      border-color: transparent;\n",
              "      border-right-color: var(--fill-color);\n",
              "    }\n",
              "    80% {\n",
              "      border-color: transparent;\n",
              "      border-right-color: var(--fill-color);\n",
              "      border-bottom-color: var(--fill-color);\n",
              "    }\n",
              "    90% {\n",
              "      border-color: transparent;\n",
              "      border-bottom-color: var(--fill-color);\n",
              "    }\n",
              "  }\n",
              "</style>\n",
              "\n",
              "  <script>\n",
              "    async function quickchart(key) {\n",
              "      const quickchartButtonEl =\n",
              "        document.querySelector('#' + key + ' button');\n",
              "      quickchartButtonEl.disabled = true;  // To prevent multiple clicks.\n",
              "      quickchartButtonEl.classList.add('colab-df-spinner');\n",
              "      try {\n",
              "        const charts = await google.colab.kernel.invokeFunction(\n",
              "            'suggestCharts', [key], {});\n",
              "      } catch (error) {\n",
              "        console.error('Error during call to suggestCharts:', error);\n",
              "      }\n",
              "      quickchartButtonEl.classList.remove('colab-df-spinner');\n",
              "      quickchartButtonEl.classList.add('colab-df-quickchart-complete');\n",
              "    }\n",
              "    (() => {\n",
              "      let quickchartButtonEl =\n",
              "        document.querySelector('#df-e003fbbb-6e02-4006-95d1-2297ef07563d button');\n",
              "      quickchartButtonEl.style.display =\n",
              "        google.colab.kernel.accessAllowed ? 'block' : 'none';\n",
              "    })();\n",
              "  </script>\n",
              "</div>\n",
              "\n",
              "  <div id=\"id_69453e52-f13c-4436-a069-8358fc959525\">\n",
              "    <style>\n",
              "      .colab-df-generate {\n",
              "        background-color: #E8F0FE;\n",
              "        border: none;\n",
              "        border-radius: 50%;\n",
              "        cursor: pointer;\n",
              "        display: none;\n",
              "        fill: #1967D2;\n",
              "        height: 32px;\n",
              "        padding: 0 0 0 0;\n",
              "        width: 32px;\n",
              "      }\n",
              "\n",
              "      .colab-df-generate:hover {\n",
              "        background-color: #E2EBFA;\n",
              "        box-shadow: 0px 1px 2px rgba(60, 64, 67, 0.3), 0px 1px 3px 1px rgba(60, 64, 67, 0.15);\n",
              "        fill: #174EA6;\n",
              "      }\n",
              "\n",
              "      [theme=dark] .colab-df-generate {\n",
              "        background-color: #3B4455;\n",
              "        fill: #D2E3FC;\n",
              "      }\n",
              "\n",
              "      [theme=dark] .colab-df-generate:hover {\n",
              "        background-color: #434B5C;\n",
              "        box-shadow: 0px 1px 3px 1px rgba(0, 0, 0, 0.15);\n",
              "        filter: drop-shadow(0px 1px 2px rgba(0, 0, 0, 0.3));\n",
              "        fill: #FFFFFF;\n",
              "      }\n",
              "    </style>\n",
              "    <button class=\"colab-df-generate\" onclick=\"generateWithVariable('Rudyard_poems')\"\n",
              "            title=\"Generate code using this dataframe.\"\n",
              "            style=\"display:none;\">\n",
              "\n",
              "  <svg xmlns=\"http://www.w3.org/2000/svg\" height=\"24px\"viewBox=\"0 0 24 24\"\n",
              "       width=\"24px\">\n",
              "    <path d=\"M7,19H8.4L18.45,9,17,7.55,7,17.6ZM5,21V16.75L18.45,3.32a2,2,0,0,1,2.83,0l1.4,1.43a1.91,1.91,0,0,1,.58,1.4,1.91,1.91,0,0,1-.58,1.4L9.25,21ZM18.45,9,17,7.55Zm-12,3A5.31,5.31,0,0,0,4.9,8.1,5.31,5.31,0,0,0,1,6.5,5.31,5.31,0,0,0,4.9,4.9,5.31,5.31,0,0,0,6.5,1,5.31,5.31,0,0,0,8.1,4.9,5.31,5.31,0,0,0,12,6.5,5.46,5.46,0,0,0,6.5,12Z\"/>\n",
              "  </svg>\n",
              "    </button>\n",
              "    <script>\n",
              "      (() => {\n",
              "      const buttonEl =\n",
              "        document.querySelector('#id_69453e52-f13c-4436-a069-8358fc959525 button.colab-df-generate');\n",
              "      buttonEl.style.display =\n",
              "        google.colab.kernel.accessAllowed ? 'block' : 'none';\n",
              "\n",
              "      buttonEl.onclick = () => {\n",
              "        google.colab.notebook.generateWithVariable('Rudyard_poems');\n",
              "      }\n",
              "      })();\n",
              "    </script>\n",
              "  </div>\n",
              "\n",
              "    </div>\n",
              "  </div>\n"
            ],
            "application/vnd.google.colaboratory.intrinsic+json": {
              "type": "dataframe",
              "variable_name": "Rudyard_poems",
              "summary": "{\n  \"name\": \"Rudyard_poems\",\n  \"rows\": 10,\n  \"fields\": [\n    {\n      \"column\": \"Title\",\n      \"properties\": {\n        \"dtype\": \"string\",\n        \"num_unique_values\": 10,\n        \"samples\": [\n          \"Sussex\",\n          \"The Law Of The Jungle\",\n          \"Fuzzy-Wuzzy\"\n        ],\n        \"semantic_type\": \"\",\n        \"description\": \"\"\n      }\n    },\n    {\n      \"column\": \"Poem\",\n      \"properties\": {\n        \"dtype\": \"string\",\n        \"num_unique_values\": 10,\n        \"samples\": [\n          \"god gave all men all earth to love but since our hearts are small ordained for each one spot should prove belov\\u00e8d over all that as he watched creation\\u2019s birth so we in godlike mood may of our love create our earth and see that it is good so one shall baltic pines content as one some surrey glade or one the palm grove\\u2019s droned lament before levuka\\u2019s trade each to his choice and rejoice the lot has fallen to me in fair ground\\u2014in fair ground\\u2014 yea sussex by the sea no tender hearted garden crowns no bosomed woods adorn our blunt bow headed whale backed downs but gnarled and writhen thorn\\u2014 bare slopes where chasing shadows skim and through the gaps revealed belt upon belt the wooded dim blue goodness of the weald clean of officious fence or hedge half wild and wholly tame the wise turf cloaks the white cliff edge as when the romans came what sign of those that fought and died at shift of sword and sword the barrow and the camp abide the sunlight and the sward here leaps ashore the full sou\\u2019west all heavy winged with brine here lies above the folded crest the channel\\u2019s leaden line and here the sea fogs lap and cling and here each warning each the sheep bells and the ship bells ring along the hidden beach we have no waters to delight our broad and brookless vales\\u2014 only the dewpond on the height unfed that never fails\\u2014 whereby no tattered herbage tells which way the season flies\\u2014 only our close bit thyme that smells like dawn in paradise here through the strong and shadeless days the tinkling silence thrills or little lost down churches praise the lord who made the hills but here the old gods guard their round and in her secret heart the heathen kingdom wilfrid found dreams as she dwells apart though all the rest were all my share with equal soul would see her nine and thirty sisters fair yet none more fair than she choose ye your need from thames to tweed and will choose instead such lands as lie \\u2019twixt rake and rye black down and beachy head will go out against the sun where the rolled scarp retires and the long man of wilmington looks naked toward the shires and east till doubling rother crawls to find the fickle tide by dry and sea forgotten walls our ports of stranded pride will go north about the shaws and the deep ghylls that breed huge oaks and old the which we hold no more than sussex weed or south where windy piddinghoe\\u2019s begilded dolphin veers and red beside wide bank\\u00e8d ouse lie down our sussex steers so to the land our hearts we give till the sure magic strike and memory use and love make live us and our fields alike\\u2014 that deeper than our speech and thought beyond our reason\\u2019s sway clay of the pit whence we were wrought yearns to its fellow clay god gives all men all earth to love but since man\\u2019s heart is small ordains for each one spot shall prove beloved over all each to his choice and rejoice the lot has fallen to me in fair ground\\u2014in fair ground\\u2014 yea sussex by the sea\",\n          \"now this is the law of the jungle as old and as true as the sky and the wolf that shall keep it may prosper but the wolf that shall break it must die as the creeper that girdles the tree trunk the law runneth forward and back for the strength of the pack is the wolf and the strength of the wolf is the pack wash daily from nose tip to tail tip drink deeply but never too deep and remember the night is for hunting and forget not the day is for sleep the jackal may follow the tiger but cub when thy whiskers are grown remember the wolf is hunter go forth and get food of thine own keep peace with the lords of the jungle the tiger the panther and bear and trouble not hathi the silent and mock not the boar in his lair when pack meets with pack in the jungle and neither will go from the trail lie down till the leaders have spoken it may be fair words shall prevail when ye fight with wolf of the pack ye must fight him alone and afar lest others take part in the quarrel and the pack be diminished by war the lair of the wolf is his refuge and where he has made him his home not even the head wolf may enter not even the council may come the lair of the wolf is his refuge but where he has digged it too plain the council shall send him message and so he shall change it again if ye kill before midnight be silent and wake not the woods with your bay lest ye frighten the deer from the crop and your brothers go empty away ye may kill for yourselves and your mates and your cubs as they need and ye can but kill not for pleasure of killing and seven times never kill man if ye plunder his kill from weaker devour not all in thy pride pack right is the right of the meanest so leave him the head and the hide the kill of the pack is the meat of the pack ye must eat where it lies and no one may carry away of that meat to his lair or he dies the kill of the wolf is the meat of the wolf he may do what he will but till he has given permission the pack may not eat of that kill cub right is the right of the yearling from all of his pack he may claim full gorge when the killer has eaten and none may refuse him the same lair right is the right of the mother from all of her year she may claim one haunch of each kill for her litter and none may deny her the same cave right is the right of the father to hunt by himself for his own he is freed of all calls to the pack he is judged by the council alone because of his age and his cunning because of his gripe and his paw in all that the law leaveth open the word of your head wolf is law now these are the laws of the jungle and many and mighty are they but the head and the hoof of the law and the haunch and the hump is obey\",\n          \"we have fought with many men acrost the seas an some of them was brave an some was not the paythan an the zulu an burmese but the fuzzy was the finest of the lot we never got ha porth change of am squatted in the scrub an ocked our orses cut our sentries up at sua kim an played the cat an banjo with our forces so ere to you fuzzy wuzzy at your ome in the soudan you are pore benighted eathen but first class fightin man we gives you your certificate an if you want it signed we will come an ave romp with you whenever you are inclined we took our chanst among the khyber ills the boers knocked us silly at mile the burman give us irriwaddy chills an zulu impi dished us up in style but all we ever got from such as they was pop to what the fuzzy made us swaller we eld our bloomin own the papers say but man for man the fuzzy knocked us oller then ere to you fuzzy wuzzy an the missis and the kid our orders was to break you an of course we went an did we sloshed you with martinis an it was not ardly fair but for all the odds agin you fuzzy wuz you broke the square asn got no papers of is own asn got no medals nor rewards so we must certify the skill shown in usin of is long two anded swords when oppin in an out among the bush with is coffin eaded shield an shovel spear an appy day with fuzzy on the rush will last an ealthy tommy for year so ere to you fuzzy wuzzy an your friends which are no more if we adn lost some messmates we would elp you to deplore but give an take the gospel an we will call the bargain fair for if you ave lost more than us you crumpled up the square rushes at the smoke when we let drive an before we know ackin at our ead all ot sand an ginger when alive an generally shammin when dead daisy ducky lamb injia rubber idiot on the spree the on thing that does not give damn for regiment of british infantree so ere to you fuzzy wuzzy at your ome in the soudan you are pore benighted eathen but first class fightin man an ere to you fuzzy wuzzy with your ayrick ead of air you big black boundin beggar for you broke british square soudan expeditionary force tribute to the hadendowah who where the first to breach and break through to the centre of square defencive formation used by the infantry each side of the square would contain two lines of troops the first would kneel with bayonets raised the second would stand and fire this formation had never been broken until the fuzzy wuzzies black dervish warriors in the battle of abu klea\"\n        ],\n        \"semantic_type\": \"\",\n        \"description\": \"\"\n      }\n    },\n    {\n      \"column\": \"Poem_for_Human\",\n      \"properties\": {\n        \"dtype\": \"string\",\n        \"num_unique_values\": 10,\n        \"samples\": [\n          \"GOD gave all men all earth to love,\\n\\u00a0 \\u00a0 But since our hearts are small,\\nOrdained for each one spot should prove\\n\\u00a0 \\u00a0 Belov\\u00e8d over all;\\nThat, as He watched Creation\\u2019s birth,\\n\\u00a0 \\u00a0 So we, in godlike mood,\\nMay of our love create our earth\\n\\u00a0 \\u00a0 And see that it is good. \\nSo one shall Baltic pines content,\\n\\u00a0 \\u00a0 As one some Surrey glade,\\nOr one the palm-grove\\u2019s droned lament\\n\\u00a0 \\u00a0 Before Levuka\\u2019s Trade.\\nEach to his choice, and I rejoice\\n\\u00a0 \\u00a0 The lot has fallen to me\\nIn a fair ground\\u2014in a fair ground\\u2014\\n\\u00a0 \\u00a0 Yea, Sussex by the sea! \\n\\nNo tender-hearted garden crowns,\\n\\u00a0 \\u00a0 No bosomed woods adorn\\nOur blunt, bow-headed, whale-backed Downs,\\n\\u00a0 \\u00a0 But gnarled and writhen thorn\\u2014\\nBare slopes where chasing shadows skim,\\n\\u00a0 \\u00a0 And, through the gaps revealed,\\nBelt upon belt, the wooded, dim,\\n\\u00a0 \\u00a0 Blue goodness of the Weald. \\n\\nClean of officious fence or hedge,\\n\\u00a0 \\u00a0 Half-wild and wholly tame,\\nThe wise turf cloaks the white cliff edge\\n\\u00a0 \\u00a0 As when the Romans came.\\nWhat sign of those that fought and died\\n\\u00a0 \\u00a0 At shift of sword and sword?\\nThe barrow and the camp abide,\\n\\u00a0 \\u00a0 The sunlight and the sward. \\n\\nHere leaps ashore the full Sou\\u2019west\\n\\u00a0 \\u00a0 All heavy-winged with brine,\\nHere lies above the folded crest\\n\\u00a0 \\u00a0 The Channel\\u2019s leaden line;\\nAnd here the sea-fogs lap and cling,\\n\\u00a0 \\u00a0 And here, each warning each,\\nThe sheep-bells and the ship-bells ring\\n\\u00a0 \\u00a0 Along the hidden beach. \\n\\nWe have no waters to delight\\n\\u00a0 \\u00a0 Our broad and brookless vales\\u2014\\nOnly the dewpond on the height\\n\\u00a0 \\u00a0 Unfed, that never fails\\u2014\\nWhereby no tattered herbage tells\\n\\u00a0 \\u00a0 Which way the season flies\\u2014\\nOnly our close-bit thyme that smells\\n\\u00a0 \\u00a0 Like dawn in Paradise. \\n\\nHere through the strong and shadeless days\\n\\u00a0 \\u00a0 The tinkling silence thrills;\\nOr little, lost, Down churches praise\\n\\u00a0 \\u00a0 The Lord who made the hills:\\nBut here the Old Gods guard their round,\\n\\u00a0 \\u00a0 And, in her secret heart,\\nThe heathen kingdom Wilfrid found\\n\\u00a0 \\u00a0 Dreams, as she dwells, apart. \\n\\nThough all the rest were all my share,\\n\\u00a0 \\u00a0 With equal soul I\\u2019d see\\nHer nine-and-thirty sisters fair,\\n\\u00a0 \\u00a0 Yet none more fair than she.\\nChoose ye your need from Thames to Tweed,\\n\\u00a0 \\u00a0 And I will choose instead\\nSuch lands as lie \\u2019twixt Rake and Rye,\\n\\u00a0 \\u00a0 Black Down and Beachy Head. \\n\\nI will go out against the sun\\n\\u00a0 \\u00a0 Where the rolled scarp retires,\\nAnd the Long Man of Wilmington\\n\\u00a0 \\u00a0 Looks naked toward the shires;\\nAnd east till doubling Rother crawls\\n\\u00a0 \\u00a0 To find the fickle tide,\\nBy dry and sea-forgotten walls,\\n\\u00a0 \\u00a0 Our ports of stranded pride. \\n\\nI will go north about the shaws\\n\\u00a0 \\u00a0 And the deep ghylls that breed\\nHuge oaks and old, the which we hold\\n\\u00a0 \\u00a0 No more than Sussex weed;\\nOr south where windy Piddinghoe\\u2019s\\n\\u00a0 \\u00a0 Begilded dolphin veers\\nAnd red beside wide-bank\\u00e8d Ouse\\n\\u00a0 \\u00a0 Lie down our Sussex steers. \\n\\nSo to the land our hearts we give\\n\\u00a0 \\u00a0 Till the sure magic strike,\\nAnd Memory, Use, and Love make live\\n\\u00a0 \\u00a0 Us and our fields alike\\u2014\\nThat deeper than our speech and thought,\\n\\u00a0 \\u00a0 Beyond our reason\\u2019s sway,\\nClay of the pit whence we were wrought\\n\\u00a0 \\u00a0 Yearns to its fellow-clay. \\n\\nGod gives all men all earth to love,\\n\\u00a0 \\u00a0 But since man\\u2019s heart is small,\\nOrdains for each one spot shall prove\\n\\u00a0 \\u00a0 Beloved over all.\\nEach to his choice, and I rejoice\\n\\u00a0 \\u00a0 The lot has fallen to me\\nIn a fair ground\\u2014in a fair ground\\u2014\\n\\u00a0 \\u00a0 Yea, Sussex by the sea!     \",\n          \"Now this is the Law of the Jungle \\u2014 as old and as true as the sky; And the Wolf that shall keep it may prosper, but the Wolf that shall break it must die. \\nAs the creeper that girdles the tree-trunk the Law runneth forward and back \\u2014\\nFor the strength of the Pack is the Wolf, and the strength of the Wolf is the Pack.\\n\\n\\nWash daily from nose-tip to tail-tip; drink deeply, but never too deep;\\nAnd remember the night is for hunting, and forget not the day is for sleep.\\nThe Jackal may follow the Tiger, but, Cub, when thy whiskers are grown,\\nRemember the Wolf is a Hunter \\u2014 go forth and get food of thine own.\\nKeep peace with the Lords of the Jungle \\u2014 the Tiger, the Panther, and Bear.\\nAnd trouble not Hathi the Silent, and mock not the Boar in his lair.\\nWhen Pack meets with Pack in the Jungle, and neither will go from the trail,\\nLie down till the leaders have spoken \\u2014 it may be fair words shall prevail.\\nWhen ye fight with a Wolf of the Pack, ye must fight him alone and afar,\\nLest others take part in the quarrel, and the Pack be diminished by war.\\nThe Lair of the Wolf is his refuge, and where he has made him his home,\\nNot even the Head Wolf may enter, not even the Council may come.\\nThe Lair of the Wolf is his refuge, but where he has digged it too plain,\\nThe Council shall send him a message, and so he shall change it again.\\nIf ye kill before midnight, be silent, and wake not the woods with your bay,\\nLest ye frighten the deer from the crop, and your brothers go empty away.\\nYe may kill for yourselves, and your mates, and your cubs as they need, and ye can;\\nBut kill not for pleasure of killing, and seven times never kill Man!\\nIf ye plunder his Kill from a weaker, devour not all in thy pride;\\nPack-Right is the right of the meanest; so leave him the head and the hide.\\nThe Kill of the Pack is the meat of the Pack. Ye must eat where it lies;\\nAnd no one may carry away of that meat to his lair, or he dies.\\nThe Kill of the Wolf is the meat of the Wolf. He may do what he will;\\nBut, till he has given permission, the Pack may not eat of that Kill.\\nCub-Right is the right of the Yearling. From all of his Pack he may claim\\nFull-gorge when the killer has eaten; and none may refuse him the same.\\nLair-Right is the right of the Mother. From all of her year she may claim\\nOne haunch of each kill for her litter, and none may deny her the same.\\nCave-Right is the right of the Father \\u2014 to hunt by himself for his own:\\nHe is freed of all calls to the Pack; he is judged by the Council alone.\\nBecause of his age and his cunning, because of his gripe and his paw,\\nIn all that the Law leaveth open, the word of your Head Wolf is Law.\\nNow these are the Laws of the Jungle, and many and mighty are they;\\nBut the head and the hoof of the Law and the haunch and the hump is \\u2014 Obey!      \",\n          \"We've fought with many men acrost the seas,\\n \\u00a0An' some of 'em was brave an' some was not:\\nThe Paythan an' the Zulu an' Burmese;\\n \\u00a0But the Fuzzy was the finest o' the lot.\\nWe never got a ha'porth's change of 'im:\\n \\u00a0'E squatted in the scrub an' 'ocked our 'orses,\\n'E cut our sentries up at Sua~kim~,\\n \\u00a0An' 'e played the cat an' banjo with our forces.\\n \\u00a0 \\u00a0So 'ere's ~to~ you, Fuzzy-Wuzzy, at your 'ome in the Soudan;\\n \\u00a0 \\u00a0You're a pore benighted 'eathen but a first-class fightin' man;\\n \\u00a0 \\u00a0We gives you your certificate, an' if you want it signed\\n \\u00a0 \\u00a0We'll come an' 'ave a romp with you whenever you're inclined.\\n\\nWe took our chanst among the Khyber 'ills,\\n \\u00a0The Boers knocked us silly at a mile,\\nThe Burman give us Irriwaddy chills,\\n \\u00a0An' a Zulu ~impi~ dished us up in style:\\nBut all we ever got from such as they\\n \\u00a0Was pop to what the Fuzzy made us swaller;\\nWe 'eld our bloomin' own, the papers say,\\n \\u00a0But man for man the Fuzzy knocked us 'oller.\\n \\u00a0 \\u00a0Then 'ere's ~to~ you, Fuzzy-Wuzzy, an' the missis and the kid;\\n \\u00a0 \\u00a0Our orders was to break you, an' of course we went an' did.\\n \\u00a0 \\u00a0We sloshed you with Martinis, an' it wasn't 'ardly fair;\\n \\u00a0 \\u00a0But for all the odds agin' you, Fuzzy-Wuz, you broke the square.\\n\\n'E 'asn't got no papers of 'is own,\\n \\u00a0'E 'asn't got no medals nor rewards,\\nSo we must certify the skill 'e's shown\\n \\u00a0In usin' of 'is long two-'anded swords:\\nWhen 'e's 'oppin' in an' out among the bush\\n \\u00a0With 'is coffin-'eaded shield an' shovel-spear,\\nAn 'appy day with Fuzzy on the rush\\n \\u00a0Will last an 'ealthy Tommy for a year.\\n \\u00a0 \\u00a0So 'ere's ~to~ you, Fuzzy-Wuzzy, an' your friends which are no more,\\n \\u00a0 \\u00a0If we 'adn't lost some messmates we would 'elp you to deplore;\\n \\u00a0 \\u00a0But give an' take's the gospel, an' we'll call the bargain fair,\\n \\u00a0 \\u00a0For if you 'ave lost more than us, you crumpled up the square!\\n\\n'E rushes at the smoke when we let drive,\\n \\u00a0An', before we know, 'e's 'ackin' at our 'ead;\\n'E's all 'ot sand an' ginger when alive,\\n \\u00a0An' 'e's generally shammin' when 'e's dead.\\n'E's a daisy, 'e's a ducky, 'e's a lamb!\\n \\u00a0'E's a injia-rubber idiot on the spree,\\n'E's the on'y thing that doesn't give a damn\\n \\u00a0For a Regiment o' British Infantree!\\n \\u00a0 \\u00a0So 'ere's ~to~ you, Fuzzy-Wuzzy, at your 'ome in the Soudan;\\n \\u00a0 \\u00a0You're a pore benighted 'eathen but a first-class fightin' man;\\n \\u00a0 \\u00a0An' 'ere's ~to~ you, Fuzzy-Wuzzy, with your 'ayrick 'ead of 'air \\u2014\\n \\u00a0 \\u00a0You big black boundin' beggar \\u2014 for you broke a British square!(Soudan Expeditionary Force)\\n\\nA tribute to the Hadendowah, who where the first to breach and break-through to the centre of a square. (A defencive formation used by the infantry, each side of the square would contain two lines of troops. The first would kneel with bayonets raised, the second would stand and fire.) This formation had never been broken until the fuzzy-Wuzzies (black Dervish warriors) in the battle of Abu Klea.     \"\n        ],\n        \"semantic_type\": \"\",\n        \"description\": \"\"\n      }\n    }\n  ]\n}"
            }
          },
          "metadata": {},
          "execution_count": 13
        }
      ]
    },
    {
      "cell_type": "code",
      "source": [
        "data_RK =[]\n",
        "for i in range(len(Rudyard_poems)):\n",
        "  title = Rudyard_poems['Poem'][i]\n",
        "  poem = Rudyard_poems['Poem_for_Human'][i]\n",
        "  template = f\"Instruction:\\n Write a poem titled {title} in Rudyard Kiplings' style and your response should be in proper poem format with proper beautiful spacing tabs and line breaks \\n\\nResponse:\\n{poem}\"\n",
        "  data_RK.append(template)"
      ],
      "metadata": {
        "id": "44UicvuSHDcH"
      },
      "execution_count": null,
      "outputs": []
    },
    {
      "cell_type": "code",
      "source": [
        "data_RK"
      ],
      "metadata": {
        "colab": {
          "base_uri": "https://localhost:8080/"
        },
        "id": "d-FSuMy_MMnx",
        "outputId": "159fe716-7ed8-4aaf-9943-d699cb620f7e"
      },
      "execution_count": null,
      "outputs": [
        {
          "output_type": "execute_result",
          "data": {
            "text/plain": [
              "['Instruction:\\n Write a poem titled if you can keep your head when all about you are losing theirs and blaming it on you if you can trust yourself when all men doubt you but make allowance for their doubting too if you can wait and not be tired by waiting or being lied about do not deal in lies or being hated do not give way to hating and yet do not look too good nor talk too wise if you can dream and not make dreams your master if you can think and not make thoughts your aim if you can meet with triumph and disaster and treat those two impostors just the same if you can bear to hear the truth you have spoken twisted by knaves to make trap for fools or watch the things you gave your life to broken and stoop and build them up with worn out tools if you can make one heap of all your winnings and risk it on one turn of pitch and toss and lose and start again at your beginnings and never breathe word about your loss if you can force your heart and nerve and sinew to serve your turn long after they are gone and so hold on when there is nothing in you except the will which says to them hold on if you can talk with crowds and keep your virtue or walk with kings nor lose the common touch if neither foes nor loving friends can hurt you if all men count with you but none too much if you can fill the unforgiving minute with sixty seconds worth of distance run yours is the earth and everything that is in it and which is more you will be man my son in Rudyard Kiplings\\' style and your response should be in proper poem format with proper beautiful spacing tabs and line breaks \\n\\nResponse:\\n\\n\\tIf you can keep your head when all about you\\n\\t\\xa0 Are losing theirs and blaming it on you;\\n\\tIf you can trust yourself when all men doubt you,\\n\\t\\xa0 But make allowance for their doubting too:\\n\\tIf you can wait and not be tired by waiting,\\n\\t\\xa0 Or, being lied about, don\\'t deal in lies,\\n\\tOr being hated don\\'t give way to hating,\\n\\t\\xa0 And yet don\\'t look too good, nor talk too wise;\\n\\tIf you can dream — and not make dreams your master;\\n\\t\\xa0 If you can think — and not make thoughts your aim,\\n\\tIf you can meet with Triumph and Disaster\\n\\t\\xa0 And treat those two impostors just the same:.\\n\\tIf you can bear to hear the truth you\\'ve spoken\\n\\t\\xa0 Twisted by knaves to make a trap for fools,\\n\\tOr watch the things you gave your life to, broken,\\n\\t\\xa0 And stoop and build \\'em up with worn-out tools;\\n\\tIf you can make one heap of all your winnings\\n\\t\\xa0 And risk it on one turn of pitch-and-toss,\\n\\tAnd lose, and start again at your beginnings,\\n\\t\\xa0 And never breathe a word about your loss:\\n\\tIf you can force your heart and nerve and sinew\\n\\t\\xa0 To serve your turn long after they are gone,\\n\\tAnd so hold on when there is nothing in you\\n\\t\\xa0 Except the Will which says to them: \"Hold on!\"\\n\\tIf you can talk with crowds and keep your virtue,\\n\\t\\xa0 Or walk with Kings — nor lose the common touch,\\n\\tIf neither foes nor loving friends can hurt you,\\n\\t\\xa0 If all men count with you, but none too much:\\n\\tIf you can fill the unforgiving minute\\n\\t\\xa0 With sixty seconds\\' worth of distance run,\\n\\tYours is the Earth and everything that\\'s in it,\\n\\t\\xa0 And which is more: you\\'ll be a Man, my son!     ',\n",
              " \"Instruction:\\n Write a poem titled now this is the law of the jungle as old and as true as the sky and the wolf that shall keep it may prosper but the wolf that shall break it must die as the creeper that girdles the tree trunk the law runneth forward and back for the strength of the pack is the wolf and the strength of the wolf is the pack wash daily from nose tip to tail tip drink deeply but never too deep and remember the night is for hunting and forget not the day is for sleep the jackal may follow the tiger but cub when thy whiskers are grown remember the wolf is hunter go forth and get food of thine own keep peace with the lords of the jungle the tiger the panther and bear and trouble not hathi the silent and mock not the boar in his lair when pack meets with pack in the jungle and neither will go from the trail lie down till the leaders have spoken it may be fair words shall prevail when ye fight with wolf of the pack ye must fight him alone and afar lest others take part in the quarrel and the pack be diminished by war the lair of the wolf is his refuge and where he has made him his home not even the head wolf may enter not even the council may come the lair of the wolf is his refuge but where he has digged it too plain the council shall send him message and so he shall change it again if ye kill before midnight be silent and wake not the woods with your bay lest ye frighten the deer from the crop and your brothers go empty away ye may kill for yourselves and your mates and your cubs as they need and ye can but kill not for pleasure of killing and seven times never kill man if ye plunder his kill from weaker devour not all in thy pride pack right is the right of the meanest so leave him the head and the hide the kill of the pack is the meat of the pack ye must eat where it lies and no one may carry away of that meat to his lair or he dies the kill of the wolf is the meat of the wolf he may do what he will but till he has given permission the pack may not eat of that kill cub right is the right of the yearling from all of his pack he may claim full gorge when the killer has eaten and none may refuse him the same lair right is the right of the mother from all of her year she may claim one haunch of each kill for her litter and none may deny her the same cave right is the right of the father to hunt by himself for his own he is freed of all calls to the pack he is judged by the council alone because of his age and his cunning because of his gripe and his paw in all that the law leaveth open the word of your head wolf is law now these are the laws of the jungle and many and mighty are they but the head and the hoof of the law and the haunch and the hump is obey in Rudyard Kiplings' style and your response should be in proper poem format with proper beautiful spacing tabs and line breaks \\n\\nResponse:\\nNow this is the Law of the Jungle — as old and as true as the sky; And the Wolf that shall keep it may prosper, but the Wolf that shall break it must die. \\nAs the creeper that girdles the tree-trunk the Law runneth forward and back —\\nFor the strength of the Pack is the Wolf, and the strength of the Wolf is the Pack.\\n\\n\\nWash daily from nose-tip to tail-tip; drink deeply, but never too deep;\\nAnd remember the night is for hunting, and forget not the day is for sleep.\\nThe Jackal may follow the Tiger, but, Cub, when thy whiskers are grown,\\nRemember the Wolf is a Hunter — go forth and get food of thine own.\\nKeep peace with the Lords of the Jungle — the Tiger, the Panther, and Bear.\\nAnd trouble not Hathi the Silent, and mock not the Boar in his lair.\\nWhen Pack meets with Pack in the Jungle, and neither will go from the trail,\\nLie down till the leaders have spoken — it may be fair words shall prevail.\\nWhen ye fight with a Wolf of the Pack, ye must fight him alone and afar,\\nLest others take part in the quarrel, and the Pack be diminished by war.\\nThe Lair of the Wolf is his refuge, and where he has made him his home,\\nNot even the Head Wolf may enter, not even the Council may come.\\nThe Lair of the Wolf is his refuge, but where he has digged it too plain,\\nThe Council shall send him a message, and so he shall change it again.\\nIf ye kill before midnight, be silent, and wake not the woods with your bay,\\nLest ye frighten the deer from the crop, and your brothers go empty away.\\nYe may kill for yourselves, and your mates, and your cubs as they need, and ye can;\\nBut kill not for pleasure of killing, and seven times never kill Man!\\nIf ye plunder his Kill from a weaker, devour not all in thy pride;\\nPack-Right is the right of the meanest; so leave him the head and the hide.\\nThe Kill of the Pack is the meat of the Pack. Ye must eat where it lies;\\nAnd no one may carry away of that meat to his lair, or he dies.\\nThe Kill of the Wolf is the meat of the Wolf. He may do what he will;\\nBut, till he has given permission, the Pack may not eat of that Kill.\\nCub-Right is the right of the Yearling. From all of his Pack he may claim\\nFull-gorge when the killer has eaten; and none may refuse him the same.\\nLair-Right is the right of the Mother. From all of her year she may claim\\nOne haunch of each kill for her litter, and none may deny her the same.\\nCave-Right is the right of the Father — to hunt by himself for his own:\\nHe is freed of all calls to the Pack; he is judged by the Council alone.\\nBecause of his age and his cunning, because of his gripe and his paw,\\nIn all that the Law leaveth open, the word of your Head Wolf is Law.\\nNow these are the Laws of the Jungle, and many and mighty are they;\\nBut the head and the hoof of the Law and the haunch and the hump is — Obey!      \",\n",
              " 'Instruction:\\n Write a poem titled they shut the road through the woods seventy years ago weather and rain have undone it again and now you would never know there was once road through the woods before they planted the trees it is underneath the coppice and heath and the thin anemones only the keeper sees that where the ring dove broods and the badgers roll at ease there was once road through the woods yet if you enter the woods of summer evening late when the night air cools on the trout ringed pools where the otter whistles his mate they fear not men in the woods because they see so few you will hear the beat of horse feet and the swish of skirt in the dew steadily cantering through the misty solitudes as though they perfectly knew the old lost road through the woods… but there is no road through the woods line 20 there has seen much debate about the meaning of skirt at this point with basic meanings predominant either skirt is the hairy part of horse tail or skirt is an archaic word for part of saddle or skirt is an item of woman clothing there is apparently letter from kipling to his sister about poem with phantom and female rider see kipling society web site but the poem is unspecified and the point is still in doubt as to which of the legitimate references kipling intended as in many things the readers are invited to interpret the meaning for themselves in Rudyard Kiplings\\' style and your response should be in proper poem format with proper beautiful spacing tabs and line breaks \\n\\nResponse:\\n\\r\\n\\tThey shut the road through the woods\\r\\n\\tSeventy years ago.\\r\\n\\tWeather and rain have undone it again,\\r\\n\\tAnd now you would never know\\r\\n\\tThere was once a road through the woods\\r\\n\\tBefore they planted the trees.\\r\\n\\tIt is underneath the coppice and heath,\\r\\n\\tAnd the thin anemones.\\r\\n\\tOnly the keeper sees\\r\\n\\tThat, where the ring-dove broods,\\r\\n\\tAnd the badgers roll at ease,\\r\\n\\tThere was once a road through the woods.\\r\\n\\tYet, if you enter the woods\\r\\n\\tOf a summer evening late,\\r\\n\\tWhen the night-air cools on the trout-ringed pools\\r\\n\\tWhere the otter whistles his mate.\\r\\n\\t(They fear not men in the woods,\\r\\n\\tBecause they see so few)\\r\\n\\tYou will hear the beat of a horse\\'s feet,\\r\\n\\tAnd the swish of a skirt in the dew,\\r\\n\\tSteadily cantering through\\r\\n\\tThe misty solitudes,\\r\\n\\tAs though they perfectly knew\\r\\n\\tThe old lost road through the woods….\\r\\n\\tBut there is no road through the woods.\\r\\n\\tLine 20\\xa0There has seen much debate about the meaning\\xa0of \"skirt\" at this point with 3 basic meanings predominant.\\n\\r\\n\\teither\\n\\r\\n\\t\\xa0a \\'skirt\\' is the hairy part of a horse tail\\n\\r\\n\\tor\\n\\r\\n\\ta\\xa0 \"skirt\" is an archaic\\xa0word for part\\xa0of a saddle\\n\\r\\n\\tor\\n\\r\\n\\ta \"skirt\" is an item of woman\\'s clothing.\\n\\r\\n\\t\\xa0\\n\\r\\n\\tThere is a apparently\\xa0a letter\\xa0from Kipling to\\xa0his sister about a poem\\xa0with a phantom and a female rider\\xa0(See Kipling\\xa0Society\\xa0web\\xa0site) but the poem\\xa0is unspecified and the point is still in doubt as to which\\xa0of the 3 legitimate references Kipling intended.\\xa0\\n\\r\\n\\tAs in many things the readers are\\xa0invited to interpret the meaning\\xa0for themselves.     ',\n",
              " 'Instruction:\\n Write a poem titled infantry columns we are foot—slog—slog—slog—sloggin over africa foot—foot—foot—foot—sloggin over africa boots—boots—boots—boots—movin up an down again there is no discharge in the war seven—six—eleven—five—nine an twenty mile to day four—eleven—seventeen—thirty two the day before boots—boots—boots—boots—movin up an down again there is no discharge in the war do not—do not—do not—do not—look at what is in front of you boots—boots—boots—boots—movin up an down again men—men—men—men—men go mad with watchin them an there is no discharge in the war try—try—try—try—to think of something different oh—my—god—keep—me from going lunatic boots—boots—boots—boots—movin up an down again there is no discharge in the war count—count—count—count—the bullets in the bandoliers if—your—eyes—drop—they will get atop of you boots—boots—boots—boots—movin up an down again there is no discharge in the war we—can—stick—out— unger thirst an weariness but—not—not—not—not the chronic sight of them boot—boots—boots—boots—movin up an down again an there is no discharge in the war taint—so—bad—by—day because of company but night—brings—long—strings—of forty thousand million boots—boots—boots—boots—movin up an down again there is no discharge in the war i— ave—marched—six—weeks in ell an certify it—is—not—fire—devils dark or anything but boots—boots—boots—boots—movin up an down again an there is no discharge in the war in order to encourage comments on the poetry rather than the song we offer this information reprint of the original sheet music to boots for solo voice also apparently available for male chorus by peter dawson mccall is published by faber music ltd in england and is available through fm distribution ltd at 44 1279 82 89 89 trade fmdistribution com phenomenal recording of boots by the great american baritone leonard warren is included in leonard warren opera arias and concert songs and is available on dvd from amazon com try them for music and us for poetry in Rudyard Kiplings\\' style and your response should be in proper poem format with proper beautiful spacing tabs and line breaks \\n\\nResponse:\\nINFANTRY COLUMNS\\n\\nWe\\'re foot—slog—slog—slog—sloggin\\' over Africa —\\nFoot—foot—foot—foot—sloggin\\' over Africa —\\n(Boots—boots—boots—boots—movin\\' up an\\' down again!)\\n\\xa0 \\xa0 \\xa0 \\xa0 \\xa0 \\xa0 \\xa0 \\xa0 There\\'s no discharge in the war!\\n\\nSeven—six—eleven—five—nine-an\\'-twenty mile to-day —\\nFour—eleven—seventeen—thirty-two the day before —\\n(Boots—boots—boots—boots—movin\\' up an\\' down again!)\\n\\xa0 \\xa0 \\xa0 \\xa0 \\xa0 \\xa0 \\xa0 \\xa0 There\\'s no discharge in the war!\\n\\nDon\\'t—don\\'t—don\\'t—don\\'t—look at what\\'s in front of you.\\n(Boots—boots—boots—boots—movin\\' up an\\' down again);\\nMen—men—men—men—men go mad with watchin\\' em,\\n\\xa0 \\xa0 \\xa0 \\xa0 \\xa0 \\xa0 \\xa0 \\xa0 An\\' there\\'s no discharge in the war!\\n\\nTry—try—try—try—to think o\\' something different —\\nOh—my—God—keep—me from goin\\' lunatic!\\n(Boots—boots—boots—boots—movin\\' up an\\' down again!)\\n\\xa0 \\xa0 \\xa0 \\xa0 \\xa0 \\xa0 \\xa0 \\xa0 There\\'s no discharge in the war!\\n\\nCount—count—count—count—the bullets in the bandoliers.\\nIf—your—eyes—drop—they will get atop o\\' you!\\n(Boots—boots—boots—boots—movin\\' up an\\' down again) —\\n\\xa0 \\xa0 \\xa0 \\xa0 \\xa0 \\xa0 \\xa0 \\xa0 There\\'s no discharge in the war!\\n\\nWe—can—stick—out—\\'unger, thirst, an\\' weariness,\\nBut—not—not—not—not the chronic sight of \\'em —\\nBoot—boots—boots—boots—movin\\' up an\\' down again,\\n\\xa0 \\xa0 \\xa0 \\xa0 \\xa0 \\xa0 \\xa0 \\xa0 An\\' there\\'s no discharge in the war!\\n\\n\\'Taint—so—bad—by—day because o\\' company,\\nBut night—brings—long—strings—o\\' forty thousand million\\nBoots—boots—boots—boots—movin\\' up an\\' down again.\\n\\xa0 \\xa0 \\xa0 \\xa0 \\xa0 \\xa0 \\xa0 \\xa0 There\\'s no discharge in the war!\\n\\nI—\\'ave—marched—six—weeks in \\'Ell an\\' certify\\nIt—is—not—fire—devils, dark, or anything,\\nBut boots—boots—boots—boots—movin\\' up an\\' down again,\\n\\xa0 \\xa0 \\xa0 \\xa0 \\xa0 \\xa0 \\xa0 \\xa0 An\\' there\\'s no discharge in the war!In order to encourage comments on the poetry rather than the song we offer this information.\\nA reprint of the original sheet music to Boots for solo voice (also apparently available for male chorus) by Peter Dawson (J.P. McCall) is published by Faber Music Ltd. in England, and is available through FM Distribution LTD at +44 (0) 1279 82 89 89 (trade@fmdistribution.com). A phenomenal recording of Boots by the great American baritone Leonard Warren is included in \"Leonard Warren: Opera Arias and Concert Songs\" and is available on DVD from Amazon.com. \\nTry them for music and us for poetry     ',\n",
              " \"Instruction:\\n Write a poem titled the camel hump is an ugly lump which well you may see at the zoo but uglier yet is the hump we get from having too little to do kiddies and grown ups too oo oo if we have not enough to do oo oo we get the hump cameelious hump the hump that is black and blue we climb out of bed with frouzly head and snarly yarly voice we shiver and scowl and we grunt and we growl at our bath and our boots and our toys and there ought to be corner for me and know there is one for you when we get the hump cameelious hump the hump that is black and blue the cure for this ill is not to sit still or frowst with book by the fire but to take large hoe and shovel also and dig till you gently perspire and then you will find that the sun and the wind and the djinn of the garden too have lifted the hump the horrible hump the hump that is black and blue get it as well as you oo oo if have not enough to do oo oo we all get hump cameelious hump kiddies and grown ups too in Rudyard Kiplings' style and your response should be in proper poem format with proper beautiful spacing tabs and line breaks \\n\\nResponse:\\nThe Camel's hump is an ugly lump \\nWhich well you may see at the Zoo;\\nBut uglier yet is the hump we get \\nFrom having too little to do.\\n\\nKiddies and grown-ups too-oo-oo,\\nIf we haven't enough to do-oo-oo,\\nWe get the hump-\\nCameelious hump- \\nThe hump that is black and blue! \\n\\nWe climb out of bed with a frouzly head,\\nAnd a snarly-yarly voice.\\nWe shiver and scowl and we grunt and we growl \\nAt our bath and our boots and our toys; \\n\\nAnd there ought to be a corner for me \\n(And I know' there is one for you)\\nWhen we get the hump- \\nCameelious hump- \\nThe hump that is black and blue! \\n\\nThe cure for this ill is not to sit still, \\nOr frowst with a book by the fire;\\nBut to take a large hoe and a shovel also, \\nAnd dig till you gently perspire;\\n\\nAnd then you will find that the sun and the wind, \\nAnd the Djinn of the Garden too,\\nHave lifted the hump- \\nThe horrible hump- \\nThe hump that is black and blue! \\n\\nI get it as well as you-oo-oo- \\nIf I haven't enough to do-oo-oo!\\nWe all get hump- \\nCameelious hump- \\nKiddies and grown-ups too!     \",\n",
              " \"Instruction:\\n Write a poem titled we have fought with many men acrost the seas an some of them was brave an some was not the paythan an the zulu an burmese but the fuzzy was the finest of the lot we never got ha porth change of am squatted in the scrub an ocked our orses cut our sentries up at sua kim an played the cat an banjo with our forces so ere to you fuzzy wuzzy at your ome in the soudan you are pore benighted eathen but first class fightin man we gives you your certificate an if you want it signed we will come an ave romp with you whenever you are inclined we took our chanst among the khyber ills the boers knocked us silly at mile the burman give us irriwaddy chills an zulu impi dished us up in style but all we ever got from such as they was pop to what the fuzzy made us swaller we eld our bloomin own the papers say but man for man the fuzzy knocked us oller then ere to you fuzzy wuzzy an the missis and the kid our orders was to break you an of course we went an did we sloshed you with martinis an it was not ardly fair but for all the odds agin you fuzzy wuz you broke the square asn got no papers of is own asn got no medals nor rewards so we must certify the skill shown in usin of is long two anded swords when oppin in an out among the bush with is coffin eaded shield an shovel spear an appy day with fuzzy on the rush will last an ealthy tommy for year so ere to you fuzzy wuzzy an your friends which are no more if we adn lost some messmates we would elp you to deplore but give an take the gospel an we will call the bargain fair for if you ave lost more than us you crumpled up the square rushes at the smoke when we let drive an before we know ackin at our ead all ot sand an ginger when alive an generally shammin when dead daisy ducky lamb injia rubber idiot on the spree the on thing that does not give damn for regiment of british infantree so ere to you fuzzy wuzzy at your ome in the soudan you are pore benighted eathen but first class fightin man an ere to you fuzzy wuzzy with your ayrick ead of air you big black boundin beggar for you broke british square soudan expeditionary force tribute to the hadendowah who where the first to breach and break through to the centre of square defencive formation used by the infantry each side of the square would contain two lines of troops the first would kneel with bayonets raised the second would stand and fire this formation had never been broken until the fuzzy wuzzies black dervish warriors in the battle of abu klea in Rudyard Kiplings' style and your response should be in proper poem format with proper beautiful spacing tabs and line breaks \\n\\nResponse:\\nWe've fought with many men acrost the seas,\\n \\xa0An' some of 'em was brave an' some was not:\\nThe Paythan an' the Zulu an' Burmese;\\n \\xa0But the Fuzzy was the finest o' the lot.\\nWe never got a ha'porth's change of 'im:\\n \\xa0'E squatted in the scrub an' 'ocked our 'orses,\\n'E cut our sentries up at Sua~kim~,\\n \\xa0An' 'e played the cat an' banjo with our forces.\\n \\xa0 \\xa0So 'ere's ~to~ you, Fuzzy-Wuzzy, at your 'ome in the Soudan;\\n \\xa0 \\xa0You're a pore benighted 'eathen but a first-class fightin' man;\\n \\xa0 \\xa0We gives you your certificate, an' if you want it signed\\n \\xa0 \\xa0We'll come an' 'ave a romp with you whenever you're inclined.\\n\\nWe took our chanst among the Khyber 'ills,\\n \\xa0The Boers knocked us silly at a mile,\\nThe Burman give us Irriwaddy chills,\\n \\xa0An' a Zulu ~impi~ dished us up in style:\\nBut all we ever got from such as they\\n \\xa0Was pop to what the Fuzzy made us swaller;\\nWe 'eld our bloomin' own, the papers say,\\n \\xa0But man for man the Fuzzy knocked us 'oller.\\n \\xa0 \\xa0Then 'ere's ~to~ you, Fuzzy-Wuzzy, an' the missis and the kid;\\n \\xa0 \\xa0Our orders was to break you, an' of course we went an' did.\\n \\xa0 \\xa0We sloshed you with Martinis, an' it wasn't 'ardly fair;\\n \\xa0 \\xa0But for all the odds agin' you, Fuzzy-Wuz, you broke the square.\\n\\n'E 'asn't got no papers of 'is own,\\n \\xa0'E 'asn't got no medals nor rewards,\\nSo we must certify the skill 'e's shown\\n \\xa0In usin' of 'is long two-'anded swords:\\nWhen 'e's 'oppin' in an' out among the bush\\n \\xa0With 'is coffin-'eaded shield an' shovel-spear,\\nAn 'appy day with Fuzzy on the rush\\n \\xa0Will last an 'ealthy Tommy for a year.\\n \\xa0 \\xa0So 'ere's ~to~ you, Fuzzy-Wuzzy, an' your friends which are no more,\\n \\xa0 \\xa0If we 'adn't lost some messmates we would 'elp you to deplore;\\n \\xa0 \\xa0But give an' take's the gospel, an' we'll call the bargain fair,\\n \\xa0 \\xa0For if you 'ave lost more than us, you crumpled up the square!\\n\\n'E rushes at the smoke when we let drive,\\n \\xa0An', before we know, 'e's 'ackin' at our 'ead;\\n'E's all 'ot sand an' ginger when alive,\\n \\xa0An' 'e's generally shammin' when 'e's dead.\\n'E's a daisy, 'e's a ducky, 'e's a lamb!\\n \\xa0'E's a injia-rubber idiot on the spree,\\n'E's the on'y thing that doesn't give a damn\\n \\xa0For a Regiment o' British Infantree!\\n \\xa0 \\xa0So 'ere's ~to~ you, Fuzzy-Wuzzy, at your 'ome in the Soudan;\\n \\xa0 \\xa0You're a pore benighted 'eathen but a first-class fightin' man;\\n \\xa0 \\xa0An' 'ere's ~to~ you, Fuzzy-Wuzzy, with your 'ayrick 'ead of 'air —\\n \\xa0 \\xa0You big black boundin' beggar — for you broke a British square!(Soudan Expeditionary Force)\\n\\nA tribute to the Hadendowah, who where the first to breach and break-through to the centre of a square. (A defencive formation used by the infantry, each side of the square would contain two lines of troops. The first would kneel with bayonets raised, the second would stand and fire.) This formation had never been broken until the fuzzy-Wuzzies (black Dervish warriors) in the battle of Abu Klea.     \",\n",
              " 'Instruction:\\n Write a poem titled there were thirty million english who talked of england might there were twenty broken troopers who lacked bed for the night they had neither food nor money they had neither service nor trade they were only shiftless soldiers the last of the light brigade they felt that life was fleeting they knew not that art was long that though they were dying of famine they lived in deathless song they asked for little money to keep the wolf from the door and the thirty million english sent twenty pounds and four they laid their heads together that were scarred and lined and grey keen were the russian sabres but want was keener than they and an old troop sergeant muttered let us go to the man who writes the things on balaclava the kiddies at school recites they went without bands or colours regiment ten file strong to look for the master singer who had crowned them all in his song and waiting his servant order by the garden gate they stayed desolate little cluster the last of the light brigade they strove to stand to attention to straighten the toil bowed back they drilled on an empty stomach the loose knit files fell slack with stooping of weary shoulders in garments tattered and frayed they shambled into his presence the last of the light brigade the old troop sergeant was spokesman and beggin your pardon he said you wrote of the light brigade sir here is all that is not dead an it is all come true what you wrote sir regardin the mouth of hell for we are all of us nigh to the workhouse an we thought we would call an tell no thank you we do not want food sir but could not you take an write sort of to be continued and see next page of the fight we think that someone has blundered an could not you tell them how you wrote we were heroes once sir please write we are starving now the poor little army departed limping and lean and forlorn and the heart of the master singer grew hot with the scorn of scorn and he wrote for them wonderful verses that swept the land like flame till the fatted souls of the english were scourged with the thing called shame thirty million english that babble of england might behold there are twenty heroes who lack their food to night our children children are lisping to honour the charge they made and we leave to the streets and the workhouse the charge of the light brigade in Rudyard Kiplings\\' style and your response should be in proper poem format with proper beautiful spacing tabs and line breaks \\n\\nResponse:\\nThere were thirty million English who talked of England\\'s might,\\n There were twenty broken troopers who lacked a bed for the night.\\n They had neither food nor money, they had neither service nor trade;\\n They were only shiftless soldiers, the last of the Light Brigade.\\n\\n They felt that life was fleeting; they knew not that art was long,\\n That though they were dying of famine, they lived in deathless song.\\n They asked for a little money to keep the wolf from the door;\\n And the thirty million English sent twenty pounds and four!\\n\\n They laid their heads together that were scarred and lined and grey;\\n Keen were the Russian sabres, but want was keener than they;\\n And an old Troop-Sergeant muttered, \"Let us go to the man who writes\\n The things on Balaclava the kiddies at school recites.\"\\n\\n They went without bands or colours, a regiment ten-file strong,\\n To look for the Master-singer who had crowned them all in his song;\\n And, waiting his servant\\'s order, by the garden gate they stayed,\\n A desolate little cluster, the last of the Light Brigade.\\n\\n They strove to stand to attention, to straighten the toil-bowed back;\\n They drilled on an empty stomach, the loose-knit files fell slack;\\n With stooping of weary shoulders, in garments tattered and frayed,\\n They shambled into his presence, the last of the Light Brigade.\\n\\n The old Troop-Sergeant was spokesman, and \"Beggin\\' your pardon,\" he said,\\n \"You wrote o\\' the Light Brigade, sir. Here\\'s all that isn\\'t dead.\\n An\\' it\\'s all come true what you wrote, sir, regardin\\' the mouth of hell;\\n For we\\'re all of us nigh to the workhouse, an\\', we thought we\\'d call an\\' tell.\\n\\n \"No, thank you, we don\\'t want food, sir; but couldn\\'t you take an\\' write\\n A sort of \\'to be continued\\' and \\'see next page\\' o\\' the fight?\\n We think that someone has blundered, an\\' couldn\\'t you tell \\'em how?\\n You wrote we were heroes once, sir. Please, write we are starving now.\"\\n\\n The poor little army departed, limping and lean and forlorn.\\n And the heart of the Master-singer grew hot with \"the scorn of scorn.\"\\n And he wrote for them wonderful verses that swept the land like flame,\\n Till the fatted souls of the English were scourged with the thing called Shame.\\n\\n O thirty million English that babble of England\\'s might,\\n Behold there are twenty heroes who lack their food to-night;\\n Our children\\'s children are lisping to \"honour the charge they made-\"\\n And we leave to the streets and the workhouse the charge of the Light Brigade!     ',\n",
              " \"Instruction:\\n Write a poem titled who recalls the twilight and the ranged tents in order violet peaks uplifted through the crystal evening air and the clink of iron teacups and the piteous noble laughter and the faces of the sisters with the dust upon their hair now and not hereafter while the breath is in our nostrils now and not hereafter ere the meaner years go by let us now remember many honourable women such as bade us turn again when we were like to die who recalls the morning and the thunder through the foothills tufts of fleecy shrapnel strung along the empty plains and the sun scarred red cross coaches creeping guarded to the culvert and the faces of the sisters looking gravely from the trains when the days were torment and the nights were clouded terror when the powers of darkness had dominion on our soul when we fled consuming through the seven hells of fever these put out their hands to us and healed and made us whole who recalls the midnight by the bridge wrecked abutment autumn rain that rattled like maxim on the tin and the lightning dazzled levels and the streaming straining wagons and the faces of the sisters as they bore the wounded in till the pain was merciful and stunned us into silence when each nerve cried out on god that made the misused clay when the body triumphed and the last poor shame departed these abode our agonies and wiped the sweat away who recalls the noontide and the funerals through the market blanket hidden bodies flagless followed by the flies and the footsore firing party and the dust and stench and staleness and the faces of the sisters and the glory in their eyes bold behind the battle in the open camp all hallowed patient wise and mirthful in the ringed and reeking town these endured unresting till they rested from their labours little wasted bodies ah so light to lower down yet their graves are scattered and their names are clean forgotten earth shall not remember but the waiting angel knows them who died at uitvlugt when the plague was on the city her that fell at simon town in service on our foes for the nurses who died in the south african war 1902 in Rudyard Kiplings' style and your response should be in proper poem format with proper beautiful spacing tabs and line breaks \\n\\nResponse:\\nWho recalls the twilight and the ranged tents in order \\n\\xa0  (Violet peaks uplifted through the crystal evening air?)\\nAnd the clink of iron teacups and the piteous, noble laughter, \\n\\xa0  And the faces of the Sisters with the dust upon their hair? \\n\\n(Now and not hereafter, while the breath is in our nostrils, \\n\\xa0  Now and not hereafter, ere the meaner years go by -\\nLet us now remember many honourable women,\\n\\xa0  Such as bade us turn again when we were like to die.) \\n\\nWho recalls the morning and the thunder through the foothills, \\n\\xa0  (Tufts of fleecy shrapnel strung along the empty plains?)\\nAnd the sun-scarred Red-Cross coaches creeping guarded to the culvert,\\n\\xa0  And the faces of the Sisters looking gravely from the trains?\\n\\n(When the days were torment and the nights were clouded terror, \\n\\xa0  When the Powers of Darkness had dominion on our soul -\\nWhen we fled consuming through the Seven Hells of Fever, \\n\\xa0  These put out their hands to us and healed and made us whole.) \\n\\nWho recalls the midnight by the bridge's wrecked abutment, \\n\\xa0  (Autumn rain that rattled like a Maxim on the tin?)\\nAnd the lightning-dazzled levels and the streaming, straining wagons,\\n\\xa0  And the faces of the Sisters as they bore the wounded in? \\n\\n(Till the pain was merciful and stunned us into silence -\\n\\xa0  When each nerve cried out on God that made the misused clay; \\nWhen the Body triumphed and the last poor shame departed -\\n\\xa0  These abode our agonies and wiped the sweat away.)\\n\\nWho recalls the noontide and the funerals through the market, \\n\\xa0  (Blanket-hidden bodies, flagless, followed by the flies?)\\nAnd the footsore firing-party, and the dust and stench and staleness,\\n\\xa0  And the faces of the Sisters and the glory in their eyes? \\n\\n(Bold behind the battle, in the open camp all-hallowed, \\n\\xa0  Patient, wise, and mirthful in the ringed and reeking town, \\nThese endured unresting till they rested from their labours -\\n\\xa0  Little wasted bodies, ah, so light to lower down!)\\n\\nYet their graves are scattered and their names are clean forgotten, \\n\\xa0  Earth shall not remember, but the Waiting Angel knows\\nThem who died at Uitvlugt when the plague was on the city -\\n\\xa0  Her that fell at Simon's Town' in service on our foes.For the Nurses Who Died in the South African War (1902).     \",\n",
              " \"Instruction:\\n Write a poem titled god gave all men all earth to love but since our hearts are small ordained for each one spot should prove belovèd over all that as he watched creation’s birth so we in godlike mood may of our love create our earth and see that it is good so one shall baltic pines content as one some surrey glade or one the palm grove’s droned lament before levuka’s trade each to his choice and rejoice the lot has fallen to me in fair ground—in fair ground— yea sussex by the sea no tender hearted garden crowns no bosomed woods adorn our blunt bow headed whale backed downs but gnarled and writhen thorn— bare slopes where chasing shadows skim and through the gaps revealed belt upon belt the wooded dim blue goodness of the weald clean of officious fence or hedge half wild and wholly tame the wise turf cloaks the white cliff edge as when the romans came what sign of those that fought and died at shift of sword and sword the barrow and the camp abide the sunlight and the sward here leaps ashore the full sou’west all heavy winged with brine here lies above the folded crest the channel’s leaden line and here the sea fogs lap and cling and here each warning each the sheep bells and the ship bells ring along the hidden beach we have no waters to delight our broad and brookless vales— only the dewpond on the height unfed that never fails— whereby no tattered herbage tells which way the season flies— only our close bit thyme that smells like dawn in paradise here through the strong and shadeless days the tinkling silence thrills or little lost down churches praise the lord who made the hills but here the old gods guard their round and in her secret heart the heathen kingdom wilfrid found dreams as she dwells apart though all the rest were all my share with equal soul would see her nine and thirty sisters fair yet none more fair than she choose ye your need from thames to tweed and will choose instead such lands as lie ’twixt rake and rye black down and beachy head will go out against the sun where the rolled scarp retires and the long man of wilmington looks naked toward the shires and east till doubling rother crawls to find the fickle tide by dry and sea forgotten walls our ports of stranded pride will go north about the shaws and the deep ghylls that breed huge oaks and old the which we hold no more than sussex weed or south where windy piddinghoe’s begilded dolphin veers and red beside wide bankèd ouse lie down our sussex steers so to the land our hearts we give till the sure magic strike and memory use and love make live us and our fields alike— that deeper than our speech and thought beyond our reason’s sway clay of the pit whence we were wrought yearns to its fellow clay god gives all men all earth to love but since man’s heart is small ordains for each one spot shall prove beloved over all each to his choice and rejoice the lot has fallen to me in fair ground—in fair ground— yea sussex by the sea in Rudyard Kiplings' style and your response should be in proper poem format with proper beautiful spacing tabs and line breaks \\n\\nResponse:\\nGOD gave all men all earth to love,\\n\\xa0 \\xa0 But since our hearts are small,\\nOrdained for each one spot should prove\\n\\xa0 \\xa0 Belovèd over all;\\nThat, as He watched Creation’s birth,\\n\\xa0 \\xa0 So we, in godlike mood,\\nMay of our love create our earth\\n\\xa0 \\xa0 And see that it is good. \\nSo one shall Baltic pines content,\\n\\xa0 \\xa0 As one some Surrey glade,\\nOr one the palm-grove’s droned lament\\n\\xa0 \\xa0 Before Levuka’s Trade.\\nEach to his choice, and I rejoice\\n\\xa0 \\xa0 The lot has fallen to me\\nIn a fair ground—in a fair ground—\\n\\xa0 \\xa0 Yea, Sussex by the sea! \\n\\nNo tender-hearted garden crowns,\\n\\xa0 \\xa0 No bosomed woods adorn\\nOur blunt, bow-headed, whale-backed Downs,\\n\\xa0 \\xa0 But gnarled and writhen thorn—\\nBare slopes where chasing shadows skim,\\n\\xa0 \\xa0 And, through the gaps revealed,\\nBelt upon belt, the wooded, dim,\\n\\xa0 \\xa0 Blue goodness of the Weald. \\n\\nClean of officious fence or hedge,\\n\\xa0 \\xa0 Half-wild and wholly tame,\\nThe wise turf cloaks the white cliff edge\\n\\xa0 \\xa0 As when the Romans came.\\nWhat sign of those that fought and died\\n\\xa0 \\xa0 At shift of sword and sword?\\nThe barrow and the camp abide,\\n\\xa0 \\xa0 The sunlight and the sward. \\n\\nHere leaps ashore the full Sou’west\\n\\xa0 \\xa0 All heavy-winged with brine,\\nHere lies above the folded crest\\n\\xa0 \\xa0 The Channel’s leaden line;\\nAnd here the sea-fogs lap and cling,\\n\\xa0 \\xa0 And here, each warning each,\\nThe sheep-bells and the ship-bells ring\\n\\xa0 \\xa0 Along the hidden beach. \\n\\nWe have no waters to delight\\n\\xa0 \\xa0 Our broad and brookless vales—\\nOnly the dewpond on the height\\n\\xa0 \\xa0 Unfed, that never fails—\\nWhereby no tattered herbage tells\\n\\xa0 \\xa0 Which way the season flies—\\nOnly our close-bit thyme that smells\\n\\xa0 \\xa0 Like dawn in Paradise. \\n\\nHere through the strong and shadeless days\\n\\xa0 \\xa0 The tinkling silence thrills;\\nOr little, lost, Down churches praise\\n\\xa0 \\xa0 The Lord who made the hills:\\nBut here the Old Gods guard their round,\\n\\xa0 \\xa0 And, in her secret heart,\\nThe heathen kingdom Wilfrid found\\n\\xa0 \\xa0 Dreams, as she dwells, apart. \\n\\nThough all the rest were all my share,\\n\\xa0 \\xa0 With equal soul I’d see\\nHer nine-and-thirty sisters fair,\\n\\xa0 \\xa0 Yet none more fair than she.\\nChoose ye your need from Thames to Tweed,\\n\\xa0 \\xa0 And I will choose instead\\nSuch lands as lie ’twixt Rake and Rye,\\n\\xa0 \\xa0 Black Down and Beachy Head. \\n\\nI will go out against the sun\\n\\xa0 \\xa0 Where the rolled scarp retires,\\nAnd the Long Man of Wilmington\\n\\xa0 \\xa0 Looks naked toward the shires;\\nAnd east till doubling Rother crawls\\n\\xa0 \\xa0 To find the fickle tide,\\nBy dry and sea-forgotten walls,\\n\\xa0 \\xa0 Our ports of stranded pride. \\n\\nI will go north about the shaws\\n\\xa0 \\xa0 And the deep ghylls that breed\\nHuge oaks and old, the which we hold\\n\\xa0 \\xa0 No more than Sussex weed;\\nOr south where windy Piddinghoe’s\\n\\xa0 \\xa0 Begilded dolphin veers\\nAnd red beside wide-bankèd Ouse\\n\\xa0 \\xa0 Lie down our Sussex steers. \\n\\nSo to the land our hearts we give\\n\\xa0 \\xa0 Till the sure magic strike,\\nAnd Memory, Use, and Love make live\\n\\xa0 \\xa0 Us and our fields alike—\\nThat deeper than our speech and thought,\\n\\xa0 \\xa0 Beyond our reason’s sway,\\nClay of the pit whence we were wrought\\n\\xa0 \\xa0 Yearns to its fellow-clay. \\n\\nGod gives all men all earth to love,\\n\\xa0 \\xa0 But since man’s heart is small,\\nOrdains for each one spot shall prove\\n\\xa0 \\xa0 Beloved over all.\\nEach to his choice, and I rejoice\\n\\xa0 \\xa0 The lot has fallen to me\\nIn a fair ground—in a fair ground—\\n\\xa0 \\xa0 Yea, Sussex by the sea!     \",\n",
              " \"Instruction:\\n Write a poem titled after the burial parties leave and the baffled kites have fled the wise hyaenas come out at eve to take account of our dead how he died and why he died troubles them not whit they snout the bushes and stones aside and dig till they come to it they are only resolute they shall eat that they and their mates may thrive and they know that the dead are safer meat than the weakest thing alive for goat may butt and worm may sting and child will sometimes stand but poor dead soldier of the king can never lift hand they whoop and halloo and scatter the dirt until their tushes white take good hold in the army shirt and tug the corpse to light and the pitiful face is shewn again for an instant ere they close but it is not discovered to living men only to god and to those who being soulless are free from shame whatever meat they may find nor do they defile the dead man name that is reserved for his kind in Rudyard Kiplings' style and your response should be in proper poem format with proper beautiful spacing tabs and line breaks \\n\\nResponse:\\nAfter the burial-parties leave\\n \\xa0And the baffled kites have fled;\\nThe wise hyaenas come out at eve\\n \\xa0To take account of our dead.\\n\\nHow he died and why he died\\n \\xa0Troubles them not a whit.\\nThey snout the bushes and stones aside\\n \\xa0And dig till they come to it.\\n\\nThey are only resolute they shall eat\\n \\xa0That they and their mates may thrive,\\nAnd they know that the dead are safer meat\\n \\xa0Than the weakest thing alive.\\n\\n(For a goat may butt, and a worm may sting,\\n \\xa0And a child will sometimes stand;\\nBut a poor dead soldier of the King\\n \\xa0Can never lift a hand.)\\n\\nThey whoop and halloo and scatter the dirt\\n \\xa0Until their tushes white\\n \\xa0Take good hold in the army shirt,\\n \\xa0And tug the corpse to light,\\n\\nAnd the pitiful face is shewn again\\n \\xa0For an instant ere they close;\\nBut it is not discovered to living men —\\n \\xa0Only to God and to those\\n\\nWho, being soulless, are free from shame,\\n \\xa0Whatever meat they may find.\\nNor do they defile the dead man's name —\\n \\xa0That is reserved for his kind.     \"]"
            ]
          },
          "metadata": {},
          "execution_count": 15
        }
      ]
    },
    {
      "cell_type": "code",
      "source": [
        "# Enable LoRA for the model and set the LoRA rank to 4.\n",
        "gemma_lm.backbone.enable_lora(rank=4)\n",
        "gemma_lm.summary()"
      ],
      "metadata": {
        "colab": {
          "base_uri": "https://localhost:8080/",
          "height": 397
        },
        "id": "RoqO2vSkHPCQ",
        "outputId": "7cca43f6-6d2e-4de7-c424-58002207e6ae"
      },
      "execution_count": null,
      "outputs": [
        {
          "output_type": "display_data",
          "data": {
            "text/plain": [
              "\u001b[1mPreprocessor: \"gemma_causal_lm_preprocessor\"\u001b[0m\n"
            ],
            "text/html": [
              "<pre style=\"white-space:pre;overflow-x:auto;line-height:normal;font-family:Menlo,'DejaVu Sans Mono',consolas,'Courier New',monospace\"><span style=\"font-weight: bold\">Preprocessor: \"gemma_causal_lm_preprocessor\"</span>\n",
              "</pre>\n"
            ]
          },
          "metadata": {}
        },
        {
          "output_type": "display_data",
          "data": {
            "text/plain": [
              "┏━━━━━━━━━━━━━━━━━━━━━━━━━━━━━━━━━━━━━━━━━━━━━━━━━━━━┳━━━━━━━━━━━━━━━━━━━━━━━━━━━━━━━━━━━━━━━━━━━━━━━━━━━━━┓\n",
              "┃\u001b[1m \u001b[0m\u001b[1mTokenizer (type)                                  \u001b[0m\u001b[1m \u001b[0m┃\u001b[1m \u001b[0m\u001b[1m                                            Vocab #\u001b[0m\u001b[1m \u001b[0m┃\n",
              "┡━━━━━━━━━━━━━━━━━━━━━━━━━━━━━━━━━━━━━━━━━━━━━━━━━━━━╇━━━━━━━━━━━━━━━━━━━━━━━━━━━━━━━━━━━━━━━━━━━━━━━━━━━━━┩\n",
              "│ gemma_tokenizer (\u001b[38;5;33mGemmaTokenizer\u001b[0m)                   │                                             \u001b[38;5;34m256,000\u001b[0m │\n",
              "└────────────────────────────────────────────────────┴─────────────────────────────────────────────────────┘\n"
            ],
            "text/html": [
              "<pre style=\"white-space:pre;overflow-x:auto;line-height:normal;font-family:Menlo,'DejaVu Sans Mono',consolas,'Courier New',monospace\">┏━━━━━━━━━━━━━━━━━━━━━━━━━━━━━━━━━━━━━━━━━━━━━━━━━━━━┳━━━━━━━━━━━━━━━━━━━━━━━━━━━━━━━━━━━━━━━━━━━━━━━━━━━━━┓\n",
              "┃<span style=\"font-weight: bold\"> Tokenizer (type)                                   </span>┃<span style=\"font-weight: bold\">                                             Vocab # </span>┃\n",
              "┡━━━━━━━━━━━━━━━━━━━━━━━━━━━━━━━━━━━━━━━━━━━━━━━━━━━━╇━━━━━━━━━━━━━━━━━━━━━━━━━━━━━━━━━━━━━━━━━━━━━━━━━━━━━┩\n",
              "│ gemma_tokenizer (<span style=\"color: #0087ff; text-decoration-color: #0087ff\">GemmaTokenizer</span>)                   │                                             <span style=\"color: #00af00; text-decoration-color: #00af00\">256,000</span> │\n",
              "└────────────────────────────────────────────────────┴─────────────────────────────────────────────────────┘\n",
              "</pre>\n"
            ]
          },
          "metadata": {}
        },
        {
          "output_type": "display_data",
          "data": {
            "text/plain": [
              "\u001b[1mModel: \"gemma_causal_lm\"\u001b[0m\n"
            ],
            "text/html": [
              "<pre style=\"white-space:pre;overflow-x:auto;line-height:normal;font-family:Menlo,'DejaVu Sans Mono',consolas,'Courier New',monospace\"><span style=\"font-weight: bold\">Model: \"gemma_causal_lm\"</span>\n",
              "</pre>\n"
            ]
          },
          "metadata": {}
        },
        {
          "output_type": "display_data",
          "data": {
            "text/plain": [
              "┏━━━━━━━━━━━━━━━━━━━━━━━━━━━━━━━┳━━━━━━━━━━━━━━━━━━━━━━━━━━━┳━━━━━━━━━━━━━━━━━┳━━━━━━━━━━━━━━━━━━━━━━━━━━━━┓\n",
              "┃\u001b[1m \u001b[0m\u001b[1mLayer (type)                 \u001b[0m\u001b[1m \u001b[0m┃\u001b[1m \u001b[0m\u001b[1mOutput Shape             \u001b[0m\u001b[1m \u001b[0m┃\u001b[1m \u001b[0m\u001b[1m        Param #\u001b[0m\u001b[1m \u001b[0m┃\u001b[1m \u001b[0m\u001b[1mConnected to              \u001b[0m\u001b[1m \u001b[0m┃\n",
              "┡━━━━━━━━━━━━━━━━━━━━━━━━━━━━━━━╇━━━━━━━━━━━━━━━━━━━━━━━━━━━╇━━━━━━━━━━━━━━━━━╇━━━━━━━━━━━━━━━━━━━━━━━━━━━━┩\n",
              "│ padding_mask (\u001b[38;5;33mInputLayer\u001b[0m)     │ (\u001b[38;5;45mNone\u001b[0m, \u001b[38;5;45mNone\u001b[0m)              │               \u001b[38;5;34m0\u001b[0m │ -                          │\n",
              "├───────────────────────────────┼───────────────────────────┼─────────────────┼────────────────────────────┤\n",
              "│ token_ids (\u001b[38;5;33mInputLayer\u001b[0m)        │ (\u001b[38;5;45mNone\u001b[0m, \u001b[38;5;45mNone\u001b[0m)              │               \u001b[38;5;34m0\u001b[0m │ -                          │\n",
              "├───────────────────────────────┼───────────────────────────┼─────────────────┼────────────────────────────┤\n",
              "│ gemma_backbone                │ (\u001b[38;5;45mNone\u001b[0m, \u001b[38;5;45mNone\u001b[0m, \u001b[38;5;34m2048\u001b[0m)        │   \u001b[38;5;34m2,507,536,384\u001b[0m │ padding_mask[\u001b[38;5;34m0\u001b[0m][\u001b[38;5;34m0\u001b[0m],        │\n",
              "│ (\u001b[38;5;33mGemmaBackbone\u001b[0m)               │                           │                 │ token_ids[\u001b[38;5;34m0\u001b[0m][\u001b[38;5;34m0\u001b[0m]            │\n",
              "├───────────────────────────────┼───────────────────────────┼─────────────────┼────────────────────────────┤\n",
              "│ token_embedding               │ (\u001b[38;5;45mNone\u001b[0m, \u001b[38;5;45mNone\u001b[0m, \u001b[38;5;34m256000\u001b[0m)      │     \u001b[38;5;34m524,288,000\u001b[0m │ gemma_backbone[\u001b[38;5;34m0\u001b[0m][\u001b[38;5;34m0\u001b[0m]       │\n",
              "│ (\u001b[38;5;33mReversibleEmbedding\u001b[0m)         │                           │                 │                            │\n",
              "└───────────────────────────────┴───────────────────────────┴─────────────────┴────────────────────────────┘\n"
            ],
            "text/html": [
              "<pre style=\"white-space:pre;overflow-x:auto;line-height:normal;font-family:Menlo,'DejaVu Sans Mono',consolas,'Courier New',monospace\">┏━━━━━━━━━━━━━━━━━━━━━━━━━━━━━━━┳━━━━━━━━━━━━━━━━━━━━━━━━━━━┳━━━━━━━━━━━━━━━━━┳━━━━━━━━━━━━━━━━━━━━━━━━━━━━┓\n",
              "┃<span style=\"font-weight: bold\"> Layer (type)                  </span>┃<span style=\"font-weight: bold\"> Output Shape              </span>┃<span style=\"font-weight: bold\">         Param # </span>┃<span style=\"font-weight: bold\"> Connected to               </span>┃\n",
              "┡━━━━━━━━━━━━━━━━━━━━━━━━━━━━━━━╇━━━━━━━━━━━━━━━━━━━━━━━━━━━╇━━━━━━━━━━━━━━━━━╇━━━━━━━━━━━━━━━━━━━━━━━━━━━━┩\n",
              "│ padding_mask (<span style=\"color: #0087ff; text-decoration-color: #0087ff\">InputLayer</span>)     │ (<span style=\"color: #00d7ff; text-decoration-color: #00d7ff\">None</span>, <span style=\"color: #00d7ff; text-decoration-color: #00d7ff\">None</span>)              │               <span style=\"color: #00af00; text-decoration-color: #00af00\">0</span> │ -                          │\n",
              "├───────────────────────────────┼───────────────────────────┼─────────────────┼────────────────────────────┤\n",
              "│ token_ids (<span style=\"color: #0087ff; text-decoration-color: #0087ff\">InputLayer</span>)        │ (<span style=\"color: #00d7ff; text-decoration-color: #00d7ff\">None</span>, <span style=\"color: #00d7ff; text-decoration-color: #00d7ff\">None</span>)              │               <span style=\"color: #00af00; text-decoration-color: #00af00\">0</span> │ -                          │\n",
              "├───────────────────────────────┼───────────────────────────┼─────────────────┼────────────────────────────┤\n",
              "│ gemma_backbone                │ (<span style=\"color: #00d7ff; text-decoration-color: #00d7ff\">None</span>, <span style=\"color: #00d7ff; text-decoration-color: #00d7ff\">None</span>, <span style=\"color: #00af00; text-decoration-color: #00af00\">2048</span>)        │   <span style=\"color: #00af00; text-decoration-color: #00af00\">2,507,536,384</span> │ padding_mask[<span style=\"color: #00af00; text-decoration-color: #00af00\">0</span>][<span style=\"color: #00af00; text-decoration-color: #00af00\">0</span>],        │\n",
              "│ (<span style=\"color: #0087ff; text-decoration-color: #0087ff\">GemmaBackbone</span>)               │                           │                 │ token_ids[<span style=\"color: #00af00; text-decoration-color: #00af00\">0</span>][<span style=\"color: #00af00; text-decoration-color: #00af00\">0</span>]            │\n",
              "├───────────────────────────────┼───────────────────────────┼─────────────────┼────────────────────────────┤\n",
              "│ token_embedding               │ (<span style=\"color: #00d7ff; text-decoration-color: #00d7ff\">None</span>, <span style=\"color: #00d7ff; text-decoration-color: #00d7ff\">None</span>, <span style=\"color: #00af00; text-decoration-color: #00af00\">256000</span>)      │     <span style=\"color: #00af00; text-decoration-color: #00af00\">524,288,000</span> │ gemma_backbone[<span style=\"color: #00af00; text-decoration-color: #00af00\">0</span>][<span style=\"color: #00af00; text-decoration-color: #00af00\">0</span>]       │\n",
              "│ (<span style=\"color: #0087ff; text-decoration-color: #0087ff\">ReversibleEmbedding</span>)         │                           │                 │                            │\n",
              "└───────────────────────────────┴───────────────────────────┴─────────────────┴────────────────────────────┘\n",
              "</pre>\n"
            ]
          },
          "metadata": {}
        },
        {
          "output_type": "display_data",
          "data": {
            "text/plain": [
              "\u001b[1m Total params: \u001b[0m\u001b[38;5;34m2,507,536,384\u001b[0m (9.34 GB)\n"
            ],
            "text/html": [
              "<pre style=\"white-space:pre;overflow-x:auto;line-height:normal;font-family:Menlo,'DejaVu Sans Mono',consolas,'Courier New',monospace\"><span style=\"font-weight: bold\"> Total params: </span><span style=\"color: #00af00; text-decoration-color: #00af00\">2,507,536,384</span> (9.34 GB)\n",
              "</pre>\n"
            ]
          },
          "metadata": {}
        },
        {
          "output_type": "display_data",
          "data": {
            "text/plain": [
              "\u001b[1m Trainable params: \u001b[0m\u001b[38;5;34m1,363,968\u001b[0m (5.20 MB)\n"
            ],
            "text/html": [
              "<pre style=\"white-space:pre;overflow-x:auto;line-height:normal;font-family:Menlo,'DejaVu Sans Mono',consolas,'Courier New',monospace\"><span style=\"font-weight: bold\"> Trainable params: </span><span style=\"color: #00af00; text-decoration-color: #00af00\">1,363,968</span> (5.20 MB)\n",
              "</pre>\n"
            ]
          },
          "metadata": {}
        },
        {
          "output_type": "display_data",
          "data": {
            "text/plain": [
              "\u001b[1m Non-trainable params: \u001b[0m\u001b[38;5;34m2,506,172,416\u001b[0m (9.34 GB)\n"
            ],
            "text/html": [
              "<pre style=\"white-space:pre;overflow-x:auto;line-height:normal;font-family:Menlo,'DejaVu Sans Mono',consolas,'Courier New',monospace\"><span style=\"font-weight: bold\"> Non-trainable params: </span><span style=\"color: #00af00; text-decoration-color: #00af00\">2,506,172,416</span> (9.34 GB)\n",
              "</pre>\n"
            ]
          },
          "metadata": {}
        }
      ]
    },
    {
      "cell_type": "code",
      "source": [
        "import tensorflow\n",
        "import keras\n",
        "import torch\n",
        "import keras_nlp\n",
        "\n",
        "gemma_lm.preprocessor.sequence_length = 512\n",
        "# Use AdamW (a common optimizer for transformer models).\n",
        "optimizer = keras.optimizers.AdamW(\n",
        "    learning_rate=5e-5,\n",
        "    weight_decay=0.01,\n",
        ")\n",
        "# Exclude layernorm and bias terms from decay.\n",
        "optimizer.exclude_from_weight_decay(var_names=[\"bias\", \"scale\"])\n",
        "\n",
        "gemma_lm.compile(\n",
        "    loss=keras.losses.SparseCategoricalCrossentropy(from_logits=True),\n",
        "    optimizer=optimizer,\n",
        "    weighted_metrics=[keras.metrics.SparseCategoricalAccuracy()],\n",
        ")\n",
        "gemma_lm.fit(data_RK, epochs=10, batch_size=1)"
      ],
      "metadata": {
        "colab": {
          "base_uri": "https://localhost:8080/"
        },
        "id": "L99bQ-kwKtRu",
        "outputId": "cbd71d74-885d-415c-f0a4-277d3e2f0cbb"
      },
      "execution_count": null,
      "outputs": [
        {
          "output_type": "stream",
          "name": "stdout",
          "text": [
            "Epoch 1/10\n",
            "\u001b[1m10/10\u001b[0m \u001b[32m━━━━━━━━━━━━━━━━━━━━\u001b[0m\u001b[37m\u001b[0m \u001b[1m50s\u001b[0m 253ms/step - loss: 2.7013 - sparse_categorical_accuracy: 0.5376\n",
            "Epoch 2/10\n",
            "\u001b[1m10/10\u001b[0m \u001b[32m━━━━━━━━━━━━━━━━━━━━\u001b[0m\u001b[37m\u001b[0m \u001b[1m3s\u001b[0m 253ms/step - loss: 2.6953 - sparse_categorical_accuracy: 0.5388\n",
            "Epoch 3/10\n",
            "\u001b[1m10/10\u001b[0m \u001b[32m━━━━━━━━━━━━━━━━━━━━\u001b[0m\u001b[37m\u001b[0m \u001b[1m3s\u001b[0m 254ms/step - loss: 2.6898 - sparse_categorical_accuracy: 0.5393\n",
            "Epoch 4/10\n",
            "\u001b[1m10/10\u001b[0m \u001b[32m━━━━━━━━━━━━━━━━━━━━\u001b[0m\u001b[37m\u001b[0m \u001b[1m3s\u001b[0m 254ms/step - loss: 2.6828 - sparse_categorical_accuracy: 0.5396\n",
            "Epoch 5/10\n",
            "\u001b[1m10/10\u001b[0m \u001b[32m━━━━━━━━━━━━━━━━━━━━\u001b[0m\u001b[37m\u001b[0m \u001b[1m3s\u001b[0m 254ms/step - loss: 2.6743 - sparse_categorical_accuracy: 0.5415\n",
            "Epoch 6/10\n",
            "\u001b[1m10/10\u001b[0m \u001b[32m━━━━━━━━━━━━━━━━━━━━\u001b[0m\u001b[37m\u001b[0m \u001b[1m3s\u001b[0m 255ms/step - loss: 2.6639 - sparse_categorical_accuracy: 0.5426\n",
            "Epoch 7/10\n",
            "\u001b[1m10/10\u001b[0m \u001b[32m━━━━━━━━━━━━━━━━━━━━\u001b[0m\u001b[37m\u001b[0m \u001b[1m3s\u001b[0m 255ms/step - loss: 2.6519 - sparse_categorical_accuracy: 0.5446\n",
            "Epoch 8/10\n",
            "\u001b[1m10/10\u001b[0m \u001b[32m━━━━━━━━━━━━━━━━━━━━\u001b[0m\u001b[37m\u001b[0m \u001b[1m3s\u001b[0m 256ms/step - loss: 2.6383 - sparse_categorical_accuracy: 0.5470\n",
            "Epoch 9/10\n",
            "\u001b[1m10/10\u001b[0m \u001b[32m━━━━━━━━━━━━━━━━━━━━\u001b[0m\u001b[37m\u001b[0m \u001b[1m3s\u001b[0m 256ms/step - loss: 2.6236 - sparse_categorical_accuracy: 0.5498\n",
            "Epoch 10/10\n",
            "\u001b[1m10/10\u001b[0m \u001b[32m━━━━━━━━━━━━━━━━━━━━\u001b[0m\u001b[37m\u001b[0m \u001b[1m3s\u001b[0m 256ms/step - loss: 2.6078 - sparse_categorical_accuracy: 0.5524\n"
          ]
        },
        {
          "output_type": "execute_result",
          "data": {
            "text/plain": [
              "<keras.src.callbacks.history.History at 0x7e0783b5bb80>"
            ]
          },
          "metadata": {},
          "execution_count": 17
        }
      ]
    },
    {
      "cell_type": "code",
      "source": [
        "prompt = \"Write a Poem titled If.... in Rudyard Kiplings' Style and your response should be in proper poem format with proper beautiful spacing tabs and line breaks\"\n",
        "result2 = gemma_lm.generate(prompt, max_length=128)"
      ],
      "metadata": {
        "id": "TsIlV9JoK5IN"
      },
      "execution_count": null,
      "outputs": []
    },
    {
      "cell_type": "code",
      "source": [
        "print(format_poem(result2))"
      ],
      "metadata": {
        "colab": {
          "base_uri": "https://localhost:8080/"
        },
        "id": "21eWOND2LOK7",
        "outputId": "f12bd111-9c79-4199-8f45-306ca7240bd2"
      },
      "execution_count": null,
      "outputs": [
        {
          "output_type": "stream",
          "name": "stdout",
          "text": [
            "If I could fly like a bird,\n",
            "I would soar above the clouds and see the world from a different perspective.\n",
            "I would see the beauty of the mountains,\n",
            "the majesty of the oceans,\n",
            "and the wonder of the stars.\n",
            "I would feel the freedom of flight,\n",
            "the exhilaration of soaring,\n",
            "and the joy of being free.\n",
            "If I could walk like a tree,\n",
            "I would grow strong and tall,\n",
            "reaching for the sky and\n"
          ]
        }
      ]
    },
    {
      "cell_type": "code",
      "source": [
        "show_comparison(format_poem(result1), format_poem(result2), title1 = 'Initial', title2 = 'Fine Tuned on Rudyard Kiplings Poems')"
      ],
      "metadata": {
        "colab": {
          "base_uri": "https://localhost:8080/"
        },
        "id": "Q4rDan0RLUDm",
        "outputId": "26627575-8e36-4eb2-e04d-28e49dcd788f"
      },
      "execution_count": null,
      "outputs": [
        {
          "output_type": "stream",
          "name": "stdout",
          "text": [
            "                Initial                  |   Fine Tuned on Rudyard Kiplings Poems   |\n",
            "Write a Poem titled If.... If you could  | If I could fly like a bird, I would      | \n",
            "write a poem about your life, what       | soar above the clouds and see the world  | \n",
            "would you write about? Write a poem      | from a different perspective. I would    | \n",
            "about your life. Write a poem about      | see the beauty of the mountains, the     | \n",
            "your life. Write a poem about your       | majesty of the oceans, and the wonder    | \n",
            "life. Write a poem about your life.      | of the stars. I would feel the freedom   | \n",
            "Write a poem about your life. Write a    | of flight, the exhilaration of soaring,  | \n",
            "poem about your life. Write a poem       | and the joy of being free. If I could    | \n",
            "about your life. Write a poem about      | walk like a tree, I would grow strong    | \n",
            "your life. Write a poem about your       | and tall, reaching for the sky and       | \n",
            "life. Write a poem about your life.      |                                          | \n",
            "Write a poem about your life. Write a    |                                          | \n",
            "poem about your life. Write a poem       |                                          | \n",
            "about your life.                         |                                          | \n"
          ]
        }
      ]
    },
    {
      "cell_type": "markdown",
      "source": [
        "The fine tuned model performed Significantly better."
      ],
      "metadata": {
        "id": "xSOMJpVTMjvV"
      }
    },
    {
      "cell_type": "code",
      "source": [
        "prompt = \"Write a Poem on topic Football in Rudyard Kiplings' Style and your response should be in proper poem format with proper beautiful spacing tabs and line breaks\"\n",
        "result3 = format_poem(gemma_lm.generate(prompt, max_length=128))"
      ],
      "metadata": {
        "id": "iZ0GJWQAME77"
      },
      "execution_count": null,
      "outputs": []
    },
    {
      "cell_type": "code",
      "source": [
        "print(format_poem(result3))"
      ],
      "metadata": {
        "colab": {
          "base_uri": "https://localhost:8080/"
        },
        "id": "pDClo8KGN-uv",
        "outputId": "d07305ad-bf4a-4189-dab7-65ebcb738686"
      },
      "execution_count": null,
      "outputs": [
        {
          "output_type": "stream",
          "name": "stdout",
          "text": [
            "Football is a game that brings people together,\n",
            "and it's a game that can bring joy and excitement.\n",
            "It's a game that can bring people together,\n",
            "and it's a game that can bring joy and excitement.\n",
            "It's a game that can bring people together,\n",
            "and it's a game that can bring joy and excitement.\n",
            "It's a game that can bring people\n"
          ]
        }
      ]
    },
    {
      "cell_type": "markdown",
      "source": [
        "# Without fine tuning on T S Eliots' Style"
      ],
      "metadata": {
        "id": "s2GvWMlJR85j"
      }
    },
    {
      "cell_type": "code",
      "source": [
        "prompt = \"Write a Poem titled If.... in T S Eliots' Style and your response should be in proper poem format with proper beautiful spacing tabs and line breaks\"\n",
        "result4 = gemma_lm.generate(prompt, max_length=128)"
      ],
      "metadata": {
        "id": "17_OXu4kOClE"
      },
      "execution_count": null,
      "outputs": []
    },
    {
      "cell_type": "code",
      "source": [
        "print(format_poem(result4))"
      ],
      "metadata": {
        "colab": {
          "base_uri": "https://localhost:8080/"
        },
        "id": "9f21ouACOTks",
        "outputId": "96debcba-85d0-4198-910c-7662001cdb79"
      },
      "execution_count": null,
      "outputs": [
        {
          "output_type": "stream",
          "name": "stdout",
          "text": [
            "If I could be a butterfly,\n",
            "I would fly through the clouds and the blue skies.\n",
            "I would flutter my wings and make a sound,\n",
            "and I would be free from all the cares and the woes.\n",
            "If I could be a butterfly,\n",
            "I would fly away from the world,\n",
            "and I would be free from all the troubles and the strife.\n",
            "I would be a butterfly,\n",
            "and I would be\n"
          ]
        }
      ]
    },
    {
      "cell_type": "markdown",
      "source": [
        "# Fine Tuning on T S Eliots' Poems"
      ],
      "metadata": {
        "id": "th5GaIUvR3l4"
      }
    },
    {
      "cell_type": "code",
      "source": [
        "data2 = pd.read_csv('/content/drive/MyDrive/257rp/T_S_Eliot.csv')"
      ],
      "metadata": {
        "id": "CUPdLtAqOW2X"
      },
      "execution_count": null,
      "outputs": []
    },
    {
      "cell_type": "code",
      "source": [
        "data2.drop('Unnamed: 0',axis=1,inplace=True)\n",
        "data2"
      ],
      "metadata": {
        "colab": {
          "base_uri": "https://localhost:8080/",
          "height": 363
        },
        "id": "_Wiz8P_jPmv9",
        "outputId": "fd71c598-2ac2-45a6-842a-d204e1169088"
      },
      "execution_count": null,
      "outputs": [
        {
          "output_type": "execute_result",
          "data": {
            "text/plain": [
              "                                 Title  \\\n",
              "0                   The Naming Of Cats   \n",
              "1                       The Hollow Men   \n",
              "2            Macavity: The Mystery Cat   \n",
              "3                       The Waste Land   \n",
              "4                   The Old Gumbie Cat   \n",
              "5  The Love Song Of J. Alfred Prufrock   \n",
              "6        Eyes That Last I Saw In Tears   \n",
              "7              The Journey Of The Magi   \n",
              "8                   Portrait Of A Lady   \n",
              "9                Morning At The Window   \n",
              "\n",
              "                                                Poem  \\\n",
              "0  the naming of cats is difficult matter it is n...   \n",
              "1  mistah kurtz he dead penny for the old guy we ...   \n",
              "2  macavity mystery cat he is called the hidden p...   \n",
              "3  part burial of the dead april is the cruelest ...   \n",
              "4  have gumbie cat in mind her name is jennyanydo...   \n",
              "5  s’io credesse che mia risposta fosse persona c...   \n",
              "6  eyes that last saw in tears through division h...   \n",
              "7  cold coming we had of it just the worst time o...   \n",
              "8  thou hast committed— fornication but that was ...   \n",
              "9  they are rattling breakfast plates in basement...   \n",
              "\n",
              "                                      Poem_for_Human  \n",
              "0  The Naming of Cats is a difficult matter,\\nIt ...  \n",
              "1  Mistah Kurtz-he dead\\n             A penny for...  \n",
              "2  Macavity's a Mystery Cat: he's called the Hidd...  \n",
              "3  Part 1 - *Burial of the Dead*\\nApril is the cr...  \n",
              "4  I have a Gumbie Cat in mind, her name is Jenny...  \n",
              "5   S’io credesse che mia risposta fosse \\n A per...  \n",
              "6  Eyes that last I saw in tears\\r\\nThrough divis...  \n",
              "7   A cold coming we had of it,\\nJust the worst t...  \n",
              "8  Thou hast committed—\\n  Fornication: but that ...  \n",
              "9  They are rattling breakfast plates in basement...  "
            ],
            "text/html": [
              "\n",
              "  <div id=\"df-e4cc11b8-c3d7-4aea-8403-62b12ef7592d\" class=\"colab-df-container\">\n",
              "    <div>\n",
              "<style scoped>\n",
              "    .dataframe tbody tr th:only-of-type {\n",
              "        vertical-align: middle;\n",
              "    }\n",
              "\n",
              "    .dataframe tbody tr th {\n",
              "        vertical-align: top;\n",
              "    }\n",
              "\n",
              "    .dataframe thead th {\n",
              "        text-align: right;\n",
              "    }\n",
              "</style>\n",
              "<table border=\"1\" class=\"dataframe\">\n",
              "  <thead>\n",
              "    <tr style=\"text-align: right;\">\n",
              "      <th></th>\n",
              "      <th>Title</th>\n",
              "      <th>Poem</th>\n",
              "      <th>Poem_for_Human</th>\n",
              "    </tr>\n",
              "  </thead>\n",
              "  <tbody>\n",
              "    <tr>\n",
              "      <th>0</th>\n",
              "      <td>The Naming Of Cats</td>\n",
              "      <td>the naming of cats is difficult matter it is n...</td>\n",
              "      <td>The Naming of Cats is a difficult matter,\\nIt ...</td>\n",
              "    </tr>\n",
              "    <tr>\n",
              "      <th>1</th>\n",
              "      <td>The Hollow Men</td>\n",
              "      <td>mistah kurtz he dead penny for the old guy we ...</td>\n",
              "      <td>Mistah Kurtz-he dead\\n             A penny for...</td>\n",
              "    </tr>\n",
              "    <tr>\n",
              "      <th>2</th>\n",
              "      <td>Macavity: The Mystery Cat</td>\n",
              "      <td>macavity mystery cat he is called the hidden p...</td>\n",
              "      <td>Macavity's a Mystery Cat: he's called the Hidd...</td>\n",
              "    </tr>\n",
              "    <tr>\n",
              "      <th>3</th>\n",
              "      <td>The Waste Land</td>\n",
              "      <td>part burial of the dead april is the cruelest ...</td>\n",
              "      <td>Part 1 - *Burial of the Dead*\\nApril is the cr...</td>\n",
              "    </tr>\n",
              "    <tr>\n",
              "      <th>4</th>\n",
              "      <td>The Old Gumbie Cat</td>\n",
              "      <td>have gumbie cat in mind her name is jennyanydo...</td>\n",
              "      <td>I have a Gumbie Cat in mind, her name is Jenny...</td>\n",
              "    </tr>\n",
              "    <tr>\n",
              "      <th>5</th>\n",
              "      <td>The Love Song Of J. Alfred Prufrock</td>\n",
              "      <td>s’io credesse che mia risposta fosse persona c...</td>\n",
              "      <td>S’io credesse che mia risposta fosse \\n A per...</td>\n",
              "    </tr>\n",
              "    <tr>\n",
              "      <th>6</th>\n",
              "      <td>Eyes That Last I Saw In Tears</td>\n",
              "      <td>eyes that last saw in tears through division h...</td>\n",
              "      <td>Eyes that last I saw in tears\\r\\nThrough divis...</td>\n",
              "    </tr>\n",
              "    <tr>\n",
              "      <th>7</th>\n",
              "      <td>The Journey Of The Magi</td>\n",
              "      <td>cold coming we had of it just the worst time o...</td>\n",
              "      <td>A cold coming we had of it,\\nJust the worst t...</td>\n",
              "    </tr>\n",
              "    <tr>\n",
              "      <th>8</th>\n",
              "      <td>Portrait Of A Lady</td>\n",
              "      <td>thou hast committed— fornication but that was ...</td>\n",
              "      <td>Thou hast committed—\\n  Fornication: but that ...</td>\n",
              "    </tr>\n",
              "    <tr>\n",
              "      <th>9</th>\n",
              "      <td>Morning At The Window</td>\n",
              "      <td>they are rattling breakfast plates in basement...</td>\n",
              "      <td>They are rattling breakfast plates in basement...</td>\n",
              "    </tr>\n",
              "  </tbody>\n",
              "</table>\n",
              "</div>\n",
              "    <div class=\"colab-df-buttons\">\n",
              "\n",
              "  <div class=\"colab-df-container\">\n",
              "    <button class=\"colab-df-convert\" onclick=\"convertToInteractive('df-e4cc11b8-c3d7-4aea-8403-62b12ef7592d')\"\n",
              "            title=\"Convert this dataframe to an interactive table.\"\n",
              "            style=\"display:none;\">\n",
              "\n",
              "  <svg xmlns=\"http://www.w3.org/2000/svg\" height=\"24px\" viewBox=\"0 -960 960 960\">\n",
              "    <path d=\"M120-120v-720h720v720H120Zm60-500h600v-160H180v160Zm220 220h160v-160H400v160Zm0 220h160v-160H400v160ZM180-400h160v-160H180v160Zm440 0h160v-160H620v160ZM180-180h160v-160H180v160Zm440 0h160v-160H620v160Z\"/>\n",
              "  </svg>\n",
              "    </button>\n",
              "\n",
              "  <style>\n",
              "    .colab-df-container {\n",
              "      display:flex;\n",
              "      gap: 12px;\n",
              "    }\n",
              "\n",
              "    .colab-df-convert {\n",
              "      background-color: #E8F0FE;\n",
              "      border: none;\n",
              "      border-radius: 50%;\n",
              "      cursor: pointer;\n",
              "      display: none;\n",
              "      fill: #1967D2;\n",
              "      height: 32px;\n",
              "      padding: 0 0 0 0;\n",
              "      width: 32px;\n",
              "    }\n",
              "\n",
              "    .colab-df-convert:hover {\n",
              "      background-color: #E2EBFA;\n",
              "      box-shadow: 0px 1px 2px rgba(60, 64, 67, 0.3), 0px 1px 3px 1px rgba(60, 64, 67, 0.15);\n",
              "      fill: #174EA6;\n",
              "    }\n",
              "\n",
              "    .colab-df-buttons div {\n",
              "      margin-bottom: 4px;\n",
              "    }\n",
              "\n",
              "    [theme=dark] .colab-df-convert {\n",
              "      background-color: #3B4455;\n",
              "      fill: #D2E3FC;\n",
              "    }\n",
              "\n",
              "    [theme=dark] .colab-df-convert:hover {\n",
              "      background-color: #434B5C;\n",
              "      box-shadow: 0px 1px 3px 1px rgba(0, 0, 0, 0.15);\n",
              "      filter: drop-shadow(0px 1px 2px rgba(0, 0, 0, 0.3));\n",
              "      fill: #FFFFFF;\n",
              "    }\n",
              "  </style>\n",
              "\n",
              "    <script>\n",
              "      const buttonEl =\n",
              "        document.querySelector('#df-e4cc11b8-c3d7-4aea-8403-62b12ef7592d button.colab-df-convert');\n",
              "      buttonEl.style.display =\n",
              "        google.colab.kernel.accessAllowed ? 'block' : 'none';\n",
              "\n",
              "      async function convertToInteractive(key) {\n",
              "        const element = document.querySelector('#df-e4cc11b8-c3d7-4aea-8403-62b12ef7592d');\n",
              "        const dataTable =\n",
              "          await google.colab.kernel.invokeFunction('convertToInteractive',\n",
              "                                                    [key], {});\n",
              "        if (!dataTable) return;\n",
              "\n",
              "        const docLinkHtml = 'Like what you see? Visit the ' +\n",
              "          '<a target=\"_blank\" href=https://colab.research.google.com/notebooks/data_table.ipynb>data table notebook</a>'\n",
              "          + ' to learn more about interactive tables.';\n",
              "        element.innerHTML = '';\n",
              "        dataTable['output_type'] = 'display_data';\n",
              "        await google.colab.output.renderOutput(dataTable, element);\n",
              "        const docLink = document.createElement('div');\n",
              "        docLink.innerHTML = docLinkHtml;\n",
              "        element.appendChild(docLink);\n",
              "      }\n",
              "    </script>\n",
              "  </div>\n",
              "\n",
              "\n",
              "<div id=\"df-3eada44d-d0db-4c18-865c-8b00d18fd4be\">\n",
              "  <button class=\"colab-df-quickchart\" onclick=\"quickchart('df-3eada44d-d0db-4c18-865c-8b00d18fd4be')\"\n",
              "            title=\"Suggest charts\"\n",
              "            style=\"display:none;\">\n",
              "\n",
              "<svg xmlns=\"http://www.w3.org/2000/svg\" height=\"24px\"viewBox=\"0 0 24 24\"\n",
              "     width=\"24px\">\n",
              "    <g>\n",
              "        <path d=\"M19 3H5c-1.1 0-2 .9-2 2v14c0 1.1.9 2 2 2h14c1.1 0 2-.9 2-2V5c0-1.1-.9-2-2-2zM9 17H7v-7h2v7zm4 0h-2V7h2v10zm4 0h-2v-4h2v4z\"/>\n",
              "    </g>\n",
              "</svg>\n",
              "  </button>\n",
              "\n",
              "<style>\n",
              "  .colab-df-quickchart {\n",
              "      --bg-color: #E8F0FE;\n",
              "      --fill-color: #1967D2;\n",
              "      --hover-bg-color: #E2EBFA;\n",
              "      --hover-fill-color: #174EA6;\n",
              "      --disabled-fill-color: #AAA;\n",
              "      --disabled-bg-color: #DDD;\n",
              "  }\n",
              "\n",
              "  [theme=dark] .colab-df-quickchart {\n",
              "      --bg-color: #3B4455;\n",
              "      --fill-color: #D2E3FC;\n",
              "      --hover-bg-color: #434B5C;\n",
              "      --hover-fill-color: #FFFFFF;\n",
              "      --disabled-bg-color: #3B4455;\n",
              "      --disabled-fill-color: #666;\n",
              "  }\n",
              "\n",
              "  .colab-df-quickchart {\n",
              "    background-color: var(--bg-color);\n",
              "    border: none;\n",
              "    border-radius: 50%;\n",
              "    cursor: pointer;\n",
              "    display: none;\n",
              "    fill: var(--fill-color);\n",
              "    height: 32px;\n",
              "    padding: 0;\n",
              "    width: 32px;\n",
              "  }\n",
              "\n",
              "  .colab-df-quickchart:hover {\n",
              "    background-color: var(--hover-bg-color);\n",
              "    box-shadow: 0 1px 2px rgba(60, 64, 67, 0.3), 0 1px 3px 1px rgba(60, 64, 67, 0.15);\n",
              "    fill: var(--button-hover-fill-color);\n",
              "  }\n",
              "\n",
              "  .colab-df-quickchart-complete:disabled,\n",
              "  .colab-df-quickchart-complete:disabled:hover {\n",
              "    background-color: var(--disabled-bg-color);\n",
              "    fill: var(--disabled-fill-color);\n",
              "    box-shadow: none;\n",
              "  }\n",
              "\n",
              "  .colab-df-spinner {\n",
              "    border: 2px solid var(--fill-color);\n",
              "    border-color: transparent;\n",
              "    border-bottom-color: var(--fill-color);\n",
              "    animation:\n",
              "      spin 1s steps(1) infinite;\n",
              "  }\n",
              "\n",
              "  @keyframes spin {\n",
              "    0% {\n",
              "      border-color: transparent;\n",
              "      border-bottom-color: var(--fill-color);\n",
              "      border-left-color: var(--fill-color);\n",
              "    }\n",
              "    20% {\n",
              "      border-color: transparent;\n",
              "      border-left-color: var(--fill-color);\n",
              "      border-top-color: var(--fill-color);\n",
              "    }\n",
              "    30% {\n",
              "      border-color: transparent;\n",
              "      border-left-color: var(--fill-color);\n",
              "      border-top-color: var(--fill-color);\n",
              "      border-right-color: var(--fill-color);\n",
              "    }\n",
              "    40% {\n",
              "      border-color: transparent;\n",
              "      border-right-color: var(--fill-color);\n",
              "      border-top-color: var(--fill-color);\n",
              "    }\n",
              "    60% {\n",
              "      border-color: transparent;\n",
              "      border-right-color: var(--fill-color);\n",
              "    }\n",
              "    80% {\n",
              "      border-color: transparent;\n",
              "      border-right-color: var(--fill-color);\n",
              "      border-bottom-color: var(--fill-color);\n",
              "    }\n",
              "    90% {\n",
              "      border-color: transparent;\n",
              "      border-bottom-color: var(--fill-color);\n",
              "    }\n",
              "  }\n",
              "</style>\n",
              "\n",
              "  <script>\n",
              "    async function quickchart(key) {\n",
              "      const quickchartButtonEl =\n",
              "        document.querySelector('#' + key + ' button');\n",
              "      quickchartButtonEl.disabled = true;  // To prevent multiple clicks.\n",
              "      quickchartButtonEl.classList.add('colab-df-spinner');\n",
              "      try {\n",
              "        const charts = await google.colab.kernel.invokeFunction(\n",
              "            'suggestCharts', [key], {});\n",
              "      } catch (error) {\n",
              "        console.error('Error during call to suggestCharts:', error);\n",
              "      }\n",
              "      quickchartButtonEl.classList.remove('colab-df-spinner');\n",
              "      quickchartButtonEl.classList.add('colab-df-quickchart-complete');\n",
              "    }\n",
              "    (() => {\n",
              "      let quickchartButtonEl =\n",
              "        document.querySelector('#df-3eada44d-d0db-4c18-865c-8b00d18fd4be button');\n",
              "      quickchartButtonEl.style.display =\n",
              "        google.colab.kernel.accessAllowed ? 'block' : 'none';\n",
              "    })();\n",
              "  </script>\n",
              "</div>\n",
              "\n",
              "  <div id=\"id_c47fa5a7-c31c-43ae-b210-239a67d02c5a\">\n",
              "    <style>\n",
              "      .colab-df-generate {\n",
              "        background-color: #E8F0FE;\n",
              "        border: none;\n",
              "        border-radius: 50%;\n",
              "        cursor: pointer;\n",
              "        display: none;\n",
              "        fill: #1967D2;\n",
              "        height: 32px;\n",
              "        padding: 0 0 0 0;\n",
              "        width: 32px;\n",
              "      }\n",
              "\n",
              "      .colab-df-generate:hover {\n",
              "        background-color: #E2EBFA;\n",
              "        box-shadow: 0px 1px 2px rgba(60, 64, 67, 0.3), 0px 1px 3px 1px rgba(60, 64, 67, 0.15);\n",
              "        fill: #174EA6;\n",
              "      }\n",
              "\n",
              "      [theme=dark] .colab-df-generate {\n",
              "        background-color: #3B4455;\n",
              "        fill: #D2E3FC;\n",
              "      }\n",
              "\n",
              "      [theme=dark] .colab-df-generate:hover {\n",
              "        background-color: #434B5C;\n",
              "        box-shadow: 0px 1px 3px 1px rgba(0, 0, 0, 0.15);\n",
              "        filter: drop-shadow(0px 1px 2px rgba(0, 0, 0, 0.3));\n",
              "        fill: #FFFFFF;\n",
              "      }\n",
              "    </style>\n",
              "    <button class=\"colab-df-generate\" onclick=\"generateWithVariable('data2')\"\n",
              "            title=\"Generate code using this dataframe.\"\n",
              "            style=\"display:none;\">\n",
              "\n",
              "  <svg xmlns=\"http://www.w3.org/2000/svg\" height=\"24px\"viewBox=\"0 0 24 24\"\n",
              "       width=\"24px\">\n",
              "    <path d=\"M7,19H8.4L18.45,9,17,7.55,7,17.6ZM5,21V16.75L18.45,3.32a2,2,0,0,1,2.83,0l1.4,1.43a1.91,1.91,0,0,1,.58,1.4,1.91,1.91,0,0,1-.58,1.4L9.25,21ZM18.45,9,17,7.55Zm-12,3A5.31,5.31,0,0,0,4.9,8.1,5.31,5.31,0,0,0,1,6.5,5.31,5.31,0,0,0,4.9,4.9,5.31,5.31,0,0,0,6.5,1,5.31,5.31,0,0,0,8.1,4.9,5.31,5.31,0,0,0,12,6.5,5.46,5.46,0,0,0,6.5,12Z\"/>\n",
              "  </svg>\n",
              "    </button>\n",
              "    <script>\n",
              "      (() => {\n",
              "      const buttonEl =\n",
              "        document.querySelector('#id_c47fa5a7-c31c-43ae-b210-239a67d02c5a button.colab-df-generate');\n",
              "      buttonEl.style.display =\n",
              "        google.colab.kernel.accessAllowed ? 'block' : 'none';\n",
              "\n",
              "      buttonEl.onclick = () => {\n",
              "        google.colab.notebook.generateWithVariable('data2');\n",
              "      }\n",
              "      })();\n",
              "    </script>\n",
              "  </div>\n",
              "\n",
              "    </div>\n",
              "  </div>\n"
            ],
            "application/vnd.google.colaboratory.intrinsic+json": {
              "type": "dataframe",
              "variable_name": "data2",
              "summary": "{\n  \"name\": \"data2\",\n  \"rows\": 10,\n  \"fields\": [\n    {\n      \"column\": \"Title\",\n      \"properties\": {\n        \"dtype\": \"string\",\n        \"num_unique_values\": 10,\n        \"samples\": [\n          \"Portrait Of A Lady\",\n          \"The Hollow Men\",\n          \"The Love Song Of J. Alfred Prufrock\"\n        ],\n        \"semantic_type\": \"\",\n        \"description\": \"\"\n      }\n    },\n    {\n      \"column\": \"Poem\",\n      \"properties\": {\n        \"dtype\": \"string\",\n        \"num_unique_values\": 10,\n        \"samples\": [\n          \"thou hast committed\\u2014 fornication but that was in another country and besides the wench is dead the jew of malta among the smoke and fog of december afternoon you have the scene arrange itself\\u2014as it will seem to do\\u2014 with have saved this afternoon for you and four wax candles in the darkened room four rings of light upon the ceiling overhead an atmosphere of juliet tomb prepared for all the things to be said or left unsaid we have been let us say to hear the latest pole transmit the preludes through his hair and finger tips so intimate this chopin that think his soul should be resurrected only among friends some two or three who will not touch the bloom that is rubbed and questioned in the concert room \\u2014and so the conversation slips among velleities and carefully caught regrets through attenuated tones of violins mingled with remote cornets and begins you do not know how much they mean to me my friends and how how rare and strange it is to find in life composed so much so much of odds and ends for indeed do not love it\\u2026 you knew you are not blind how keen you are to find friend who has these qualities who has and gives those qualities upon which friendship lives how much it means that say this to you\\u2014 without these friendships\\u2014life what cauchemar among the windings of the violins and the ariettes of cracked cornets inside my brain dull tom tom begins absurdly hammering prelude of its own capricious monotone that is at least one definite false note \\u2014let us take the air in tobacco trance admire the monuments discuss the late events correct our watches by the public clocks then sit for half an hour and drink our bocks ii now that lilacs are in bloom she has bowl of lilacs in her room and twists one in her fingers while she talks ah my friend you do not know you do not know what life is you should hold it in your hands slowly twisting the lilac stalks you let it flow from you you let it flow and youth is cruel and has no remorse and smiles at situations which it cannot see smile of course and go on drinking tea yet with these april sunsets that somehow recall my buried life and paris in the spring feel immeasurably at peace and find the world to be wonderful and youthful after all the voice returns like the insistent out of tune of broken violin on an august afternoon am always sure that you understand my feelings always sure that you feel sure that across the gulf you reach your hand you are invulnerable you have no achilles heel you will go on and when you have prevailed you can say at this point many one has failed but what have but what have my friend to give you what can you receive from me only the friendship and the sympathy of one about to reach her journey end shall sit here serving tea to friends\\u2026 take my hat how can make cowardly amends for what she has said to me you will see me any morning in the park reading the comics and the sporting page particularly remark an english countess goes upon the stage greek was murdered at polish dance another bank defaulter has confessed keep my countenance remain self possessed except when street piano mechanical and tired reiterates some worn out common song with the smell of hyacinths across the garden recalling things that other people have desired are these ideas right or wrong iii the october night comes down returning as before except for slight sensation of being ill at ease mount the stairs and turn the handle of the door and feel as if had mounted on my hands and knees and so you are going abroad and when do you return but that is useless question you hardly know when you are coming back you will find so much to learn my smile falls heavily among the bric brac perhaps you can write to me my self possession flares up for second this is as had reckoned have been wondering frequently of late but our beginnings never know our ends why we have not developed into friends feel like one who smiles and turning shall remark suddenly his expression in glass my self possession gutters we are really in the dark for everybody said so all our friends they all were sure our feelings would relate so closely myself can hardly understand we must leave it now to fate you will write at any rate perhaps it is not too late shall sit here serving tea to friends and must borrow every changing shape to find expression\\u2026 dance dance like dancing bear cry like parrot chatter like an ape let us take the air in tobacco trance\\u2014 well and what if she should die some afternoon afternoon grey and smoky evening yellow and rose should die and leave me sitting pen in hand with the smoke coming down above the housetops doubtful for quite while not knowing what to feel or if understand or whether wise or foolish tardy or too soon\\u2026 would she not have the advantage after all this music is successful with dying fall now that we talk of dying\\u2014 and should have the right to smile\",\n          \"mistah kurtz he dead penny for the old guy we are the hollow men we are the stuffed men leaning together headpiece filled with straw alas our dried voices when we whisper together are quiet and meaningless as wind in dry grass or rats feet over broken glass in our dry cellar shape without form shade without colour paralysed force gesture without motion those who have crossed with direct eyes to death other kingdom remember us if at all not as lost violent souls but only as the hollow men the stuffed men ii eyes dare not meet in dreams in death dream kingdom these do not appear there the eyes are sunlight on broken column there is tree swinging and voices are in the wind singing more distant and more solemn than fading star let me be no nearer in death dream kingdom let me also wear such deliberate disguises rat coat crowskin crossed staves in field behaving as the wind behaves no nearer not that final meeting in the twilight kingdom iii this is the dead land this is cactus land here the stone images are raised here they receive the supplication of dead man hand under the twinkle of fading star is it like this in death other kingdom waking alone at the hour when we are trembling with tenderness lips that would kiss form prayers to broken stone iv the eyes are not here there are no eyes here in this valley of dying stars in this hollow valley this broken jaw of our lost kingdoms in this last of meeting places we grope together and avoid speech gathered on this beach of the tumid river sightless unless the eyes reappear as the perpetual star multifoliate rose of death twilight kingdom the hope only of empty men here we go round the prickly pear prickly pear prickly pear here we go round the prickly pear at five of the clock in the morning between the idea and the reality between the motion and the act falls the shadow for thine is the kingdom between the conception and the creation between the emotion and the response falls the shadow life is very long between the desire and the spasm between the potency and the existence between the essence and the descent falls the shadow for thine is the kingdom for thine is life is for thine is the this is the way the world ends this is the way the world ends this is the way the world ends not with bang but whimper\",\n          \"s\\u2019io credesse che mia risposta fosse persona che mai tornasse al mondo questa fiamma staria senza piu scosse ma perciocche giammai di questo fondo non torno vivo alcun s\\u2019i\\u2019odo il vero senza tema d\\u2019infamia ti rispondo let us go then you and when the evening is spread out against the sky like patient etherised upon table let us go through certain half deserted streets the muttering retreats of restless nights in one night cheap hotels and sawdust restaurants with oyster shells streets that follow like tedious argument of insidious intent to lead you to an overwhelming question oh do not ask \\u201cwhat is it let us go and make our visit in the room the women come and go talking of michelangelo the yellow fog that rubs its back upon the window panes the yellow smoke that rubs its muzzle on the window panes licked its tongue into the corners of the evening lingered upon the pools that stand in drains let fall upon its back the soot that falls from chimneys slipped by the terrace made sudden leap and seeing that it was soft october night curled once about the house and fell asleep and indeed there will be time for the yellow smoke that slides along the street rubbing its back upon the window panes there will be time there will be time to prepare face to meet the faces that you meet there will be time to murder and create and time for all the works and days of hands that lift and drop question on your plate time for you and time for me and time yet for hundred indecisions and for hundred visions and revisions before the taking of toast and tea in the room the women come and go talking of michelangelo and indeed there will be time to wonder \\u201cdo dare and \\u201cdo dare time to turn back and descend the stair with bald spot in the middle of my hair\\u2014 they will say \\u201chow his hair is growing thin my morning coat my collar mounting firmly to the chin my necktie rich and modest but asserted by simple pin\\u2014 they will say \\u201cbut how his arms and legs are thin do dare disturb the universe in minute there is time for decisions and revisions which minute will reverse for have known them all already known them all have known the evenings mornings afternoons have measured out my life with coffee spoons know the voices dying with dying fall beneath the music from farther room so how should presume and have known the eyes already known them all\\u2014 the eyes that fix you in formulated phrase and when am formulated sprawling on pin when am pinned and wriggling on the wall then how should begin to spit out all the butt ends of my days and ways and how should presume and have known the arms already known them all\\u2014 arms that are braceleted and white and bare but in the lamplight downed with light brown hair it is perfume from dress that makes me so digress arms that lie along table or wrap about shawl and should then presume and how should begin shall say have gone at dusk through narrow streets and watched the smoke that rises from the pipes of lonely men in shirt sleeves leaning out of windows should have been pair of ragged claws scuttling across the floors of silent seas and the afternoon the evening sleeps so peacefully smoothed by long fingers asleep tired or it malingers stretched on the floor here beside you and me should after tea and cakes and ices have the strength to force the moment to its crisis but though have wept and fasted wept and prayed though have seen my head grown slightly bald brought in upon platter am no prophet\\u2014and here is no great matter have seen the moment of my greatness flicker and have seen the eternal footman hold my coat and snicker and in short was afraid and would it have been worth it after all after the cups the marmalade the tea among the porcelain among some talk of you and me would it have been worth while to have bitten off the matter with smile to have squeezed the universe into ball to roll it toward some overwhelming question to say \\u201ci am lazarus come from the dead come back to tell you all shall tell you all\\u201d\\u2014 if one settling pillow by her head should say \\u201cthat is not what meant at all that is not it at all and would it have been worth it after all would it have been worth while after the sunsets and the dooryards and the sprinkled streets after the novels after the teacups after the skirts that trail along the floor\\u2014 and this and so much more it is impossible to say just what mean but as if magic lantern threw the nerves in patterns on screen would it have been worth while if one settling pillow or throwing off shawl and turning toward the window should say \\u201cthat is not it at all that is not what meant at all no am not prince hamlet nor was meant to be am an attendant lord one that will do to swell progress start scene or two advise the prince no doubt an easy tool deferential glad to be of use politic cautious and meticulous full of high sentence but bit obtuse at times indeed almost ridiculous\\u2014 almost at times the fool grow old grow old shall wear the bottoms of my trousers rolled shall part my hair behind do dare to eat peach shall wear white flannel trousers and walk upon the beach have heard the mermaids singing each to each do not think that they will sing to me have seen them riding seaward on the waves combing the white hair of the waves blown back when the wind blows the water white and black we have lingered in the chambers of the sea by sea girls wreathed with seaweed red and brown till human voices wake us and we drown\"\n        ],\n        \"semantic_type\": \"\",\n        \"description\": \"\"\n      }\n    },\n    {\n      \"column\": \"Poem_for_Human\",\n      \"properties\": {\n        \"dtype\": \"string\",\n        \"num_unique_values\": 10,\n        \"samples\": [\n          \"Thou hast committed\\u2014\\n\\u00a0 Fornication: but that was in another country\\n\\u00a0 And besides, the wench is dead.\\n\\u00a0 The Jew of Malta.\\nI\\n\\nAmong the smoke and fog of a December afternoon\\nYou have the scene arrange itself\\u2014as it will seem to do\\u2014\\nWith \\\"I have saved this afternoon for you\\\";\\nAnd four wax candles in the darkened room,\\nFour rings of light upon the ceiling overhead,\\nAn atmosphere of Juliet's tomb\\nPrepared for all the things to be said, or left unsaid.\\nWe have been, let us say, to hear the latest Pole\\nTransmit the Preludes, through his hair and finger-tips.\\n\\\"So intimate, this Chopin, that I think his soul\\nShould be resurrected only among friends\\nSome two or three, who will not touch the bloom\\nThat is rubbed and questioned in the concert room.\\\"\\n\\u2014And so the conversation slips\\nAmong velleities and carefully caught regrets\\nThrough attenuated tones of violins\\nMingled with remote cornets\\nAnd begins.\\n\\n\\\"You do not know how much they mean to me, my friends,\\nAnd how, how rare and strange it is, to find\\nIn a life composed so much, so much of odds and ends,\\n(For indeed I do not love it\\u2026 you knew? you are not blind!\\nHow keen you are!)\\nTo find a friend who has these qualities,\\nWho has, and gives\\nThose qualities upon which friendship lives.\\nHow much it means that I say this to you\\u2014\\nWithout these friendships\\u2014life, what cauchemar!\\\"\\nAmong the windings of the violins\\nAnd the ariettes\\nOf cracked cornets\\nInside my brain a dull tom-tom begins\\nAbsurdly hammering a prelude of its own,\\nCapricious monotone\\nThat is at least one definite \\\"false note.\\\"\\n\\u2014Let us take the air, in a tobacco trance,\\nAdmire the monuments\\nDiscuss the late events,\\nCorrect our watches by the public clocks.\\nThen sit for half an hour and drink our bocks.\\n\\nII\\n\\nNow that lilacs are in bloom\\nShe has a bowl of lilacs in her room\\nAnd twists one in her fingers while she talks.\\n\\\"Ah, my friend, you do not know, you do not know\\nWhat life is, you should hold it in your hands\\\";\\n(Slowly(twisting the lilac stalks)\\n\\\"You let it flow from you, you let it flow,\\nAnd youth is cruel, and has no remorse\\nAnd smiles at situations which it cannot see.\\\"\\nI smile, of course,\\nAnd go on drinking tea.\\n\\\"Yet with these April sunsets, that somehow recall\\nMy buried life, and Paris in the Spring,\\nI feel immeasurably at peace, and find the world\\nTo be wonderful and youthful, after all.\\\"\\n\\nThe voice returns like the insistent out-of-tune\\nOf a broken violin on an August afternoon:\\n\\\"I am always sure that you understand\\nMy feelings, always sure that you feel,\\nSure that across the gulf you reach your hand.\\n\\nYou are invulnerable, you have no Achilles' heel.\\nYou will go on, and when you have prevailed\\nYou can say: at this point many a one has failed.\\n\\nBut what have I, but what have I, my friend,\\nTo give you, what can you receive from me?\\nOnly the friendship and the sympathy\\nOf one about to reach her journey's end.\\n\\nI shall sit here, serving tea to friends\\u2026.\\\"\\n\\nI take my hat: how can I make a cowardly amends\\nFor what she has said to me?\\nYou will see me any morning in the park\\nReading the comics and the sporting page.\\nParticularly I remark An English countess goes upon the stage.\\nA Greek was murdered at a Polish dance,\\nAnother bank defaulter has confessed.\\nI keep my countenance, I remain self-possessed\\nExcept when a street piano, mechanical and tired\\nReiterates some worn-out common song\\nWith the smell of hyacinths across the garden\\nRecalling things that other people have desired.\\nAre these ideas right or wrong?\\n\\nIII\\n\\nThe October night comes down; returning as before\\nExcept for a slight sensation of being ill at ease\\nI mount the stairs and turn the handle of the door\\nAnd feel as if I had mounted on my hands and knees.\\n\\n\\\"And so you are going abroad; and when do you return?\\nBut that's a useless question.\\nYou hardly know when you are coming back,\\nYou will find so much to learn.\\\"\\nMy smile falls heavily among the bric-\\u00e0-brac.\\n\\n\\\"Perhaps you can write to me.\\\"\\nMy self-possession flares up for a second;\\nThis is as I had reckoned.\\n\\n\\\"I have been wondering frequently of late\\n(But our beginnings never know our ends!)\\nWhy we have not developed into friends.\\\"\\nI feel like one who smiles, and turning shall remark\\nSuddenly, his expression in a glass.\\nMy self-possession gutters; we are really in the dark.\\n\\n\\\"For everybody said so, all our friends,\\nThey all were sure our feelings would relate\\nSo closely! I myself can hardly understand.\\nWe must leave it now to fate.\\nYou will write, at any rate.\\nPerhaps it is not too late.\\nI shall sit here, serving tea to friends.\\\"\\n\\nAnd I must borrow every changing shape \\nTo find expression\\u2026 dance, dance\\nLike a dancing bear,\\nCry like a parrot, chatter like an ape.\\nLet us take the air, in a tobacco trance\\u2014\\nWell! and what if she should die some afternoon,\\nAfternoon grey and smoky, evening yellow and rose;\\nShould die and leave me sitting pen in hand\\nWith the smoke coming down above the housetops;\\nDoubtful, for quite a while\\nNot knowing what to feel or if I understand\\nOr whether wise or foolish, tardy or too soon\\u2026\\nWould she not have the advantage, after all?\\nThis music is successful with a \\\"dying fall\\\"\\nNow that we talk of dying\\u2014\\nAnd should I have the right to smile?     \",\n          \"Mistah Kurtz-he dead\\n\\u00a0 \\u00a0 \\u00a0 \\u00a0 \\u00a0 \\u00a0  A penny for the Old Guy\\n\\n\\n\\u00a0 \\u00a0 \\u00a0 \\u00a0 \\u00a0 \\u00a0 \\u00a0 \\u00a0 \\u00a0 \\u00a0 \\u00a0 \\u00a0 I\\n\\n\\u00a0 \\u00a0  We are the hollow men\\n\\u00a0 \\u00a0  We are the stuffed men\\n\\u00a0 \\u00a0  Leaning together\\n\\u00a0 \\u00a0  Headpiece filled with straw. Alas!\\n\\u00a0 \\u00a0  Our dried voices, when\\n\\u00a0 \\u00a0  We whisper together\\n\\u00a0 \\u00a0  Are quiet and meaningless\\n\\u00a0 \\u00a0  As wind in dry grass\\n\\u00a0 \\u00a0  Or rats' feet over broken glass\\n\\u00a0 \\u00a0  In our dry cellar\\n\\u00a0 \\u00a0  \\n\\u00a0 \\u00a0  Shape without form, shade without colour,\\n\\u00a0 \\u00a0  Paralysed force, gesture without motion;\\n\\u00a0 \\u00a0  \\n\\u00a0 \\u00a0  Those who have crossed\\n\\u00a0 \\u00a0  With direct eyes, to death's other Kingdom\\n\\u00a0 \\u00a0  Remember us-if at all-not as lost\\n\\u00a0 \\u00a0  Violent souls, but only\\n\\u00a0 \\u00a0  As the hollow men\\n\\u00a0 \\u00a0  The stuffed men.\\n\\n\\u00a0 \\u00a0  \\n\\u00a0 \\u00a0 \\u00a0 \\u00a0 \\u00a0 \\u00a0 \\u00a0 \\u00a0 \\u00a0 \\u00a0 \\u00a0 \\u00a0 \\u00a0 \\u00a0 \\u00a0  II\\n\\n\\u00a0 \\u00a0  Eyes I dare not meet in dreams\\n\\u00a0 \\u00a0  In death's dream kingdom\\n\\u00a0 \\u00a0  These do not appear:\\n\\u00a0 \\u00a0  There, the eyes are\\n\\u00a0 \\u00a0  Sunlight on a broken column\\n\\u00a0 \\u00a0  There, is a tree swinging\\n\\u00a0 \\u00a0  And voices are\\n\\u00a0 \\u00a0  In the wind's singing\\n\\u00a0 \\u00a0  More distant and more solemn\\n\\u00a0 \\u00a0  Than a fading star.\\n\\u00a0 \\u00a0  \\n\\u00a0 \\u00a0  Let me be no nearer\\n\\u00a0 \\u00a0  In death's dream kingdom\\n\\u00a0 \\u00a0  Let me also wear\\n\\u00a0 \\u00a0  Such deliberate disguises\\n\\u00a0 \\u00a0  Rat's coat, crowskin, crossed staves\\n\\u00a0 \\u00a0  In a field\\n\\u00a0 \\u00a0  Behaving as the wind behaves\\n\\u00a0 \\u00a0  No nearer-\\n\\u00a0 \\u00a0  \\n\\u00a0 \\u00a0  Not that final meeting\\n\\u00a0 \\u00a0  In the twilight kingdom\\n\\n\\u00a0 \\u00a0  \\n\\u00a0 \\u00a0 \\u00a0 \\u00a0 \\u00a0 \\u00a0 \\u00a0 \\u00a0 \\u00a0 \\u00a0 III\\n\\n\\u00a0 \\u00a0  This is the dead land\\n\\u00a0 \\u00a0  This is cactus land\\n\\u00a0 \\u00a0  Here the stone images\\n\\u00a0 \\u00a0  Are raised, here they receive\\n\\u00a0 \\u00a0  The supplication of a dead man's hand\\n\\u00a0 \\u00a0  Under the twinkle of a fading star.\\n\\u00a0 \\u00a0  \\n\\u00a0 \\u00a0  Is it like this\\n\\u00a0 \\u00a0  In death's other kingdom\\n\\u00a0 \\u00a0  Waking alone\\n\\u00a0 \\u00a0  At the hour when we are\\n\\u00a0 \\u00a0  Trembling with tenderness\\n\\u00a0 \\u00a0  Lips that would kiss\\n\\u00a0 \\u00a0  Form prayers to broken stone.\\n\\n\\u00a0 \\u00a0  \\n\\u00a0 \\u00a0 \\u00a0 \\u00a0 \\u00a0 \\u00a0 \\u00a0 \\u00a0 \\u00a0 \\u00a0 \\u00a0 IV\\n\\n\\u00a0 \\u00a0  The eyes are not here\\n\\u00a0 \\u00a0  There are no eyes here\\n\\u00a0 \\u00a0  In this valley of dying stars\\n\\u00a0 \\u00a0  In this hollow valley\\n\\u00a0 \\u00a0  This broken jaw of our lost kingdoms\\n\\u00a0 \\u00a0  \\n\\u00a0 \\u00a0  In this last of meeting places\\n\\u00a0 \\u00a0  We grope together\\n\\u00a0 \\u00a0  And avoid speech\\n\\u00a0 \\u00a0  Gathered on this beach of the tumid river\\n\\u00a0 \\u00a0  \\n\\u00a0 \\u00a0  Sightless, unless\\n\\u00a0 \\u00a0  The eyes reappear\\n\\u00a0 \\u00a0  As the perpetual star\\n\\u00a0 \\u00a0  Multifoliate rose\\n\\u00a0 \\u00a0  Of death's twilight kingdom\\n\\u00a0 \\u00a0  The hope only\\n\\u00a0 \\u00a0  Of empty men.\\n\\n\\u00a0 \\u00a0  \\n\\u00a0 \\u00a0 \\u00a0 \\u00a0 \\u00a0 \\u00a0 \\u00a0 \\u00a0 \\u00a0 \\u00a0 \\u00a0 \\u00a0 \\u00a0 \\u00a0 V\\n\\n\\u00a0 \\u00a0  Here we go round the prickly pear\\n\\u00a0 \\u00a0  Prickly pear prickly pear\\n\\u00a0 \\u00a0  Here we go round the prickly pear\\n\\u00a0 \\u00a0  At five o'clock in the morning.\\n\\u00a0 \\u00a0  \\n\\u00a0 \\u00a0  Between the idea\\n\\u00a0 \\u00a0  And the reality\\n\\u00a0 \\u00a0  Between the motion\\n\\u00a0 \\u00a0  And the act\\n\\u00a0 \\u00a0  Falls the Shadow\\n\\u00a0 \\u00a0 \\u00a0 \\u00a0 \\u00a0 \\u00a0 \\u00a0 \\u00a0 \\u00a0 \\u00a0 \\u00a0 \\u00a0 \\u00a0 \\u00a0 \\u00a0 \\u00a0 \\u00a0 \\u00a0 For Thine is the Kingdom\\n\\u00a0 \\u00a0  \\n\\u00a0 \\u00a0  Between the conception\\n\\u00a0 \\u00a0  And the creation\\n\\u00a0 \\u00a0  Between the emotion\\n\\u00a0 \\u00a0  And the response\\n\\u00a0 \\u00a0  Falls the Shadow\\n\\u00a0 \\u00a0 \\u00a0 \\u00a0 \\u00a0 \\u00a0 \\u00a0 \\u00a0 \\u00a0 \\u00a0 \\u00a0 \\u00a0 \\u00a0 \\u00a0 \\u00a0 \\u00a0 \\u00a0 \\u00a0 Life is very long\\n\\u00a0 \\u00a0  \\n\\u00a0 \\u00a0  Between the desire\\n\\u00a0 \\u00a0  And the spasm\\n\\u00a0 \\u00a0  Between the potency\\n\\u00a0 \\u00a0  And the existence\\n\\u00a0 \\u00a0  Between the essence\\n\\u00a0 \\u00a0  And the descent\\n\\u00a0 \\u00a0  Falls the Shadow\\n\\u00a0 \\u00a0 \\u00a0 \\u00a0 \\u00a0 \\u00a0 \\u00a0 \\u00a0 \\u00a0 \\u00a0 \\u00a0 \\u00a0 \\u00a0 \\u00a0 \\u00a0 \\u00a0 \\u00a0 \\u00a0 For Thine is the Kingdom\\n\\u00a0 \\u00a0  \\n\\u00a0 \\u00a0  For Thine is\\n\\u00a0 \\u00a0  Life is\\n\\u00a0 \\u00a0  For Thine is the\\n\\u00a0 \\u00a0  \\n\\u00a0 \\u00a0  This is the way the world ends\\n\\u00a0 \\u00a0  This is the way the world ends\\n\\u00a0 \\u00a0  This is the way the world ends\\n\\u00a0 \\u00a0  Not with a bang but a whimper.      \",\n          \" S\\u2019io credesse che mia risposta fosse \\n A persona che mai tornasse al mondo, \\n Questa fiamma staria senza piu scosse. \\n Ma perciocche giammai di questo fondo \\n Non torno vivo alcun, s\\u2019i\\u2019odo il vero, \\n Senza tema d\\u2019infamia ti rispondo. \\n\\u00a0 \\n\\u00a0 \\nLet us go then, you and I,\\u00a0 \\nWhen the evening is spread out against the sky\\u00a0 \\nLike a patient etherised upon a table;\\u00a0 \\nLet us go, through certain half-deserted streets,\\u00a0 \\nThe muttering retreats\\u00a0 \\u00a0 \\u00a0 \\u00a0  \\nOf restless nights in one-night cheap hotels\\u00a0 \\nAnd sawdust restaurants with oyster-shells:\\u00a0 \\nStreets that follow like a tedious argument\\u00a0 \\nOf insidious intent\\u00a0 \\nTo lead you to an overwhelming question \\u2026\\u00a0 \\u00a0 \\u00a0 \\u00a0 \\u00a0 \\nOh, do not ask, \\u201cWhat is it?\\u201d\\u00a0 \\nLet us go and make our visit.\\u00a0 \\n\\u00a0 \\nIn the room the women come and go\\u00a0 \\nTalking of Michelangelo.\\u00a0 \\n\\u00a0 \\nThe yellow fog that rubs its back upon the window-panes,\\u00a0 \\u00a0 \\u00a0 \\u00a0  \\nThe yellow smoke that rubs its muzzle on the window-panes\\u00a0 \\nLicked its tongue into the corners of the evening,\\u00a0 \\nLingered upon the pools that stand in drains,\\u00a0 \\nLet fall upon its back the soot that falls from chimneys,\\u00a0 \\nSlipped by the terrace, made a sudden leap,\\u00a0 \\u00a0 \\u00a0 \\u00a0 \\u00a0 \\nAnd seeing that it was a soft October night,\\u00a0 \\nCurled once about the house, and fell asleep.\\u00a0 \\n\\u00a0 \\nAnd indeed there will be time\\u00a0 \\nFor the yellow smoke that slides along the street,\\u00a0 \\nRubbing its back upon the window-panes;\\u00a0 \\u00a0 \\u00a0 \\u00a0 \\u00a0 \\nThere will be time, there will be time\\u00a0 \\nTo prepare a face to meet the faces that you meet;\\u00a0 \\nThere will be time to murder and create,\\u00a0 \\nAnd time for all the works and days of hands\\u00a0 \\nThat lift and drop a question on your plate;\\u00a0 \\u00a0 \\u00a0 \\u00a0 \\u00a0 \\nTime for you and time for me,\\u00a0 \\nAnd time yet for a hundred indecisions,\\u00a0 \\nAnd for a hundred visions and revisions,\\u00a0 \\nBefore the taking of a toast and tea.\\u00a0 \\n\\u00a0 \\nIn the room the women come and go\\u00a0 \\u00a0 \\u00a0 \\u00a0 \\u00a0 \\nTalking of Michelangelo.\\u00a0 \\n\\u00a0 \\nAnd indeed there will be time\\u00a0 \\nTo wonder, \\u201cDo I dare?\\u201d and, \\u201cDo I dare?\\u201d\\u00a0 \\nTime to turn back and descend the stair,\\u00a0 \\nWith a bald spot in the middle of my hair\\u2014\\u00a0 \\u00a0 \\u00a0 \\u00a0 \\u00a0 \\nThey will say: \\u201cHow his hair is growing thin!\\u201d\\u00a0 \\nMy morning coat, my collar mounting firmly to the chin,\\u00a0 \\nMy necktie rich and modest, but asserted by a simple pin\\u2014\\u00a0 \\nThey will say: \\u201cBut how his arms and legs are thin!\\u201d\\u00a0 \\nDo I dare\\u00a0 \\u00a0 \\u00a0 \\u00a0  \\nDisturb the universe?\\u00a0 \\nIn a minute there is time\\u00a0 \\nFor decisions and revisions which a minute will reverse.\\u00a0 \\n\\u00a0 \\nFor I have known them all already, known them all:\\u2014\\u00a0 \\nHave known the evenings, mornings, afternoons,\\u00a0 \\u00a0 \\u00a0 \\u00a0 \\u00a0 \\nI have measured out my life with coffee spoons;\\u00a0 \\nI know the voices dying with a dying fall\\u00a0 \\nBeneath the music from a farther room.\\u00a0 \\n\\u00a0 So how should I presume?\\u00a0 \\n\\u00a0 \\nAnd I have known the eyes already, known them all\\u2014\\u00a0 \\u00a0 \\u00a0 \\u00a0  \\nThe eyes that fix you in a formulated phrase,\\u00a0 \\nAnd when I am formulated, sprawling on a pin,\\u00a0 \\nWhen I am pinned and wriggling on the wall,\\u00a0 \\nThen how should I begin\\u00a0 \\nTo spit out all the butt-ends of my days and ways?\\u00a0 \\u00a0 \\u00a0 \\u00a0  \\n\\u00a0 And how should I presume?\\u00a0 \\n\\u00a0 \\nAnd I have known the arms already, known them all\\u2014\\u00a0 \\nArms that are braceleted and white and bare\\u00a0 \\nBut in the lamplight, downed with light brown hair!\\u00a0 \\nIt is perfume from a dress\\u00a0 \\u00a0 \\u00a0 \\u00a0 \\nThat makes me so digress?\\u00a0 \\nArms that lie along a table, or wrap about a shawl.\\u00a0 \\n\\u00a0 And should I then presume?\\u00a0 \\n\\u00a0 And how should I begin?\\n\\u00a0 \\u00a0 \\u00a0 \\u00a0 \\nShall I say, I have gone at dusk through narrow streets\\u00a0 \\u00a0 \\u00a0 \\u00a0  \\nAnd watched the smoke that rises from the pipes\\u00a0 \\nOf lonely men in shirt-sleeves, leaning out of windows?\\u2026\\u00a0 \\n\\u00a0 \\nI should have been a pair of ragged claws\\u00a0 \\nScuttling across the floors of silent seas.\\n\\u00a0 \\u00a0 \\u00a0 \\u00a0 \\nAnd the afternoon, the evening, sleeps so peacefully!\\u00a0 \\u00a0 \\u00a0 \\u00a0 \\nSmoothed by long fingers,\\u00a0 \\nAsleep \\u2026 tired \\u2026 or it malingers,\\u00a0 \\nStretched on the floor, here beside you and me.\\u00a0 \\nShould I, after tea and cakes and ices,\\u00a0 \\nHave the strength to force the moment to its crisis?\\u00a0 \\u00a0 \\u00a0 \\u00a0 \\nBut though I have wept and fasted, wept and prayed,\\u00a0 \\nThough I have seen my head grown slightly bald brought in upon a platter,\\u00a0 \\nI am no prophet\\u2014and here\\u2019s no great matter;\\u00a0 \\nI have seen the moment of my greatness flicker,\\u00a0 \\nAnd I have seen the eternal Footman hold my coat, and snicker,\\u00a0 \\u00a0 \\u00a0 \\u00a0 \\nAnd in short, I was afraid.\\u00a0 \\n\\u00a0 \\nAnd would it have been worth it, after all,\\u00a0 \\nAfter the cups, the marmalade, the tea,\\u00a0 \\nAmong the porcelain, among some talk of you and me,\\u00a0 \\nWould it have been worth while,\\u00a0 \\u00a0 \\u00a0 \\u00a0 \\u00a0 \\nTo have bitten off the matter with a smile,\\u00a0 \\nTo have squeezed the universe into a ball\\u00a0 \\nTo roll it toward some overwhelming question,\\u00a0 \\nTo say: \\u201cI am Lazarus, come from the dead,\\u00a0 \\nCome back to tell you all, I shall tell you all\\u201d\\u2014\\u00a0 \\u00a0 \\u00a0 \\u00a0 \\u00a0 \\nIf one, settling a pillow by her head,\\u00a0 \\n\\u00a0 Should say: \\u201cThat is not what I meant at all.\\u00a0 \\n\\u00a0 That is not it, at all.\\u201d\\u00a0 \\n\\u00a0 \\nAnd would it have been worth it, after all,\\u00a0 \\nWould it have been worth while,\\u00a0 \\u00a0 \\u00a0 \\u00a0 \\u00a0 \\nAfter the sunsets and the dooryards and the sprinkled streets,\\u00a0 \\nAfter the novels, after the teacups, after the skirts that trail along the floor\\u2014\\u00a0 \\nAnd this, and so much more?\\u2014\\u00a0 \\nIt is impossible to say just what I mean!\\u00a0 \\nBut as if a magic lantern threw the nerves in patterns on a screen:\\u00a0 \\u00a0 \\u00a0 \\u00a0  \\nWould it have been worth while\\u00a0 \\nIf one, settling a pillow or throwing off a shawl,\\u00a0 \\nAnd turning toward the window, should say:\\u00a0 \\n\\u00a0 \\u201cThat is not it at all,\\u00a0 \\n\\u00a0 That is not what I meant, at all.\\u201d\\n\\u00a0 \\u00a0 \\u00a0 \\u00a0 \\u00a0  \\nNo! I am not Prince Hamlet, nor was meant to be;\\u00a0 \\nAm an attendant lord, one that will do\\u00a0 \\nTo swell a progress, start a scene or two,\\u00a0 \\nAdvise the prince; no doubt, an easy tool,\\u00a0 \\nDeferential, glad to be of use,\\u00a0 \\u00a0 \\u00a0 \\u00a0 \\u00a0 \\nPolitic, cautious, and meticulous;\\u00a0 \\nFull of high sentence, but a bit obtuse;\\u00a0 \\nAt times, indeed, almost ridiculous\\u2014\\u00a0 \\nAlmost, at times, the Fool.\\u00a0 \\n\\u00a0 \\nI grow old \\u2026 I grow old \\u2026\\u00a0 \\u00a0 \\u00a0 \\u00a0  \\nI shall wear the bottoms of my trousers rolled.\\u00a0 \\n\\u00a0 \\nShall I part my hair behind? Do I dare to eat a peach?\\u00a0 \\nI shall wear white flannel trousers, and walk upon the beach.\\u00a0 \\nI have heard the mermaids singing, each to each.\\u00a0 \\n\\u00a0 \\nI do not think that they will sing to me.\\u00a0 \\u00a0 \\u00a0 \\u00a0 \\u00a0 \\n\\u00a0 \\nI have seen them riding seaward on the waves\\u00a0 \\nCombing the white hair of the waves blown back\\u00a0 \\nWhen the wind blows the water white and black.\\u00a0 \\n\\u00a0 \\nWe have lingered in the chambers of the sea\\u00a0 \\nBy sea-girls wreathed with seaweed red and brown\\u00a0 \\u00a0 \\u00a0 \\u00a0  \\nTill human voices wake us, and we drown.       \"\n        ],\n        \"semantic_type\": \"\",\n        \"description\": \"\"\n      }\n    }\n  ]\n}"
            }
          },
          "metadata": {},
          "execution_count": 27
        }
      ]
    },
    {
      "cell_type": "code",
      "source": [
        "data_TSE =[]\n",
        "for i in range(len(data2)):\n",
        "  title = data2['Poem'][i]\n",
        "  poem = data2['Poem_for_Human'][i]\n",
        "  template = f\"Instruction:\\n Write a poem titled {title} in TS Eliots's style and your response should be in proper poem format with proper beautiful spacing tabs and line breaks \\n\\nResponse:\\n{poem}\"\n",
        "  data_TSE.append(template)"
      ],
      "metadata": {
        "id": "6yrcR1KjQJ-G"
      },
      "execution_count": null,
      "outputs": []
    },
    {
      "cell_type": "code",
      "source": [
        "data_TSE"
      ],
      "metadata": {
        "colab": {
          "base_uri": "https://localhost:8080/"
        },
        "id": "T0vcJAkfSbHq",
        "outputId": "95f1e7c0-6996-4e74-d63a-0c70ed6f654f"
      },
      "execution_count": null,
      "outputs": [
        {
          "output_type": "execute_result",
          "data": {
            "text/plain": [
              "[\"Instruction:\\n Write a poem titled the naming of cats is difficult matter it is not just one of your holiday games you may think at first am as mad as hatter when tell you cat must have three different names first of all there is the name that the family use daily such as peter augustus alonzo or james such as victor or jonathan george or bill bailey— all of them sensible everyday names there are fancier names if you think they sound sweeter some for the gentlemen some for the dames such as plato admetus electra demeter— but all of them sensible everyday names but tell you cat needs name that is particular name that is peculiar and more dignified else how can he keep up his tail perpendicular or spread out his whiskers or cherish his pride of names of this kind can give you quorum such as munkustrap quaxo or coricopat such as bombalurina or else jellylorum names that never belong to more than one cat but above and beyond there is still one name left over and that is the name that you never will guess the name that no human research can discover— but the cat himself knows and will never confess when you notice cat in profound meditation the reason tell you is always the same his mind is engaged in rapt contemplation of the thought of the thought of the thought of his name his ineffable effable effanineffable deep and inscrutable singular name in TS Eliots's style and your response should be in proper poem format with proper beautiful spacing tabs and line breaks \\n\\nResponse:\\nThe Naming of Cats is a difficult matter,\\nIt isn't just one of your holiday games;\\nYou may think at first I'm as mad as a hatter\\nWhen I tell you, a cat must have THREE DIFFERENT NAMES.\\nFirst of all, there's the name that the family use daily,\\nSuch as Peter, Augustus, Alonzo or James,\\nSuch as Victor or Jonathan, George or Bill Bailey—\\nAll of them sensible everyday names.\\nThere are fancier names if you think they sound sweeter,\\nSome for the gentlemen, some for the dames:\\nSuch as Plato, Admetus, Electra, Demeter—\\nBut all of them sensible everyday names.\\nBut I tell you, a cat needs a name that's particular,\\nA name that's peculiar, and more dignified,\\nElse how can he keep up his tail perpendicular,\\nOr spread out his whiskers, or cherish his pride?\\nOf names of this kind, I can give you a quorum,\\nSuch as Munkustrap, Quaxo, or Coricopat,\\nSuch as Bombalurina, or else Jellylorum-\\nNames that never belong to more than one cat.\\nBut above and beyond there's still one name left over,\\nAnd that is the name that you never will guess;\\nThe name that no human research can discover—\\nBut THE CAT HIMSELF KNOWS, and will never confess.\\nWhen you notice a cat in profound meditation,\\nThe reason, I tell you, is always the same:\\nHis mind is engaged in a rapt contemplation\\nOf the thought, of the thought, of the thought of his name:\\nHis ineffable effable\\nEffanineffable\\nDeep and inscrutable singular Name.      \",\n",
              " \"Instruction:\\n Write a poem titled mistah kurtz he dead penny for the old guy we are the hollow men we are the stuffed men leaning together headpiece filled with straw alas our dried voices when we whisper together are quiet and meaningless as wind in dry grass or rats feet over broken glass in our dry cellar shape without form shade without colour paralysed force gesture without motion those who have crossed with direct eyes to death other kingdom remember us if at all not as lost violent souls but only as the hollow men the stuffed men ii eyes dare not meet in dreams in death dream kingdom these do not appear there the eyes are sunlight on broken column there is tree swinging and voices are in the wind singing more distant and more solemn than fading star let me be no nearer in death dream kingdom let me also wear such deliberate disguises rat coat crowskin crossed staves in field behaving as the wind behaves no nearer not that final meeting in the twilight kingdom iii this is the dead land this is cactus land here the stone images are raised here they receive the supplication of dead man hand under the twinkle of fading star is it like this in death other kingdom waking alone at the hour when we are trembling with tenderness lips that would kiss form prayers to broken stone iv the eyes are not here there are no eyes here in this valley of dying stars in this hollow valley this broken jaw of our lost kingdoms in this last of meeting places we grope together and avoid speech gathered on this beach of the tumid river sightless unless the eyes reappear as the perpetual star multifoliate rose of death twilight kingdom the hope only of empty men here we go round the prickly pear prickly pear prickly pear here we go round the prickly pear at five of the clock in the morning between the idea and the reality between the motion and the act falls the shadow for thine is the kingdom between the conception and the creation between the emotion and the response falls the shadow life is very long between the desire and the spasm between the potency and the existence between the essence and the descent falls the shadow for thine is the kingdom for thine is life is for thine is the this is the way the world ends this is the way the world ends this is the way the world ends not with bang but whimper in TS Eliots's style and your response should be in proper poem format with proper beautiful spacing tabs and line breaks \\n\\nResponse:\\nMistah Kurtz-he dead\\n\\xa0 \\xa0 \\xa0 \\xa0 \\xa0 \\xa0  A penny for the Old Guy\\n\\n\\n\\xa0 \\xa0 \\xa0 \\xa0 \\xa0 \\xa0 \\xa0 \\xa0 \\xa0 \\xa0 \\xa0 \\xa0 I\\n\\n\\xa0 \\xa0  We are the hollow men\\n\\xa0 \\xa0  We are the stuffed men\\n\\xa0 \\xa0  Leaning together\\n\\xa0 \\xa0  Headpiece filled with straw. Alas!\\n\\xa0 \\xa0  Our dried voices, when\\n\\xa0 \\xa0  We whisper together\\n\\xa0 \\xa0  Are quiet and meaningless\\n\\xa0 \\xa0  As wind in dry grass\\n\\xa0 \\xa0  Or rats' feet over broken glass\\n\\xa0 \\xa0  In our dry cellar\\n\\xa0 \\xa0  \\n\\xa0 \\xa0  Shape without form, shade without colour,\\n\\xa0 \\xa0  Paralysed force, gesture without motion;\\n\\xa0 \\xa0  \\n\\xa0 \\xa0  Those who have crossed\\n\\xa0 \\xa0  With direct eyes, to death's other Kingdom\\n\\xa0 \\xa0  Remember us-if at all-not as lost\\n\\xa0 \\xa0  Violent souls, but only\\n\\xa0 \\xa0  As the hollow men\\n\\xa0 \\xa0  The stuffed men.\\n\\n\\xa0 \\xa0  \\n\\xa0 \\xa0 \\xa0 \\xa0 \\xa0 \\xa0 \\xa0 \\xa0 \\xa0 \\xa0 \\xa0 \\xa0 \\xa0 \\xa0 \\xa0  II\\n\\n\\xa0 \\xa0  Eyes I dare not meet in dreams\\n\\xa0 \\xa0  In death's dream kingdom\\n\\xa0 \\xa0  These do not appear:\\n\\xa0 \\xa0  There, the eyes are\\n\\xa0 \\xa0  Sunlight on a broken column\\n\\xa0 \\xa0  There, is a tree swinging\\n\\xa0 \\xa0  And voices are\\n\\xa0 \\xa0  In the wind's singing\\n\\xa0 \\xa0  More distant and more solemn\\n\\xa0 \\xa0  Than a fading star.\\n\\xa0 \\xa0  \\n\\xa0 \\xa0  Let me be no nearer\\n\\xa0 \\xa0  In death's dream kingdom\\n\\xa0 \\xa0  Let me also wear\\n\\xa0 \\xa0  Such deliberate disguises\\n\\xa0 \\xa0  Rat's coat, crowskin, crossed staves\\n\\xa0 \\xa0  In a field\\n\\xa0 \\xa0  Behaving as the wind behaves\\n\\xa0 \\xa0  No nearer-\\n\\xa0 \\xa0  \\n\\xa0 \\xa0  Not that final meeting\\n\\xa0 \\xa0  In the twilight kingdom\\n\\n\\xa0 \\xa0  \\n\\xa0 \\xa0 \\xa0 \\xa0 \\xa0 \\xa0 \\xa0 \\xa0 \\xa0 \\xa0 III\\n\\n\\xa0 \\xa0  This is the dead land\\n\\xa0 \\xa0  This is cactus land\\n\\xa0 \\xa0  Here the stone images\\n\\xa0 \\xa0  Are raised, here they receive\\n\\xa0 \\xa0  The supplication of a dead man's hand\\n\\xa0 \\xa0  Under the twinkle of a fading star.\\n\\xa0 \\xa0  \\n\\xa0 \\xa0  Is it like this\\n\\xa0 \\xa0  In death's other kingdom\\n\\xa0 \\xa0  Waking alone\\n\\xa0 \\xa0  At the hour when we are\\n\\xa0 \\xa0  Trembling with tenderness\\n\\xa0 \\xa0  Lips that would kiss\\n\\xa0 \\xa0  Form prayers to broken stone.\\n\\n\\xa0 \\xa0  \\n\\xa0 \\xa0 \\xa0 \\xa0 \\xa0 \\xa0 \\xa0 \\xa0 \\xa0 \\xa0 \\xa0 IV\\n\\n\\xa0 \\xa0  The eyes are not here\\n\\xa0 \\xa0  There are no eyes here\\n\\xa0 \\xa0  In this valley of dying stars\\n\\xa0 \\xa0  In this hollow valley\\n\\xa0 \\xa0  This broken jaw of our lost kingdoms\\n\\xa0 \\xa0  \\n\\xa0 \\xa0  In this last of meeting places\\n\\xa0 \\xa0  We grope together\\n\\xa0 \\xa0  And avoid speech\\n\\xa0 \\xa0  Gathered on this beach of the tumid river\\n\\xa0 \\xa0  \\n\\xa0 \\xa0  Sightless, unless\\n\\xa0 \\xa0  The eyes reappear\\n\\xa0 \\xa0  As the perpetual star\\n\\xa0 \\xa0  Multifoliate rose\\n\\xa0 \\xa0  Of death's twilight kingdom\\n\\xa0 \\xa0  The hope only\\n\\xa0 \\xa0  Of empty men.\\n\\n\\xa0 \\xa0  \\n\\xa0 \\xa0 \\xa0 \\xa0 \\xa0 \\xa0 \\xa0 \\xa0 \\xa0 \\xa0 \\xa0 \\xa0 \\xa0 \\xa0 V\\n\\n\\xa0 \\xa0  Here we go round the prickly pear\\n\\xa0 \\xa0  Prickly pear prickly pear\\n\\xa0 \\xa0  Here we go round the prickly pear\\n\\xa0 \\xa0  At five o'clock in the morning.\\n\\xa0 \\xa0  \\n\\xa0 \\xa0  Between the idea\\n\\xa0 \\xa0  And the reality\\n\\xa0 \\xa0  Between the motion\\n\\xa0 \\xa0  And the act\\n\\xa0 \\xa0  Falls the Shadow\\n\\xa0 \\xa0 \\xa0 \\xa0 \\xa0 \\xa0 \\xa0 \\xa0 \\xa0 \\xa0 \\xa0 \\xa0 \\xa0 \\xa0 \\xa0 \\xa0 \\xa0 \\xa0 For Thine is the Kingdom\\n\\xa0 \\xa0  \\n\\xa0 \\xa0  Between the conception\\n\\xa0 \\xa0  And the creation\\n\\xa0 \\xa0  Between the emotion\\n\\xa0 \\xa0  And the response\\n\\xa0 \\xa0  Falls the Shadow\\n\\xa0 \\xa0 \\xa0 \\xa0 \\xa0 \\xa0 \\xa0 \\xa0 \\xa0 \\xa0 \\xa0 \\xa0 \\xa0 \\xa0 \\xa0 \\xa0 \\xa0 \\xa0 Life is very long\\n\\xa0 \\xa0  \\n\\xa0 \\xa0  Between the desire\\n\\xa0 \\xa0  And the spasm\\n\\xa0 \\xa0  Between the potency\\n\\xa0 \\xa0  And the existence\\n\\xa0 \\xa0  Between the essence\\n\\xa0 \\xa0  And the descent\\n\\xa0 \\xa0  Falls the Shadow\\n\\xa0 \\xa0 \\xa0 \\xa0 \\xa0 \\xa0 \\xa0 \\xa0 \\xa0 \\xa0 \\xa0 \\xa0 \\xa0 \\xa0 \\xa0 \\xa0 \\xa0 \\xa0 For Thine is the Kingdom\\n\\xa0 \\xa0  \\n\\xa0 \\xa0  For Thine is\\n\\xa0 \\xa0  Life is\\n\\xa0 \\xa0  For Thine is the\\n\\xa0 \\xa0  \\n\\xa0 \\xa0  This is the way the world ends\\n\\xa0 \\xa0  This is the way the world ends\\n\\xa0 \\xa0  This is the way the world ends\\n\\xa0 \\xa0  Not with a bang but a whimper.      \",\n",
              " \"Instruction:\\n Write a poem titled macavity mystery cat he is called the hidden paw— for he is the master criminal who can defy the law he is the bafflement of scotland yard the flying squad despair for when they reach the scene of crime—macavity not there macavity macavity there is no one like macavity he is broken every human law he breaks the law of gravity his powers of levitation would make fakir stare and when you reach the scene of crime—macavity not there you may seek him in the basement you may look up in the air— but tell you once and once again macavity not there macavity ginger cat he is very tall and thin you would know him if you saw him for his eyes are sunken in his brow is deeply lined with thought his head is highly domed his coat is dusty from neglect his whiskers are uncombed he sways his head from side to side with movements like snake and when you think he is half asleep he is always wide awake macavity macavity there is no one like macavity for he is fiend in feline shape monster of depravity you may meet him in by street you may see him in the square— but when crime discovered then macavity not there he is outwardly respectable they say he cheats at cards and his footprints are not found in any file of scotland yard and when the larder looted or the jewel case is rifled or when the milk is missing or another peke been stifled or the greenhouse glass is broken and the trellis past repair ay there is the wonder of the thing macavity not there and when the foreign office find treaty gone astray or the admiralty lose some plans and drawings by the way there may be scrap of paper in the hall or on the stair— but it is useless to investigate—macavity not there and when the loss has been disclosed the secret service say it must have been macavity —but he is mile away you will be sure to find him resting or licking of his thumb or engaged in doing complicated long division sums macavity macavity there is no one like macavity there never was cat of such deceitfulness and suavity he always has an alibi and one or two to spare at whatever time the deed took place—macavity was not there and they say that all the cats whose wicked deeds are widely known might mention mungojerrie might mention griddlebone are nothing more than agents for the cat who all the time just controls their operations the napoleon of crime in TS Eliots's style and your response should be in proper poem format with proper beautiful spacing tabs and line breaks \\n\\nResponse:\\nMacavity's a Mystery Cat: he's called the Hidden Paw—\\nFor he's the master criminal who can defy the Law.\\nHe's the bafflement of Scotland Yard, the Flying Squad's despair:\\nFor when they reach the scene of crime—Macavity's not there!\\n\\nMacavity, Macavity, there's no one like Macavity,\\nHe's broken every human law, he breaks the law of gravity.\\nHis powers of levitation would make a fakir stare,\\nAnd when you reach the scene of crime—Macavity's not there!\\nYou may seek him in the basement, you may look up in the air—\\nBut I tell you once and once again, Macavity's not there!\\n\\nMacavity's a ginger cat, he's very tall and thin;\\nYou would know him if you saw him, for his eyes are sunken in.\\nHis brow is deeply lined with thought, his head is highly domed;\\nHis coat is dusty from neglect, his whiskers are uncombed.\\nHe sways his head from side to side, with movements like a snake;\\nAnd when you think he's half asleep, he's always wide awake.\\n\\nMacavity, Macavity, there's no one like Macavity,\\nFor he's a fiend in feline shape, a monster of depravity.\\nYou may meet him in a by-street, you may see him in the square—\\nBut when a crime's discovered, then Macavity's not there!\\n\\nHe's outwardly respectable. (They say he cheats at cards.)\\nAnd his footprints are not found in any file of Scotland Yard's\\nAnd when the larder's looted, or the jewel-case is rifled,\\nOr when the milk is missing, or another Peke's been stifled,\\nOr the greenhouse glass is broken, and the trellis past repair\\nAy, there's the wonder of the thing! Macavity's not there!\\n\\nAnd when the Foreign Office find a Treaty's gone astray,\\nOr the Admiralty lose some plans and drawings by the way,\\nThere may be a scrap of paper in the hall or on the stair—\\nBut it's useless to investigate—Macavity's not there!\\nAnd when the loss has been disclosed, the Secret Service say:\\nIt must have been Macavity!'—but he's a mile away.\\nYou'll be sure to find him resting, or a-licking of his thumb;\\nOr engaged in doing complicated long division sums.\\n\\nMacavity, Macavity, there's no one like Macavity,\\nThere never was a Cat of such deceitfulness and suavity.\\nHe always has an alibi, and one or two to spare:\\nAt whatever time the deed took place—MACAVITY WASN'T THERE !\\nAnd they say that all the Cats whose wicked deeds are widely known\\n(I might mention Mungojerrie, I might mention Griddlebone)\\nAre nothing more than agents for the Cat who all the time\\nJust controls their operations: the Napoleon of Crime!      \",\n",
              " 'Instruction:\\n Write a poem titled part burial of the dead april is the cruelest month breeding lilacs out of the dead land mixing memory and desire stirring dull roots with spring rain winter kept us warm covering earth in forgetful snow feeding little life with dried tubers summer surprised us coming over the starnbergersee with shower of rain we stopped in the colonnade and went on in sunlight into the hofgarten and drank coffee and talked for an hour bin gar keine russin stamm aus litauen echt deutsch and when we were children staying at the arch duke my cousin he took me out on sled and was frightened he said marie marie hold on tight and down we went in the mountains there you feel free read much of the night and go south in the winter what are the roots that clutch what branches grow out of this stony rubbish son of man you canot say or guess for you know only heap of broken images where the sun beats and the dead tree gives no shelter the cricket no relief and the dry stone no sound of water only there is shadow under this red rock come in under the shadow of this red rock and will show you something different from either your shadow at morning striding behind you or your shadow at evening rising to meet you will show you fear in handful of dust frish weht der wind der heimat zu mein irisch kind wo weilest du you gave me hyacinths first year ago they called me the hyacinth girl —yet when we came back late from the hyacinth garden your arms full and your hair wet could not speak and my eyes failed was neither living nor dead and knew nothing looking into the heart of light the silence oed und leer das meer madame sosostris famous clairvoyante had bad cold nevertheless is known to be the wisest woman in europe with wicked pack of cards here said she is your card the drowned phoenician sailor those are pearls that were his eyes look here is belladonna the lady of the rocks the lady of situations here is the man with three staves and here the wheel and here is the one eyed merchant and this card which is blank is something he carries on his back which am forbidden to see do not find the hanged man fear death by water see crowds of people walking round in ring thank you if you see dear mrs equitone tell her bring the horoscope myself one must be so careful these days unreal city under the brown fog of winter dawn crowd flowed over london bridge so many had not thought death had undone so many sighs short and infrequent were exhaled and each man fixed his eyes before his feet flowed up the hill and down king william street to where saint mary woolnoth kept the hours with dead sound on the final stroke of nine there saw one knew and stopped him crying stetson you who were with me in the ships at mylae that corpse you planted last year in your garden has it begun to sprout will it bloom this year or has the sudden frost disturbed its bed keep the dog far hence that is friend to men or with his nails he will dig it up again you hypocrite lecteur —mon semblable —mon frere part game of chess the chair she sat in like burnished throne glowed on the marble where the glass held up by standards wrought with fruited vines from which golden cupidon peeped out another hid his eyes behind his wing doubled the flames of seven branched candleabra reflecting light upon the table as the glitter of her jewels rose to meet it from satin cases poured in rich profusion in vials of ivory and coloured glass unstoppered lurked her strange synthetic perfume unguent powdered or liquid—troubled vondused and drowned the sense in odours stirred by the air that freshened from the window these ascended in fattening the prolonged candle flames flung their smoke into the laquearia stirring the pattern on the coffered ceiling huge sea wood fed with copper burned green and orange framed by the colored stone in which sad light carved dolphin swam above the antique mantel was displayed as though window gave upon the sylvan scene the change of philomel by the barbarous king so rudely forced yet there the nightingale filled all the desert with inviolable voice and still she cried and still the world pursues jug jug to dirty ears and other withered stumps of time were told upon the walls staring forms leaned out leaning hushing the room enclosed footstpes shuffled on the stair under the firelight under the brush her hair spread out in fiery points glowed into words then would be savagely still my nerves are bad night yes bad stay with me speak to me why do you never speak speak what are you thinking of what thinking what never know what you are thinking think think we are in rat alley where the dead men lost their bones what is that noise the wind under the door what is that noise now what is the wind doing nothing again nothing do you know nothing do you see nothing do you remember nothing remember those pearls that were his eyes are you alive or not is there nothing in your head but that shakespeherian rag— it is so elegant so intelligent what shall do now what shall do shall rush out as am walk the street with my hair down so what shall we do to morrow what shall we ever do the hot water at ten and if it rains closed car at four and we shall play game of chess pressing lidless eyes and waiting for knock upon the door when lil husband got demobbed said— did not mince my words said to her myself hurry up please its time now albert coming back make yourself bit smart he will want to know what you done with that money he gave you to get yourself some teeth he did was there you have them all out lil and get nice set he said swear cannot bear to look at you and no more cannot said and think of poor albert he is been in the army for four years he wants good time and if you do not give it him there is others will said oh is there she said something of that said then will know who to thank she said and give me straight look hurry up please its time if you do not like it you can get on with it said others can pick and choose if you cannot but if albert makes off it will not be for lack of telling you ought to be ashamed said to look so antique and her thirty one cannot help it she said pulling long face it is them pills took to bring it off she said she had five already and nearly died of young george the chemist said it would be all right but have never been the same you are proper fool said well if albert will not leave you alone there it is said what you get married for if you do not want children hurry up please its time well that sunday albert was home they had hot gammon and they asked me in to dinner to get the beauty of it— hurry up please its time hurry up please its time goodnight bill goodnight lou goodnight may goodnight ta ta goodnight goodnight good night ladies good night sweet ladies good night good night part the fire sermon the river tent is broken the last fingers of leaf clutch and sink into the wet bank the wind crosses the brown land unheard the nymphs are departed sweet thames run softly till end my song the river bears no empty bottles sandwich papers silk handkerchiefs cardboard boxes cigarette ends or other testimony of summer nights the nymphs are departed and their friends the loitering heirs of city directors departed have left no addresses by the waters of leman sat down and wept… sweet thames run softly till end my song sweet thames run softly for speak not loud or long but at my back in cold blast hear the ratttle of bones and chuckle spread from ear to ear rat crept softly through vegetation dragging its slimy belly on the bank while was fishing in the dull canal on winter evening round behind the gashouse musing upon the king my brother wreck and the king my father death before him white bodies naked on the low damp ground and bones cast in little low dry garret rattled by the rat foot only year to year but at my back from time to time hear the sound of horns and motors which shall bring sweeney to mrs porter in the spring the moon shone bright on mrs porter and on her daughter they wash their feet in soda water et ces voix enfants chantant dans la coupole twit twit twit jug jug jug jug jug jug so rudely forc tereu unreal city under the brown fog of winter noon mr eugenides the smyrna merchant unshaven with pocket full of currants london documents at sight asked me in demotic french to luncheon at the cannon street hotel followed by weekend at the metropole at the violet hour when the eyes and back turn upward from the desk when the human engine waits like taxi throbbing waiting tiresias though blind throbbing between two lives old man with wrinkled female breasts can see at the violet hour the evening hour that strives homeward and brings the sailor home from sea the typist home at teatime clears her breakfast lights her stove and lays out food in tins out of the window perilously spread her drying combinations touched by the sun last rays on the divan are piled at night her bed stockings slippers camisoles and stays tiresias old man with wrinkled dugs perceived the scene and foretold the rest— too awaited the expected guest he the young man carbuncular arrives small house agent clerk with one bold stare one of the low on whom assurance sits as silk hat on bradford millionaire the time is now propitious as he guesses the meal is ended she is bored and tired endeavours to engage her in caresses which are still unreproved if undesired flushed and decided he assaults at one exploring hands rencounter no defence his vanity requires no response and makes welcome of indifference and tiresias have foresuffered all enacted on this same divan or bed who have sat by thebes below the wall and walked amongh the lowest of the dead bestows one final patronising kiss and gropes his way finding the stairs unlit… she turns and looks moment in the glass hardly aware of her departed love her brain allows one half formed thought to pass well now that is done and am glad it is over when lovely woman stoops to folly and paces about her room again alone she smooths her hair with automatic hand and puts record on the gramaphone this music crept by me upon the waters and along the strand up queen victoria street city city can sometimes hear beside public bar in lower thames street the pleasant whining of mandolin and clatter and chatter from within where fishmen lounge at noon where the walls of magnus martyr hold inexplicable splendour of ionian white and gold the river sweats oil and tar the barges drift with the turning tide red sails wide to leeward swing on the heavy spar the barges wash drifting logs down greenwich reach past the isle of dogs weialala leia wallala leialala elizabeth and leicester beating oars the stern was formed gilded she will red and gold the brisk swell rippled both shores southwest wind carried down stream the peal of bells white towers weialala leia wallala leialala trams and dusty trees highbury bore me richmond and kew undid me by richmond raised my knees supine on the floor of narrow canoe my feet are moorgate and my heart under my feet after the event he wept he promisd new start made no comment what should resent on margate sands can connect nothing with nothing the broken fingernails of dirty hands my people humble people who expect nothing la la to carthage then came burning burning burning burning lord thou pluckest me out lord thou pluckest burning part death by water phelbas the phoenician fortnight dead forgot the cry of gulls and the deep sea swell and the profit and loss current under sea picked his bones in whispers as he rose and fell he passed the stages of his age and youth entering whirpool gentile or jew you who turn the wheel and look to windward consider phlebas who was once handsome and tall as you part what the thunder said after the torchlight red on sweaty faces after the frosty silence in the gardens after the agony in stony places the shouting and the crying prison and palace and reverberation of thunder of spring over distant mountains he who was living is now dead we who were living are now dying with little patience here is no water but only rock rock and no water and the sandy road the road winding above among the mountains which are mountains of rock without water if there were water we should stop and drink amongst the rock one cannot stop or think sweat is dry and feet are in the sand if there were only water amongst the rock dead mountain mouth of carious teeth that cannot spit here one can neither stand nor lie nor sit there is not even slience in the mountains but dry sterile thunder without rain there is not even solitude in the mountains but red sullen faces sneer and snarl from doors of mudcracked houses if there were water and no rock if there were rock and also water and water spring pool among the rock if there were the sound of water only not the cicada and dry grass singing but sound of water over rock where the hermit thrush sings in the pine trees drip drop drip drop drop drop drop but there is no water who is the third who walks always beside you when count there are only you and together but when look ahead up the white road there is always another one walking beside you gliding wrapt in brown mantle hooded do not know whether man or woman —but who is that on the other side of you what is that sound high in the air murmur of maternal lamentation why are those hooded hordes swarming over endless plains stumbling in cracked earth ringed by the flat horizon only what is the city over the mountains cracks and reforms and burst in the violet air falling towers jerusalem athens alexandria vienna london unreal woman drew her long black hair out tight and fiddled whisper music on those strings and bats with baby faces in the violet light whistled and beat their wings and crawled head downward down blackened wall and upsdie down in air were towers tolling reminiscent bells that kept the hours and voices singing out of empty cisterns and exhausted wells in this decayed hole among the mountains in the faint moonlight the grass is singing over the tumbled graves about the chapel there is an empty chapel on the wind home it has no windows and the door swings dry bones can harm no one only cock stood on the rooftree co co rico co co rico in flash of lightning then damp gust bringing rain ganga was sunken and the limp leaves waited for rain while the black clouds gathered far distant over himavant the jungle crouched humped in silence then spoke the thunder da datta what have we give my friend blood shaking my heart the awful daring of moment surrender which an age of prudence can never retract by this and this only we have existed which is not to be found in our obituaries or in memories draped by the beneficient spider or under seals broken by the lean solicitor in our empty rooms da dayadhvam have heard the key turn in the door once and turn once only we think of the key each in his prison thinking of the key each confirms prison only at nightfall aethereal rumours revive for moment broken coriolanus da damyata the boat responded gaily to the hand expert with sail and oar the sea was calm your heart would have responded gaily when invited beating obedient to controlling hands sat upon the shore fishing with arid plain behind me shall at least set my lands in order london bridge is falling down falling down falling down poi ascose nel foco che gli affina quando fiam uti chelidon—o swallow swallow le prince aquitaine la tour abolie these fragments have shored against my ruins why then ile fit you hieronymo mad againe datta dayadhvam damyata shantih shantih shantihhttp www bartleby com 201 html for full explanation of this poem in TS Eliots\\'s style and your response should be in proper poem format with proper beautiful spacing tabs and line breaks \\n\\nResponse:\\nPart 1 - *Burial of the Dead*\\nApril is the cruelest month, breeding\\nLilacs out of the dead land, mixing\\nMemory and desire, stirring\\nDull roots with spring rain.\\nWinter kept us warm, covering\\nEarth in forgetful snow, feeding\\nA little life with dried tubers.\\nSummer surprised us, coming over the Starnbergersee\\nWith a shower of rain; we stopped in the colonnade,\\nAnd went on in sunlight, into the Hofgarten\\nAnd drank coffee, and talked for an hour.\\nBin gar keine Russin, stamm\\' aus Litauen, echt deutsch.\\nAnd when we were children, staying at the arch-duke\\'s,\\nMy cousin\\'s, he took me out on a sled,\\nAnd I was frightened. He said, Marie,\\nMarie, hold on tight.\\xa0 And down we went.\\nIn the mountains, there you feel free.\\nI read, much of the night, and go south in the winter.\\n\\nWhat are the roots that clutch, what branches grow\\nOut of this stony rubbish?\\xa0 Son of man,\\nYou canot say, or guess, for you know only\\nA heap of broken images, where the sun beats,\\nAnd the dead tree gives no shelter, the cricket no relief,\\nAnd the dry stone no sound of water.\\xa0 Only\\nThere is shadow under this red rock,\\n(Come in under the shadow of this red rock),\\nAnd I will show you something different from either\\nyour shadow at morning striding behind you\\nor your shadow at evening rising to meet you;\\nI will show you fear in a handful of dust.\\n\\xa0\\xa0\\xa0\\xa0Frish weht der Wind\\n\\xa0\\xa0\\xa0\\xa0Der Heimat zu\\n\\xa0\\xa0\\xa0\\xa0Mein Irisch Kind,\\n\\xa0\\xa0\\xa0\\xa0Wo weilest du?\\n\\'You gave me hyacinths first a year ago;\\nThey called me the hyacinth girl.\\'\\n—Yet when we came back, late, from the hyacinth garden,\\nYour arms full and your hair wet, I could not\\nSpeak, and my eyes failed, I was neither\\nLiving nor dead, and I knew nothing,\\nLooking into the heart of light, the silence.\\nOed\\' und leer das Meer.\\n\\nMadame Sosostris, famous clairvoyante,\\nHad a bad cold, nevertheless\\nIs known to be the wisest woman in Europe,\\nWith a wicked pack of cards. Here, said she,\\nIs your card, the drowned Phoenician Sailor,\\n(Those are pearls that were his eyes. Look!)\\nHere is Belladonna, the Lady of the Rocks,\\nThe lady of situations.\\nHere is the man with three staves, and here the Wheel,\\nAnd here is the one-eyed merchant, and this card,\\nWhich is blank, is something he carries on his back,\\nWhich I am forbidden to see.\\xa0 I do not find\\nThe Hanged Man.\\xa0 Fear death by water.\\nI see crowds of people, walking round in a ring.\\nThank you.\\xa0 If you see dear Mrs. Equitone,\\nTell her I bring the horoscope myself:\\nOne must be so careful these days.\\n\\nUnreal City\\nUnder the brown fog of a winter dawn,\\nA crowd flowed over London Bridge, so many,\\nI had not thought death had undone so many.\\nSighs, short and infrequent, were exhaled,\\nAnd each man fixed his eyes before his feet.\\nFlowed up the hill and down King William Street,\\nTo where Saint Mary Woolnoth kept the hours\\nWith a dead sound on the final stroke of nine.\\nThere I saw one I knew, and stopped him, crying:\\xa0 \\'Stetson!\\n\\'You who were with me in the ships at Mylae\\n\\'That corpse you planted last year in your garden,\\n\\'Has it begun to sprout?\\xa0 Will it bloom this year?\\n\\'Or has the sudden frost disturbed its bed?\\n\\'O keep the Dog far hence, that\\'s friend to men,\\n\\'Or with his nails he\\'ll dig it up again!\\n\\'You!\\xa0 hypocrite lecteur!—mon semblable,—mon frere!\\'\\n\\n\\nPart 2 - A Game of Chess\\n\\nThe Chair she sat in, like a burnished throne,\\nGlowed on the marble, where the glass\\nHeld up by standards wrought with fruited vines\\nFrom which a golden Cupidon peeped out\\n(Another hid his eyes behind his wing)\\nDoubled the flames of seven-branched candleabra\\nReflecting light upon the table as\\nThe glitter of her jewels rose to meet it,\\nFrom satin cases poured in rich profusion.\\nIn vials of ivory and coloured glass\\nUnstoppered, lurked her strange synthetic perfume\\nUnguent, powdered, or liquid—troubled, vondused\\nAnd drowned the sense in odours; stirred by the air\\nThat freshened from the window, these ascended\\nIn fattening the prolonged candle-flames,\\nFlung their smoke into the laquearia,\\nStirring the pattern on the coffered ceiling.\\nHuge sea-wood fed with copper\\nBurned green and orange, framed by the colored stone\\nIn which sad light a carved dolphin swam\\nAbove the antique mantel was displayed\\nAs though a window gave upon the sylvan scene\\nThe change of Philomel, by the barbarous king\\nSo rudely forced; yet there the nightingale\\nFilled all the desert with inviolable voice\\nAnd still she cried, and still the world pursues,\\n\\'Jug Jug\\' to dirty ears.\\nAnd other withered stumps of time\\nWere told upon the walls; staring forms\\nLeaned out, leaning, hushing the room enclosed.\\nFootstpes shuffled on the stair.\\nUnder the firelight, under the brush, her hair\\nSpread out in fiery points\\nGlowed into words, then would be savagely still.\\n\\n\\'My nerves are bad t-night.\\xa0 Yes, bad. Stay with me.\\n\\'Speak to me.\\xa0 Why do you never speak?\\xa0 Speak.\\n\\xa0\\xa0\\xa0\\xa0\\'What are you thinking of?\\xa0 What thinking?\\xa0 What?\\n\\'I never know what you are thinking.\\xa0 Think.\\'\\n\\nI think we are in rat\\'s alley\\nWhere the dead men lost their bones.\\n\\n\\'What is that noise?\\'\\n\\xa0\\xa0\\xa0\\xa0The wind under the door.\\n\\'What is that noise now?\\xa0 What is the wind doing?\\'\\n\\xa0\\xa0\\xa0\\xa0Nothing again nothing.\\n\\xa0\\xa0\\xa0\\xa0\\xa0\\xa0\\xa0\\'Do\\n\\'You know nothing?\\xa0 Do you see nothing? Do you remember\\n\\'Nothing?\\'\\n\\xa0 I remember\\nThose pearls that were his eyes.\\n\\'Are you alive, or not?\\xa0 Is there nothing in your head?\\'\\n\\t\\tBut\\nO O O O that Shakespeherian Rag—\\nIt\\'s so elegant\\nSo intelligent\\n\\'What shall I do now?\\xa0 What shall I do?\\'\\n\\'I shall rush out as I am, walk the street\\n\\'With my hair down, so.\\xa0 What shall we do to-morrow?\\n\\'What shall we ever do?\\n\\xa0\\xa0\\xa0\\xa0The hot water at ten.\\nAnd if it rains, a closed car at four.\\nAnd we shall play a game of chess,\\nPressing lidless eyes and waiting for a knock upon the door.\\n\\nWhen Lil\\'s husband got demobbed, I said—\\nI didn\\'t mince my words, I said to her myself,\\nHURRY UP PLEASE ITS TIME\\nNow Albert\\'s coming back, make yourself a bit smart.\\nHe\\'ll want to know what you done with that money he gave you\\nTo get yourself some teeth.\\xa0 He did, I was there.\\nYou have them all out, Lil, and get a nice set,\\nHe said, I swear, I can\\'t bear to look at you.\\nAnd no more can\\'t I, I said, and think of poor Albert,\\nHe\\'s been in the army for four years, he wants a good time\\nAnd if you don\\'t give it him, there\\'s others will, I said.\\nOh is there, she said. Something o\\' that, I said.\\nThen I\\'ll know who to thank, she said, and give me a straight look.\\nHURRY UP PLEASE ITS TIME\\nIf you don\\'t like it you can get on with it, I said.\\nOthers can pick and choose if you can\\'t.\\nBut if Albert makes off, it won\\'t be for lack of telling.\\nYou ought to be ashamed, I said, to look so antique.\\n(And her thirty-one.)\\nI can\\'t help it, she said, pulling a long face,\\nIt\\'s them pills I took, to bring it off, she said.\\n(She had five already and nearly died of young George.)\\nThe chemist said it would be all right, but I\\'ve never been the same.\\nYou are a proper fool, I said.\\nWell, if Albert won\\'t leave you alone, there it is, I said,\\nWhat you get married for if you don\\'t want children?\\nHURRY UP PLEASE ITS TIME\\nWell, that Sunday Albert was home, they had a hot gammon\\nAnd they asked me in to dinner, to get the beauty of it—\\nHURRY UP PLEASE ITS TIME\\nHURRY UP PLEASE ITS TIME\\nGoodnight Bill.\\xa0 Goodnight Lou.\\xa0 Goodnight May.\\xa0 Goodnight.\\nTa ta.\\xa0 Goodnight.\\xa0 Goodnight.\\nGood night, ladies, good night, sweet ladies, good night, good night.\\n\\n\\nPart 3 - The Fire Sermon\\n\\nThe river\\'s tent is broken: the last fingers of leaf\\nClutch and sink into the wet bank.\\xa0 The wind\\nCrosses the brown land, unheard.\\xa0 The nymphs are departed.\\nSweet Thames, run softly, till I end my song.\\nThe river bears no empty bottles, sandwich papers,\\nSilk handkerchiefs, cardboard boxes, cigarette ends\\nOr other testimony of summer nights. The nymphs are departed.\\nAnd their friends, the loitering heirs of City directors;\\nDeparted, have left no addresses.\\nBy the waters of Leman I sat down and wept…\\nSweet Thames, run softly till I end my song,\\nSweet Thames, run softly, for I speak not loud or long.\\nBut at my back in a cold blast I hear\\nThe ratttle of bones, and chuckle spread from ear to ear.\\n\\nA rat crept softly through vegetation\\nDragging its slimy belly on the bank\\nWhile I was fishing in the dull canal\\nOn a winter evening round behind the gashouse\\nMusing upon the king my brother\\'s wreck\\nAnd the king my father\\'s death before him.\\nWhite bodies naked on the low damp ground\\nAnd bones cast in a little low dry garret,\\nRattled by the rat\\'s foot only, year to year.\\nBut at my back from time to time I hear\\nThe sound of horns and motors, which shall bring\\nSweeney to Mrs. Porter in the spring.\\nO the moon shone bright on Mrs. Porter\\nAnd on her daughter\\nThey wash their feet in soda water\\nEt O ces voix d\\'enfants, chantant dans la coupole!\\n\\nTwit twit twit\\nJug jug jug jug jug jug\\nSo rudely forc\\'d\\nTereu\\n\\nUnreal City\\nUnder the brown fog of a winter noon\\nMr. Eugenides, the Smyrna merchant\\nUnshaven, with a pocket full of currants\\nC.i.f. London: documents at sight,\\nAsked me in demotic French\\nTo luncheon at the Cannon Street Hotel\\nFollowed by a weekend at the Metropole.\\n\\nAt the violet hour, when the eyes and back\\nTurn upward from the desk, when the human engine waits\\nLike a taxi throbbing waiting,\\nI Tiresias, though blind, throbbing between two lives,\\nOld man with wrinkled female breasts, can see\\nAt the violet hour, the evening hour that strives\\nHomeward, and brings the sailor home from sea,\\nThe typist home at teatime, clears her breakfast, lights\\nHer stove, and lays out food; in tins.\\nOut of the window perilously spread\\nHer drying combinations touched by the sun\\'s last rays,\\nOn the divan are piled (at night her bed)\\nStockings, slippers, camisoles, and stays.\\nI Tiresias, old man with wrinkled dugs\\nPerceived the scene, and foretold the rest—\\nI too awaited the expected guest.\\nHe, the young man carbuncular, arrives,\\nA small house agent\\'s clerk, with one bold stare,\\nOne of the low on whom assurance sits\\nAs a silk hat on a Bradford millionaire.\\nThe time is now propitious, as he guesses,\\nThe meal is ended, she is bored and tired,\\nEndeavours to engage her in caresses\\nWhich are still unreproved, if undesired.\\nFlushed and decided, he assaults at one;\\nExploring hands rencounter no defence;\\nHis vanity requires no response,\\nAnd makes a welcome of indifference.\\n(And I Tiresias have foresuffered all\\nEnacted on this same divan or bed;\\nI who have sat by Thebes below the wall\\nAnd walked amongh the lowest of the dead.)\\nBestows one final patronising kiss,\\nAnd gropes his way, finding the stairs unlit…\\n\\nShe turns and looks a moment in the glass,\\nHardly aware of her departed love;\\nHer brain allows one-half formed thought to pass:\\n\\'Well now that\\'s done: and I\\'m glad it\\'s over.\\'\\nWhen lovely woman stoops to folly and\\nPaces about her room again, alone,\\nShe smooths her hair with automatic hand,\\nAnd puts a record on the gramaphone.\\n\\n\\'This music crept by me upon the waters\\'\\nAnd along the Strand, up Queen Victoria Street.\\nO City city, I can sometimes hear\\nBeside a public bar in Lower Thames Street,\\nThe pleasant whining of a mandolin\\nAnd a clatter and a chatter from within\\nWhere fishmen lounge at noon: where the walls\\nOf Magnus Martyr hold\\nInexplicable splendour of Ionian white and gold.\\n\\n\\xa0\\xa0\\xa0\\xa0The river sweats\\n\\xa0\\xa0\\xa0\\xa0Oil and tar\\n\\xa0\\xa0\\xa0\\xa0The barges drift\\n\\xa0\\xa0\\xa0\\xa0With the turning tide\\n\\xa0\\xa0\\xa0\\xa0Red sails\\n\\xa0\\xa0\\xa0\\xa0Wide\\n\\xa0\\xa0\\xa0\\xa0To leeward, swing on the heavy spar.\\n\\xa0\\xa0\\xa0\\xa0The barges wash\\n\\xa0\\xa0\\xa0\\xa0Drifting logs\\n\\xa0\\xa0\\xa0\\xa0Down Greenwich reach\\n\\xa0\\xa0\\xa0\\xa0Past the Isle of Dogs.\\n\\xa0\\xa0\\xa0\\xa0\\xa0\\xa0\\xa0Weialala leia\\n\\xa0\\xa0\\xa0\\xa0\\xa0\\xa0\\xa0Wallala leialala\\n\\n\\n\\xa0\\xa0\\xa0\\xa0Elizabeth and Leicester\\n\\xa0\\xa0\\xa0\\xa0Beating oars\\n\\xa0\\xa0\\xa0\\xa0The stern was formed\\n\\xa0\\xa0\\xa0\\xa0A gilded shell\\n\\xa0\\xa0\\xa0\\xa0Red and gold\\n\\xa0\\xa0\\xa0\\xa0The brisk swell\\n\\xa0\\xa0\\xa0\\xa0Rippled both shores\\n\\xa0\\xa0\\xa0\\xa0Southwest wind\\n\\xa0\\xa0\\xa0\\xa0Carried down stream\\n\\xa0\\xa0\\xa0\\xa0The peal of bells\\n\\xa0\\xa0\\xa0\\xa0White towers\\n\\xa0\\xa0\\xa0\\xa0\\xa0\\xa0\\xa0Weialala leia\\n\\xa0\\xa0\\xa0\\xa0\\xa0\\xa0\\xa0Wallala leialala\\n\\n\\xa0\\xa0\\xa0\\xa0\\'Trams and dusty trees\\n\\xa0\\xa0\\xa0\\xa0Highbury bore me. Richmond and Kew\\n\\xa0\\xa0\\xa0\\xa0Undid me.\\xa0 By Richmond I raised my knees\\n\\xa0\\xa0\\xa0\\xa0Supine on the floor of a narrow canoe.\\'\\n\\n\\xa0\\xa0\\xa0\\xa0\\'My feet are Moorgate, and my heart\\n\\xa0\\xa0\\xa0\\xa0Under my feet.\\xa0 After the event\\n\\xa0\\xa0\\xa0\\xa0He wept.\\xa0 He promisd \"a new start.\"\\n\\xa0\\xa0\\xa0\\xa0I made no comment.\\xa0 What should I resent?\\'\\n\\n\\xa0\\xa0\\xa0\\xa0\\'On Margate Sands.\\n\\xa0\\xa0\\xa0\\xa0I can connect\\n\\xa0\\xa0\\xa0\\xa0Nothing with nothing.\\n\\xa0\\xa0\\xa0\\xa0The broken fingernails of dirty hands.\\n\\xa0\\xa0\\xa0\\xa0My people humble people who expect\\n\\xa0\\xa0\\xa0\\xa0Nothing.\\'\\n\\xa0\\xa0\\xa0\\xa0\\xa0\\xa0\\xa0la la\\n\\n\\xa0\\xa0\\xa0\\xa0To Carthage then I came\\n\\n\\xa0\\xa0\\xa0\\xa0Burning burning burning burning\\n\\xa0\\xa0\\xa0\\xa0O Lord Thou pluckest me out\\n\\xa0\\xa0\\xa0\\xa0O Lord Thou pluckest\\n\\n\\xa0\\xa0\\xa0\\xa0burning\\n\\n\\nPart 4 - Death by Water\\n\\nPhelbas the Phoenician, a fortnight dead,\\nForgot the cry of gulls, and the deep sea swell\\nAnd the profit and loss.\\n\\t\\tA current under sea\\nPicked his bones in whispers.\\xa0 As he rose and fell\\nHe passed the stages of his age and youth\\nEntering whirpool.\\n\\t\\tGentile or Jew\\nO you who turn the wheel and look to windward,\\nConsider Phlebas, who was once handsome and tall as you.\\n\\n\\nPart 5 - What the Thunder Said\\n\\nAfter the torchlight red on sweaty faces\\nAfter the frosty silence in the gardens\\nAfter the agony in stony places\\nThe shouting and the crying\\nPrison and palace and reverberation\\nOf thunder of spring over distant mountains\\nHe who was living is now dead\\nWe who were living are now dying\\nWith a little patience\\n\\nHere is no water but only rock\\nRock and no water and the sandy road\\nThe road winding above among the mountains\\nWhich are mountains of rock without water\\nIf there were water we should stop and drink\\nAmongst the rock one cannot stop or think\\nSweat is dry and feet are in the sand\\nIf there were only water amongst the rock\\nDead mountain mouth of carious teeth that cannot spit\\nHere one can neither stand nor lie nor sit\\nThere is not even slience in the mountains\\nBut dry sterile thunder without rain\\nThere is not even solitude in the mountains\\nBut red sullen faces sneer and snarl\\nFrom doors of mudcracked houses\\n\\xa0\\xa0\\xa0\\xa0\\xa0\\xa0\\xa0If there were water\\nAnd no rock\\nIf there were rock\\nAnd also water\\nAnd water\\nA spring\\nA pool among the rock\\nIf there were the sound of water only\\nNot the cicada\\nAnd dry grass singing\\nBut sound of water over a rock\\nWhere the hermit-thrush sings in the pine trees\\nDrip drop drip drop drop drop drop\\nBut there is no water\\n\\nWho is the third who walks always beside you?\\nWhen I count, there are only you and I together\\nBut when I look ahead up the white road\\nThere is always another one walking beside you\\nGliding wrapt in a brown mantle, hooded\\nI do not know whether a man or a woman\\n—But who is that on the other side of you?\\n\\nWhat is that sound high in the air\\nMurmur of maternal lamentation\\nWhy are those hooded hordes swarming\\nOver endless plains, stumbling in cracked earth\\nRinged by the flat horizon only\\nWhat is the city over the mountains\\nCracks and reforms and burst in the violet air\\nFalling towers\\nJerusalem Athens Alexandria\\nVienna London\\nUnreal\\n\\nA woman drew her long black hair out tight\\nAnd fiddled whisper music on those strings\\nAnd bats with baby faces in the violet light\\nWhistled, and beat their wings\\nAnd crawled head downward down a blackened wall\\nAnd upsdie down in air were towers\\nTolling reminiscent bells, that kept the hours\\nAnd voices singing out of empty cisterns and exhausted wells\\n\\nIn this decayed hole among the mountains\\nIn the faint moonlight, the grass is singing\\nOver the tumbled graves, about the chapel\\nThere is an empty chapel, on the wind\\'s home.\\nIt has no windows, and the door swings,\\nDry bones can harm no one.\\nOnly a cock stood on the rooftree\\nCo co rico co co rico\\nIn a flash of lightning. Then a damp gust\\nBringing rain\\nGanga was sunken, and the limp leaves\\nWaited for rain, while the black clouds\\nGathered far distant, over Himavant.\\nThe jungle crouched, humped in silence.\\nThen spoke the thunder\\nDA\\nDatta: what have we give?\\nMy friend, blood shaking my heart\\nThe awful daring of a moment\\'s surrender\\nWhich an age of prudence can never retract\\nBy this, and this only, we have existed\\nWhich is not to be found in our obituaries\\nOr in memories draped by the beneficient spider\\nOr under seals broken by the lean solicitor\\nIn our empty rooms\\nDA\\nDayadhvam: I have heard the key\\nTurn in the door once and turn once only\\nWe think of the key, each in his prison\\nThinking of the key, each confirms a prison\\nOnly at nightfall, aethereal rumours\\nRevive for a moment a broken Coriolanus\\nDA\\nDamyata: The boat responded\\nGaily, to the hand expert with sail and oar\\nThe sea was calm, your heart would have responded\\nGaily, when invited, beating obedient\\nTo controlling hands\\n\\xa0\\xa0\\xa0\\xa0\\xa0\\xa0\\xa0I sat upon the shore\\nFishing, with arid plain behind me\\nShall I at least set my lands in order?\\nLondon Bridge is falling down falling down falling down\\nPoi s\\'ascose nel foco che gli affina\\nQuando fiam uti chelidon—O swallow swallow\\nLe Prince d\\'Aquitaine a la tour abolie\\nThese fragments I have shored against my ruins\\nWhy then Ile fit you.\\xa0 Hieronymo\\'s mad againe.\\nDatta. Dayadhvam. Damyata.\\n\\xa0\\xa0\\xa0\\xa0Shantih\\xa0\\xa0\\xa0\\xa0Shantih\\xa0\\xa0\\xa0\\xa0Shantihhttp://www.bartleby.com/201/1.html\\n\\nfor a full explanation of this poem.      ',\n",
              " \"Instruction:\\n Write a poem titled have gumbie cat in mind her name is jennyanydots her coat is of the tabby kind with tiger stripes and leopard spots all day she sits upon the stair or on the steps or on the mat she sits and sits and sits and sits—and that is what makes gumbie cat but when the day hustle and bustle is done then the gumbie cat work is but hardly begun and when all the family in bed and asleep she tucks up her skirts to the basement to creep she is deeply concerned with the ways of the mice—their behaviour not good and their manners not nice so when she has got them lined up on the matting she teachs them music crocheting and tatting have gumbie cat in mind her name is jennyanydots her equal would be hard to find she likes the warm and sunny spots all day she sits beside the hearth or on the bed or on my hat she sits and sits and sits and sits—and that is what makes gumbie cat but when the day hustle and bustle is done then the gumbie cat work is but hardly begun as she finds that the mice will not ever keep quiet she is sure it is due to irregular diet and believing that nothing is done without trying she sets right to work with her baking and frying she makes them mouse—cake of bread and dried peas and beautiful fry of lean bacon and cheese have gumbie cat in mind her name is jennyanydots the curtain cord she likes to wind and tie it into sailor knots she sits upon the window sill or anything that is smooth and flat she sits and sits and sits and sits—and that is what makes gumbie cat but when the day hustle and bustle is done then the gumbie cat work is but hardly begun she thinks that the cockroaches just need employmentto prevent them from idle and wanton destroyment so she is formed from that lot of disorderly louts troop of well disciplined helpful boy scouts with purpose in life and good deed to do—and she is even created beetles tattoo so for old gumbie cats let us now give three cheers—on whom well ordered households depend it appears in TS Eliots's style and your response should be in proper poem format with proper beautiful spacing tabs and line breaks \\n\\nResponse:\\nI have a Gumbie Cat in mind, her name is Jennyanydots;Her coat is of the tabby kind, with tiger stripes and leopard spots.All day she sits upon the stair or on the steps or on the mat;She sits and sits and sits and sits—and that's what makes a Gumbie Cat!But when the day's hustle and bustle is done,Then the Gumbie Cat's work is but hardly begun.And when all the family's in bed and asleep,She tucks up her skirts to the basement to creep.She is deeply concerned with the ways of the mice—Their behaviour's not good and their manners not nice;So when she has got them lined up on the matting,She teachs them music, crocheting and tatting.I have a Gumbie Cat in mind, her name is Jennyanydots;Her equal would be hard to find, she likes the warm and sunny spots.All day she sits beside the hearth or on the bed or on my hat:She sits and sits and sits and sits—and that's what makes a Gumbie Cat!But when the day's hustle and bustle is done,Then the Gumbie Cat's work is but hardly begun.As she finds that the mice will not ever keep quiet,She is sure it is due to irregular diet;And believing that nothing is done without trying,She sets right to work with her baking and frying.She makes them a mouse—cake of bread and dried peas,And a beautiful fry of lean bacon and cheese.I have a Gumbie Cat in mind, her name is Jennyanydots;The curtain-cord she likes to wind, and tie it into sailor-knots.She sits upon the window-sill, or anything that's smooth and flat:She sits and sits and sits and sits—and that's what makes a Gumbie Cat!But when the day's hustle and bustle is done,Then the Gumbie Cat's work is but hardly begun.She thinks that the cockroaches just need employmentTo prevent them from idle and wanton destroyment.So she's formed, from that lot of disorderly louts,A troop of well-disciplined helpful boy-scouts,With a purpose in life and a good deed to do—And she's even created a Beetles' Tattoo.So for Old Gumbie Cats let us now give three cheers—On whom well-ordered households depend, it appears.      \",\n",
              " \"Instruction:\\n Write a poem titled s’io credesse che mia risposta fosse persona che mai tornasse al mondo questa fiamma staria senza piu scosse ma perciocche giammai di questo fondo non torno vivo alcun s’i’odo il vero senza tema d’infamia ti rispondo let us go then you and when the evening is spread out against the sky like patient etherised upon table let us go through certain half deserted streets the muttering retreats of restless nights in one night cheap hotels and sawdust restaurants with oyster shells streets that follow like tedious argument of insidious intent to lead you to an overwhelming question oh do not ask “what is it let us go and make our visit in the room the women come and go talking of michelangelo the yellow fog that rubs its back upon the window panes the yellow smoke that rubs its muzzle on the window panes licked its tongue into the corners of the evening lingered upon the pools that stand in drains let fall upon its back the soot that falls from chimneys slipped by the terrace made sudden leap and seeing that it was soft october night curled once about the house and fell asleep and indeed there will be time for the yellow smoke that slides along the street rubbing its back upon the window panes there will be time there will be time to prepare face to meet the faces that you meet there will be time to murder and create and time for all the works and days of hands that lift and drop question on your plate time for you and time for me and time yet for hundred indecisions and for hundred visions and revisions before the taking of toast and tea in the room the women come and go talking of michelangelo and indeed there will be time to wonder “do dare and “do dare time to turn back and descend the stair with bald spot in the middle of my hair— they will say “how his hair is growing thin my morning coat my collar mounting firmly to the chin my necktie rich and modest but asserted by simple pin— they will say “but how his arms and legs are thin do dare disturb the universe in minute there is time for decisions and revisions which minute will reverse for have known them all already known them all have known the evenings mornings afternoons have measured out my life with coffee spoons know the voices dying with dying fall beneath the music from farther room so how should presume and have known the eyes already known them all— the eyes that fix you in formulated phrase and when am formulated sprawling on pin when am pinned and wriggling on the wall then how should begin to spit out all the butt ends of my days and ways and how should presume and have known the arms already known them all— arms that are braceleted and white and bare but in the lamplight downed with light brown hair it is perfume from dress that makes me so digress arms that lie along table or wrap about shawl and should then presume and how should begin shall say have gone at dusk through narrow streets and watched the smoke that rises from the pipes of lonely men in shirt sleeves leaning out of windows should have been pair of ragged claws scuttling across the floors of silent seas and the afternoon the evening sleeps so peacefully smoothed by long fingers asleep tired or it malingers stretched on the floor here beside you and me should after tea and cakes and ices have the strength to force the moment to its crisis but though have wept and fasted wept and prayed though have seen my head grown slightly bald brought in upon platter am no prophet—and here is no great matter have seen the moment of my greatness flicker and have seen the eternal footman hold my coat and snicker and in short was afraid and would it have been worth it after all after the cups the marmalade the tea among the porcelain among some talk of you and me would it have been worth while to have bitten off the matter with smile to have squeezed the universe into ball to roll it toward some overwhelming question to say “i am lazarus come from the dead come back to tell you all shall tell you all”— if one settling pillow by her head should say “that is not what meant at all that is not it at all and would it have been worth it after all would it have been worth while after the sunsets and the dooryards and the sprinkled streets after the novels after the teacups after the skirts that trail along the floor— and this and so much more it is impossible to say just what mean but as if magic lantern threw the nerves in patterns on screen would it have been worth while if one settling pillow or throwing off shawl and turning toward the window should say “that is not it at all that is not what meant at all no am not prince hamlet nor was meant to be am an attendant lord one that will do to swell progress start scene or two advise the prince no doubt an easy tool deferential glad to be of use politic cautious and meticulous full of high sentence but bit obtuse at times indeed almost ridiculous— almost at times the fool grow old grow old shall wear the bottoms of my trousers rolled shall part my hair behind do dare to eat peach shall wear white flannel trousers and walk upon the beach have heard the mermaids singing each to each do not think that they will sing to me have seen them riding seaward on the waves combing the white hair of the waves blown back when the wind blows the water white and black we have lingered in the chambers of the sea by sea girls wreathed with seaweed red and brown till human voices wake us and we drown in TS Eliots's style and your response should be in proper poem format with proper beautiful spacing tabs and line breaks \\n\\nResponse:\\n S’io credesse che mia risposta fosse \\n A persona che mai tornasse al mondo, \\n Questa fiamma staria senza piu scosse. \\n Ma perciocche giammai di questo fondo \\n Non torno vivo alcun, s’i’odo il vero, \\n Senza tema d’infamia ti rispondo. \\n\\xa0 \\n\\xa0 \\nLet us go then, you and I,\\xa0 \\nWhen the evening is spread out against the sky\\xa0 \\nLike a patient etherised upon a table;\\xa0 \\nLet us go, through certain half-deserted streets,\\xa0 \\nThe muttering retreats\\xa0 \\xa0 \\xa0 \\xa0  \\nOf restless nights in one-night cheap hotels\\xa0 \\nAnd sawdust restaurants with oyster-shells:\\xa0 \\nStreets that follow like a tedious argument\\xa0 \\nOf insidious intent\\xa0 \\nTo lead you to an overwhelming question …\\xa0 \\xa0 \\xa0 \\xa0 \\xa0 \\nOh, do not ask, “What is it?”\\xa0 \\nLet us go and make our visit.\\xa0 \\n\\xa0 \\nIn the room the women come and go\\xa0 \\nTalking of Michelangelo.\\xa0 \\n\\xa0 \\nThe yellow fog that rubs its back upon the window-panes,\\xa0 \\xa0 \\xa0 \\xa0  \\nThe yellow smoke that rubs its muzzle on the window-panes\\xa0 \\nLicked its tongue into the corners of the evening,\\xa0 \\nLingered upon the pools that stand in drains,\\xa0 \\nLet fall upon its back the soot that falls from chimneys,\\xa0 \\nSlipped by the terrace, made a sudden leap,\\xa0 \\xa0 \\xa0 \\xa0 \\xa0 \\nAnd seeing that it was a soft October night,\\xa0 \\nCurled once about the house, and fell asleep.\\xa0 \\n\\xa0 \\nAnd indeed there will be time\\xa0 \\nFor the yellow smoke that slides along the street,\\xa0 \\nRubbing its back upon the window-panes;\\xa0 \\xa0 \\xa0 \\xa0 \\xa0 \\nThere will be time, there will be time\\xa0 \\nTo prepare a face to meet the faces that you meet;\\xa0 \\nThere will be time to murder and create,\\xa0 \\nAnd time for all the works and days of hands\\xa0 \\nThat lift and drop a question on your plate;\\xa0 \\xa0 \\xa0 \\xa0 \\xa0 \\nTime for you and time for me,\\xa0 \\nAnd time yet for a hundred indecisions,\\xa0 \\nAnd for a hundred visions and revisions,\\xa0 \\nBefore the taking of a toast and tea.\\xa0 \\n\\xa0 \\nIn the room the women come and go\\xa0 \\xa0 \\xa0 \\xa0 \\xa0 \\nTalking of Michelangelo.\\xa0 \\n\\xa0 \\nAnd indeed there will be time\\xa0 \\nTo wonder, “Do I dare?” and, “Do I dare?”\\xa0 \\nTime to turn back and descend the stair,\\xa0 \\nWith a bald spot in the middle of my hair—\\xa0 \\xa0 \\xa0 \\xa0 \\xa0 \\nThey will say: “How his hair is growing thin!”\\xa0 \\nMy morning coat, my collar mounting firmly to the chin,\\xa0 \\nMy necktie rich and modest, but asserted by a simple pin—\\xa0 \\nThey will say: “But how his arms and legs are thin!”\\xa0 \\nDo I dare\\xa0 \\xa0 \\xa0 \\xa0  \\nDisturb the universe?\\xa0 \\nIn a minute there is time\\xa0 \\nFor decisions and revisions which a minute will reverse.\\xa0 \\n\\xa0 \\nFor I have known them all already, known them all:—\\xa0 \\nHave known the evenings, mornings, afternoons,\\xa0 \\xa0 \\xa0 \\xa0 \\xa0 \\nI have measured out my life with coffee spoons;\\xa0 \\nI know the voices dying with a dying fall\\xa0 \\nBeneath the music from a farther room.\\xa0 \\n\\xa0 So how should I presume?\\xa0 \\n\\xa0 \\nAnd I have known the eyes already, known them all—\\xa0 \\xa0 \\xa0 \\xa0  \\nThe eyes that fix you in a formulated phrase,\\xa0 \\nAnd when I am formulated, sprawling on a pin,\\xa0 \\nWhen I am pinned and wriggling on the wall,\\xa0 \\nThen how should I begin\\xa0 \\nTo spit out all the butt-ends of my days and ways?\\xa0 \\xa0 \\xa0 \\xa0  \\n\\xa0 And how should I presume?\\xa0 \\n\\xa0 \\nAnd I have known the arms already, known them all—\\xa0 \\nArms that are braceleted and white and bare\\xa0 \\nBut in the lamplight, downed with light brown hair!\\xa0 \\nIt is perfume from a dress\\xa0 \\xa0 \\xa0 \\xa0 \\nThat makes me so digress?\\xa0 \\nArms that lie along a table, or wrap about a shawl.\\xa0 \\n\\xa0 And should I then presume?\\xa0 \\n\\xa0 And how should I begin?\\n\\xa0 \\xa0 \\xa0 \\xa0 \\nShall I say, I have gone at dusk through narrow streets\\xa0 \\xa0 \\xa0 \\xa0  \\nAnd watched the smoke that rises from the pipes\\xa0 \\nOf lonely men in shirt-sleeves, leaning out of windows?…\\xa0 \\n\\xa0 \\nI should have been a pair of ragged claws\\xa0 \\nScuttling across the floors of silent seas.\\n\\xa0 \\xa0 \\xa0 \\xa0 \\nAnd the afternoon, the evening, sleeps so peacefully!\\xa0 \\xa0 \\xa0 \\xa0 \\nSmoothed by long fingers,\\xa0 \\nAsleep … tired … or it malingers,\\xa0 \\nStretched on the floor, here beside you and me.\\xa0 \\nShould I, after tea and cakes and ices,\\xa0 \\nHave the strength to force the moment to its crisis?\\xa0 \\xa0 \\xa0 \\xa0 \\nBut though I have wept and fasted, wept and prayed,\\xa0 \\nThough I have seen my head grown slightly bald brought in upon a platter,\\xa0 \\nI am no prophet—and here’s no great matter;\\xa0 \\nI have seen the moment of my greatness flicker,\\xa0 \\nAnd I have seen the eternal Footman hold my coat, and snicker,\\xa0 \\xa0 \\xa0 \\xa0 \\nAnd in short, I was afraid.\\xa0 \\n\\xa0 \\nAnd would it have been worth it, after all,\\xa0 \\nAfter the cups, the marmalade, the tea,\\xa0 \\nAmong the porcelain, among some talk of you and me,\\xa0 \\nWould it have been worth while,\\xa0 \\xa0 \\xa0 \\xa0 \\xa0 \\nTo have bitten off the matter with a smile,\\xa0 \\nTo have squeezed the universe into a ball\\xa0 \\nTo roll it toward some overwhelming question,\\xa0 \\nTo say: “I am Lazarus, come from the dead,\\xa0 \\nCome back to tell you all, I shall tell you all”—\\xa0 \\xa0 \\xa0 \\xa0 \\xa0 \\nIf one, settling a pillow by her head,\\xa0 \\n\\xa0 Should say: “That is not what I meant at all.\\xa0 \\n\\xa0 That is not it, at all.”\\xa0 \\n\\xa0 \\nAnd would it have been worth it, after all,\\xa0 \\nWould it have been worth while,\\xa0 \\xa0 \\xa0 \\xa0 \\xa0 \\nAfter the sunsets and the dooryards and the sprinkled streets,\\xa0 \\nAfter the novels, after the teacups, after the skirts that trail along the floor—\\xa0 \\nAnd this, and so much more?—\\xa0 \\nIt is impossible to say just what I mean!\\xa0 \\nBut as if a magic lantern threw the nerves in patterns on a screen:\\xa0 \\xa0 \\xa0 \\xa0  \\nWould it have been worth while\\xa0 \\nIf one, settling a pillow or throwing off a shawl,\\xa0 \\nAnd turning toward the window, should say:\\xa0 \\n\\xa0 “That is not it at all,\\xa0 \\n\\xa0 That is not what I meant, at all.”\\n\\xa0 \\xa0 \\xa0 \\xa0 \\xa0  \\nNo! I am not Prince Hamlet, nor was meant to be;\\xa0 \\nAm an attendant lord, one that will do\\xa0 \\nTo swell a progress, start a scene or two,\\xa0 \\nAdvise the prince; no doubt, an easy tool,\\xa0 \\nDeferential, glad to be of use,\\xa0 \\xa0 \\xa0 \\xa0 \\xa0 \\nPolitic, cautious, and meticulous;\\xa0 \\nFull of high sentence, but a bit obtuse;\\xa0 \\nAt times, indeed, almost ridiculous—\\xa0 \\nAlmost, at times, the Fool.\\xa0 \\n\\xa0 \\nI grow old … I grow old …\\xa0 \\xa0 \\xa0 \\xa0  \\nI shall wear the bottoms of my trousers rolled.\\xa0 \\n\\xa0 \\nShall I part my hair behind? Do I dare to eat a peach?\\xa0 \\nI shall wear white flannel trousers, and walk upon the beach.\\xa0 \\nI have heard the mermaids singing, each to each.\\xa0 \\n\\xa0 \\nI do not think that they will sing to me.\\xa0 \\xa0 \\xa0 \\xa0 \\xa0 \\n\\xa0 \\nI have seen them riding seaward on the waves\\xa0 \\nCombing the white hair of the waves blown back\\xa0 \\nWhen the wind blows the water white and black.\\xa0 \\n\\xa0 \\nWe have lingered in the chambers of the sea\\xa0 \\nBy sea-girls wreathed with seaweed red and brown\\xa0 \\xa0 \\xa0 \\xa0  \\nTill human voices wake us, and we drown.       \",\n",
              " \"Instruction:\\n Write a poem titled eyes that last saw in tears through division here in death dream kingdom the golden vision reappears see the eyes but not the tears this is my affliction this is my affliction eyes shall not see again eyes of decision eyes shall not see unless at the door of death other kingdom where as in this the eyes outlast little while little while outlast the tears and hold us in derision in TS Eliots's style and your response should be in proper poem format with proper beautiful spacing tabs and line breaks \\n\\nResponse:\\nEyes that last I saw in tears\\r\\nThrough division\\r\\nHere in death's dream kingdom\\r\\nThe golden vision reappears\\r\\nI see the eyes but not the tears\\r\\nThis is my affliction\\r\\n\\nThis is my affliction\\r\\nEyes I shall not see again\\r\\nEyes of decision\\r\\nEyes I shall not see unless\\r\\nAt the door of death's other kingdom\\r\\nWhere, as in this,\\r\\nThe eyes outlast a little while\\r\\nA little while outlast the tears\\r\\nAnd hold us in derision.\\r\\n     \",\n",
              " \"Instruction:\\n Write a poem titled cold coming we had of it just the worst time of the year for journey and such long journey the ways deep and the weather sharp the very dead of winter and the camels galled sorefooted refractory lying down in the melting snow there were times we regretted the summer palaces on slopes the terraces and the silken girls bringing sherbet then the camel men cursing and grumbling and running away and wanting their liquor and women and the night fires going out and the lack of shelters and the cities hostile and the towns unfriendly and the villages dirty and charging high prices hard time we had of it at the end we preferred to travel all night sleeping in snatches with the voices singing in our ears saying that this was all folly then at dawn we came down to temperate valley wet below the snow line smelling of vegetation with running stream and water mill beating the darkness and three trees on the low sky and an old white horse galloped away in the meadow then we came to tavern with vine leaves over the lintel six hands at an open door dicing for pieces of silver and feet kicking the empty wine skins but there was no information and so we continued and arriving at evening not moment too soon finding the place it was you might say satisfactory all this was long time ago remember and would do it again but set down this set down this were we led all that way for birth or death there was birth certainly we had evidence and no doubt had seen birth and death but had thought they were different this birth was hard and bitter agony for us like death our death we returned to our places these kingdoms but no longer at ease here in the old dispensation with an alien people clutching their gods should be glad of another death in TS Eliots's style and your response should be in proper poem format with proper beautiful spacing tabs and line breaks \\n\\nResponse:\\n A cold coming we had of it,\\nJust the worst time of the year\\nFor a journey, and such a long journey:\\nThe ways deep and the weather sharp,\\nThe very dead of winter.'\\nAnd the camels galled, sorefooted, refractory,\\nLying down in the melting snow.\\nThere were times we regretted\\nThe summer palaces on slopes, the terraces,\\nAnd the silken girls bringing sherbet.\\nThen the camel men cursing and grumbling\\nand running away, and wanting their liquor and women,\\nAnd the night-fires going out, and the lack of shelters,\\nAnd the cities hostile and the towns unfriendly\\nAnd the villages dirty and charging high prices:\\nA hard time we had of it.\\nAt the end we preferred to travel all night,\\nSleeping in snatches,\\nWith the voices singing in our ears, saying\\nThat this was all folly.\\n\\nThen at dawn we came down to a temperate valley,\\nWet, below the snow line, smelling of vegetation;\\nWith a running stream and a water-mill beating the darkness,\\nAnd three trees on the low sky,\\nAnd an old white horse galloped away in the meadow.\\nThen we came to a tavern with vine-leaves over the lintel,\\nSix hands at an open door dicing for pieces of silver,\\nAnd feet kicking the empty wine-skins.\\nBut there was no information, and so we continued\\nAnd arriving at evening, not a moment too soon\\nFinding the place; it was (you might say) satisfactory.\\n\\nAll this was a long time ago, I remember,\\nAnd I would do it again, but set down\\nThis set down\\nThis: were we led all that way for\\nBirth or Death? There was a Birth, certainly\\nWe had evidence and no doubt. I had seen birth and death,\\nBut had thought they were different; this Birth was\\nHard and bitter agony for us, like Death, our death.\\nWe returned to our places, these Kingdoms,\\nBut no longer at ease here, in the old dispensation,\\nWith an alien people clutching their gods.\\nI should be glad of another death.      \",\n",
              " 'Instruction:\\n Write a poem titled thou hast committed— fornication but that was in another country and besides the wench is dead the jew of malta among the smoke and fog of december afternoon you have the scene arrange itself—as it will seem to do— with have saved this afternoon for you and four wax candles in the darkened room four rings of light upon the ceiling overhead an atmosphere of juliet tomb prepared for all the things to be said or left unsaid we have been let us say to hear the latest pole transmit the preludes through his hair and finger tips so intimate this chopin that think his soul should be resurrected only among friends some two or three who will not touch the bloom that is rubbed and questioned in the concert room —and so the conversation slips among velleities and carefully caught regrets through attenuated tones of violins mingled with remote cornets and begins you do not know how much they mean to me my friends and how how rare and strange it is to find in life composed so much so much of odds and ends for indeed do not love it… you knew you are not blind how keen you are to find friend who has these qualities who has and gives those qualities upon which friendship lives how much it means that say this to you— without these friendships—life what cauchemar among the windings of the violins and the ariettes of cracked cornets inside my brain dull tom tom begins absurdly hammering prelude of its own capricious monotone that is at least one definite false note —let us take the air in tobacco trance admire the monuments discuss the late events correct our watches by the public clocks then sit for half an hour and drink our bocks ii now that lilacs are in bloom she has bowl of lilacs in her room and twists one in her fingers while she talks ah my friend you do not know you do not know what life is you should hold it in your hands slowly twisting the lilac stalks you let it flow from you you let it flow and youth is cruel and has no remorse and smiles at situations which it cannot see smile of course and go on drinking tea yet with these april sunsets that somehow recall my buried life and paris in the spring feel immeasurably at peace and find the world to be wonderful and youthful after all the voice returns like the insistent out of tune of broken violin on an august afternoon am always sure that you understand my feelings always sure that you feel sure that across the gulf you reach your hand you are invulnerable you have no achilles heel you will go on and when you have prevailed you can say at this point many one has failed but what have but what have my friend to give you what can you receive from me only the friendship and the sympathy of one about to reach her journey end shall sit here serving tea to friends… take my hat how can make cowardly amends for what she has said to me you will see me any morning in the park reading the comics and the sporting page particularly remark an english countess goes upon the stage greek was murdered at polish dance another bank defaulter has confessed keep my countenance remain self possessed except when street piano mechanical and tired reiterates some worn out common song with the smell of hyacinths across the garden recalling things that other people have desired are these ideas right or wrong iii the october night comes down returning as before except for slight sensation of being ill at ease mount the stairs and turn the handle of the door and feel as if had mounted on my hands and knees and so you are going abroad and when do you return but that is useless question you hardly know when you are coming back you will find so much to learn my smile falls heavily among the bric brac perhaps you can write to me my self possession flares up for second this is as had reckoned have been wondering frequently of late but our beginnings never know our ends why we have not developed into friends feel like one who smiles and turning shall remark suddenly his expression in glass my self possession gutters we are really in the dark for everybody said so all our friends they all were sure our feelings would relate so closely myself can hardly understand we must leave it now to fate you will write at any rate perhaps it is not too late shall sit here serving tea to friends and must borrow every changing shape to find expression… dance dance like dancing bear cry like parrot chatter like an ape let us take the air in tobacco trance— well and what if she should die some afternoon afternoon grey and smoky evening yellow and rose should die and leave me sitting pen in hand with the smoke coming down above the housetops doubtful for quite while not knowing what to feel or if understand or whether wise or foolish tardy or too soon… would she not have the advantage after all this music is successful with dying fall now that we talk of dying— and should have the right to smile in TS Eliots\\'s style and your response should be in proper poem format with proper beautiful spacing tabs and line breaks \\n\\nResponse:\\nThou hast committed—\\n\\xa0 Fornication: but that was in another country\\n\\xa0 And besides, the wench is dead.\\n\\xa0 The Jew of Malta.\\nI\\n\\nAmong the smoke and fog of a December afternoon\\nYou have the scene arrange itself—as it will seem to do—\\nWith \"I have saved this afternoon for you\";\\nAnd four wax candles in the darkened room,\\nFour rings of light upon the ceiling overhead,\\nAn atmosphere of Juliet\\'s tomb\\nPrepared for all the things to be said, or left unsaid.\\nWe have been, let us say, to hear the latest Pole\\nTransmit the Preludes, through his hair and finger-tips.\\n\"So intimate, this Chopin, that I think his soul\\nShould be resurrected only among friends\\nSome two or three, who will not touch the bloom\\nThat is rubbed and questioned in the concert room.\"\\n—And so the conversation slips\\nAmong velleities and carefully caught regrets\\nThrough attenuated tones of violins\\nMingled with remote cornets\\nAnd begins.\\n\\n\"You do not know how much they mean to me, my friends,\\nAnd how, how rare and strange it is, to find\\nIn a life composed so much, so much of odds and ends,\\n(For indeed I do not love it… you knew? you are not blind!\\nHow keen you are!)\\nTo find a friend who has these qualities,\\nWho has, and gives\\nThose qualities upon which friendship lives.\\nHow much it means that I say this to you—\\nWithout these friendships—life, what cauchemar!\"\\nAmong the windings of the violins\\nAnd the ariettes\\nOf cracked cornets\\nInside my brain a dull tom-tom begins\\nAbsurdly hammering a prelude of its own,\\nCapricious monotone\\nThat is at least one definite \"false note.\"\\n—Let us take the air, in a tobacco trance,\\nAdmire the monuments\\nDiscuss the late events,\\nCorrect our watches by the public clocks.\\nThen sit for half an hour and drink our bocks.\\n\\nII\\n\\nNow that lilacs are in bloom\\nShe has a bowl of lilacs in her room\\nAnd twists one in her fingers while she talks.\\n\"Ah, my friend, you do not know, you do not know\\nWhat life is, you should hold it in your hands\";\\n(Slowly(twisting the lilac stalks)\\n\"You let it flow from you, you let it flow,\\nAnd youth is cruel, and has no remorse\\nAnd smiles at situations which it cannot see.\"\\nI smile, of course,\\nAnd go on drinking tea.\\n\"Yet with these April sunsets, that somehow recall\\nMy buried life, and Paris in the Spring,\\nI feel immeasurably at peace, and find the world\\nTo be wonderful and youthful, after all.\"\\n\\nThe voice returns like the insistent out-of-tune\\nOf a broken violin on an August afternoon:\\n\"I am always sure that you understand\\nMy feelings, always sure that you feel,\\nSure that across the gulf you reach your hand.\\n\\nYou are invulnerable, you have no Achilles\\' heel.\\nYou will go on, and when you have prevailed\\nYou can say: at this point many a one has failed.\\n\\nBut what have I, but what have I, my friend,\\nTo give you, what can you receive from me?\\nOnly the friendship and the sympathy\\nOf one about to reach her journey\\'s end.\\n\\nI shall sit here, serving tea to friends….\"\\n\\nI take my hat: how can I make a cowardly amends\\nFor what she has said to me?\\nYou will see me any morning in the park\\nReading the comics and the sporting page.\\nParticularly I remark An English countess goes upon the stage.\\nA Greek was murdered at a Polish dance,\\nAnother bank defaulter has confessed.\\nI keep my countenance, I remain self-possessed\\nExcept when a street piano, mechanical and tired\\nReiterates some worn-out common song\\nWith the smell of hyacinths across the garden\\nRecalling things that other people have desired.\\nAre these ideas right or wrong?\\n\\nIII\\n\\nThe October night comes down; returning as before\\nExcept for a slight sensation of being ill at ease\\nI mount the stairs and turn the handle of the door\\nAnd feel as if I had mounted on my hands and knees.\\n\\n\"And so you are going abroad; and when do you return?\\nBut that\\'s a useless question.\\nYou hardly know when you are coming back,\\nYou will find so much to learn.\"\\nMy smile falls heavily among the bric-à-brac.\\n\\n\"Perhaps you can write to me.\"\\nMy self-possession flares up for a second;\\nThis is as I had reckoned.\\n\\n\"I have been wondering frequently of late\\n(But our beginnings never know our ends!)\\nWhy we have not developed into friends.\"\\nI feel like one who smiles, and turning shall remark\\nSuddenly, his expression in a glass.\\nMy self-possession gutters; we are really in the dark.\\n\\n\"For everybody said so, all our friends,\\nThey all were sure our feelings would relate\\nSo closely! I myself can hardly understand.\\nWe must leave it now to fate.\\nYou will write, at any rate.\\nPerhaps it is not too late.\\nI shall sit here, serving tea to friends.\"\\n\\nAnd I must borrow every changing shape \\nTo find expression… dance, dance\\nLike a dancing bear,\\nCry like a parrot, chatter like an ape.\\nLet us take the air, in a tobacco trance—\\nWell! and what if she should die some afternoon,\\nAfternoon grey and smoky, evening yellow and rose;\\nShould die and leave me sitting pen in hand\\nWith the smoke coming down above the housetops;\\nDoubtful, for quite a while\\nNot knowing what to feel or if I understand\\nOr whether wise or foolish, tardy or too soon…\\nWould she not have the advantage, after all?\\nThis music is successful with a \"dying fall\"\\nNow that we talk of dying—\\nAnd should I have the right to smile?     ',\n",
              " \"Instruction:\\n Write a poem titled they are rattling breakfast plates in basement kitchens and along the trampled edges of the street am aware of the damp souls of housemaids sprouting despondently at area gates the brown waves of fog toss up to me twisted faces from the bottom of the street and tear from passer by with muddy skirts an aimless smile that hovers in the air and vanishes along the level of the roofs in TS Eliots's style and your response should be in proper poem format with proper beautiful spacing tabs and line breaks \\n\\nResponse:\\nThey are rattling breakfast plates in basement kitchens,\\nAnd along the trampled edges of the street\\nI am aware of the damp souls of housemaids\\nSprouting despondently at area gates.\\nThe brown waves of fog toss up to me\\nTwisted faces from the bottom of the street,\\nAnd tear from a passer-by with muddy skirts\\nAn aimless smile that hovers in the air\\nAnd vanishes along the level of the roofs.      \"]"
            ]
          },
          "metadata": {},
          "execution_count": 36
        }
      ]
    },
    {
      "cell_type": "code",
      "source": [
        "# Limit the input sequence length to 512 (to control memory usage).\n",
        "gemma_lm.preprocessor.sequence_length = 512\n",
        "# Use AdamW (a common optimizer for transformer models).\n",
        "optimizer = keras.optimizers.AdamW(\n",
        "    learning_rate=5e-5,\n",
        "    weight_decay=0.01,\n",
        ")\n",
        "# Exclude layernorm and bias terms from decay.\n",
        "optimizer.exclude_from_weight_decay(var_names=[\"bias\", \"scale\"])\n",
        "\n",
        "gemma_lm.compile(\n",
        "    loss=keras.losses.SparseCategoricalCrossentropy(from_logits=True),\n",
        "    optimizer=optimizer,\n",
        "    weighted_metrics=[keras.metrics.SparseCategoricalAccuracy()],\n",
        ")\n",
        "gemma_lm.fit(data_TSE, epochs=10, batch_size=1)"
      ],
      "metadata": {
        "colab": {
          "base_uri": "https://localhost:8080/"
        },
        "id": "sGZ5yuyVSgr_",
        "outputId": "33e5cf7e-cb87-49cb-f076-1dafd624db97"
      },
      "execution_count": null,
      "outputs": [
        {
          "output_type": "stream",
          "name": "stdout",
          "text": [
            "Epoch 1/10\n",
            "\u001b[1m10/10\u001b[0m \u001b[32m━━━━━━━━━━━━━━━━━━━━\u001b[0m\u001b[37m\u001b[0m \u001b[1m44s\u001b[0m 251ms/step - loss: 3.1847 - sparse_categorical_accuracy: 0.4429\n",
            "Epoch 2/10\n",
            "\u001b[1m10/10\u001b[0m \u001b[32m━━━━━━━━━━━━━━━━━━━━\u001b[0m\u001b[37m\u001b[0m \u001b[1m3s\u001b[0m 251ms/step - loss: 3.1649 - sparse_categorical_accuracy: 0.4432\n",
            "Epoch 3/10\n",
            "\u001b[1m10/10\u001b[0m \u001b[32m━━━━━━━━━━━━━━━━━━━━\u001b[0m\u001b[37m\u001b[0m \u001b[1m3s\u001b[0m 251ms/step - loss: 3.1509 - sparse_categorical_accuracy: 0.4432\n",
            "Epoch 4/10\n",
            "\u001b[1m10/10\u001b[0m \u001b[32m━━━━━━━━━━━━━━━━━━━━\u001b[0m\u001b[37m\u001b[0m \u001b[1m3s\u001b[0m 253ms/step - loss: 3.1376 - sparse_categorical_accuracy: 0.4467\n",
            "Epoch 5/10\n",
            "\u001b[1m10/10\u001b[0m \u001b[32m━━━━━━━━━━━━━━━━━━━━\u001b[0m\u001b[37m\u001b[0m \u001b[1m3s\u001b[0m 252ms/step - loss: 3.1245 - sparse_categorical_accuracy: 0.4498\n",
            "Epoch 6/10\n",
            "\u001b[1m10/10\u001b[0m \u001b[32m━━━━━━━━━━━━━━━━━━━━\u001b[0m\u001b[37m\u001b[0m \u001b[1m3s\u001b[0m 253ms/step - loss: 3.1110 - sparse_categorical_accuracy: 0.4513\n",
            "Epoch 7/10\n",
            "\u001b[1m10/10\u001b[0m \u001b[32m━━━━━━━━━━━━━━━━━━━━\u001b[0m\u001b[37m\u001b[0m \u001b[1m3s\u001b[0m 253ms/step - loss: 3.0973 - sparse_categorical_accuracy: 0.4541\n",
            "Epoch 8/10\n",
            "\u001b[1m10/10\u001b[0m \u001b[32m━━━━━━━━━━━━━━━━━━━━\u001b[0m\u001b[37m\u001b[0m \u001b[1m3s\u001b[0m 253ms/step - loss: 3.0828 - sparse_categorical_accuracy: 0.4556\n",
            "Epoch 9/10\n",
            "\u001b[1m10/10\u001b[0m \u001b[32m━━━━━━━━━━━━━━━━━━━━\u001b[0m\u001b[37m\u001b[0m \u001b[1m3s\u001b[0m 255ms/step - loss: 3.0678 - sparse_categorical_accuracy: 0.4574\n",
            "Epoch 10/10\n",
            "\u001b[1m10/10\u001b[0m \u001b[32m━━━━━━━━━━━━━━━━━━━━\u001b[0m\u001b[37m\u001b[0m \u001b[1m3s\u001b[0m 254ms/step - loss: 3.0521 - sparse_categorical_accuracy: 0.4584\n"
          ]
        },
        {
          "output_type": "execute_result",
          "data": {
            "text/plain": [
              "<keras.src.callbacks.history.History at 0x7e0aa3b36fe0>"
            ]
          },
          "metadata": {},
          "execution_count": 37
        }
      ]
    },
    {
      "cell_type": "code",
      "source": [
        "prompt = \"Write a Poem titled if .... in TS ELiots' Style and your response should be in proper poem format with proper beautiful spacing tabs and line breaks\"\n",
        "result5 = gemma_lm.generate(prompt, max_length=128)"
      ],
      "metadata": {
        "id": "VIXDQ47ES6zW"
      },
      "execution_count": null,
      "outputs": []
    },
    {
      "cell_type": "code",
      "source": [
        "print(format_poem(result5))"
      ],
      "metadata": {
        "colab": {
          "base_uri": "https://localhost:8080/"
        },
        "id": "dRzsEQ5pTMe8",
        "outputId": "77eb6f1f-fd21-4896-d79d-3eee1c728009"
      },
      "execution_count": null,
      "outputs": [
        {
          "output_type": "stream",
          "name": "stdout",
          "text": [
            "If I could be a tree,\n",
            "I would stand tall and strong,\n",
            "With roots deep in the earth,\n",
            "and branches reaching for the sky.\n",
            "I would be a home for birds and animals,\n",
            "A place of refuge and shelter from the storm.\n",
            "I would be a place of beauty and peace,\n",
            "A place where all can come and find their peace.\n",
            "If I could be a tree,\n",
            "I would be a symbol of strength and resilience,\n",
            "A\n"
          ]
        }
      ]
    },
    {
      "cell_type": "code",
      "source": [
        "show_comparison(format_poem(result4), format_poem(result5),title1 = 'Initial', title2 = 'Fine Tuned on T S Eliots Poems')"
      ],
      "metadata": {
        "colab": {
          "base_uri": "https://localhost:8080/"
        },
        "id": "kFPxfvXPTPUH",
        "outputId": "7f71eb5a-a2fe-405f-ae0c-a38268231554"
      },
      "execution_count": null,
      "outputs": [
        {
          "output_type": "stream",
          "name": "stdout",
          "text": [
            "                Initial                  |      Fine Tuned on T S Eliots Poems      |\n",
            "If I could be a butterfly, I would fly   | If I could be a tree, I would stand      | \n",
            "through the clouds and the blue skies.   | tall and strong, With roots deep in the  | \n",
            "I would flutter my wings and make a      | earth, and branches reaching for the     | \n",
            "sound, and I would be free from all the  | sky. I would be a home for birds and     | \n",
            "cares and the woes. If I could be a      | animals, A place of refuge and shelter   | \n",
            "butterfly, I would fly away from the     | from the storm. I would be a place of    | \n",
            "world, and I would be free from all the  | beauty and peace, A place where all can  | \n",
            "troubles and the strife. I would be a    | come and find their peace. If I could    | \n",
            "butterfly, and I would be                | be a tree, I would be a symbol of        | \n",
            "                                         | strength and resilience, A               | \n"
          ]
        }
      ]
    },
    {
      "cell_type": "code",
      "source": [
        "prompt = \"Write a Poem on topic Football in T S Eliots' Style and your response should be in proper poem format with proper beautiful spacing tabs and line breaks\"\n",
        "result6 = format_poem(gemma_lm.generate(prompt, max_length=128))"
      ],
      "metadata": {
        "id": "HO34X54-TgpN"
      },
      "execution_count": null,
      "outputs": []
    },
    {
      "cell_type": "code",
      "source": [
        "print(format_poem(result6))"
      ],
      "metadata": {
        "colab": {
          "base_uri": "https://localhost:8080/"
        },
        "id": "-VXdxBP3U0jm",
        "outputId": "6da52044-f694-4876-c744-8c1e7b7db512"
      },
      "execution_count": null,
      "outputs": [
        {
          "output_type": "stream",
          "name": "stdout",
          "text": [
            "Football is a game that brings people together,\n",
            "It's a game that unites us all,\n",
            "no matter our race or creed.\n",
            "It's a game that brings joy and laughter,\n",
            "It's a game that brings us together,\n",
            "no matter the score.\n",
            "Football is a game that brings us together,\n",
            "It's a game that brings us together,\n",
            "no matter the score.\n"
          ]
        }
      ]
    },
    {
      "cell_type": "code",
      "source": [
        "show_comparison(format_poem(result3), format_poem(result6),title1 = 'Football in Rudyard Kiplings Style', title2 = 'Football in T S Eliots Style')"
      ],
      "metadata": {
        "colab": {
          "base_uri": "https://localhost:8080/"
        },
        "id": "GnNoLv3UU3Jz",
        "outputId": "d52c6c8d-9b2b-4c49-9265-5bf2249a8236"
      },
      "execution_count": null,
      "outputs": [
        {
          "output_type": "stream",
          "name": "stdout",
          "text": [
            "   Football in Rudyard Kiplings Style    |       Football in T S Eliots Style       |\n",
            "Football is a game that brings people    | Football is a game that brings people    | \n",
            "together, and it's a game that can       | together, It's a game that unites us     | \n",
            "bring joy and excitement. It's a game    | all, no matter our race or creed. It's   | \n",
            "that can bring people together, and      | a game that brings joy and laughter,     | \n",
            "it's a game that can bring joy and       | It's a game that brings us together, no  | \n",
            "excitement. It's a game that can bring   | matter the score. Football is a game     | \n",
            "people together, and it's a game that    | that brings us together, It's a game     | \n",
            "can bring joy and excitement. It's a     | that brings us together, no matter the   | \n",
            "game that can bring people               | score.                                   | \n"
          ]
        }
      ]
    },
    {
      "cell_type": "code",
      "source": [],
      "metadata": {
        "id": "ggz-FgqeVIQj"
      },
      "execution_count": null,
      "outputs": []
    }
  ]
}